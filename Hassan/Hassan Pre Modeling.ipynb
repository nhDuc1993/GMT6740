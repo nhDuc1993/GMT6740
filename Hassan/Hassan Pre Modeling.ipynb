{
 "cells": [
  {
   "cell_type": "markdown",
   "metadata": {},
   "source": [
    "# Load Required Packages"
   ]
  },
  {
   "cell_type": "code",
   "execution_count": 24,
   "metadata": {},
   "outputs": [],
   "source": [
    "import pandas as pd\n",
    "from sklearn.preprocessing import StandardScaler\n",
    "import pickle\n",
    "from scipy import sparse\n",
    "from scipy.sparse import hstack\n",
    "from DummyMaker import GetDummies"
   ]
  },
  {
   "cell_type": "markdown",
   "metadata": {},
   "source": [
    "# Define Variables"
   ]
  },
  {
   "cell_type": "code",
   "execution_count": 25,
   "metadata": {},
   "outputs": [],
   "source": [
    "Folder = \"E:\\\\datasets\\\\car\\\\\""
   ]
  },
  {
   "cell_type": "code",
   "execution_count": 26,
   "metadata": {},
   "outputs": [],
   "source": [
    "NumericalColumns = [\"mileage\", \"engine_displacement\", \"engine_power\"]\n",
    "ConvertToStringColumns = [\"stk_year\", \"door_count\", \"seat_count\", \"manufacture_year\"]\n",
    "PriceColumn = [\"price_eur\"]\n",
    "StringColumns = [\n",
    "    \"type\",  # Combination of Maker and Model\n",
    "    \"manufacture_year\",\n",
    "    \"body_type\",\n",
    "    \"stk_year\",\n",
    "    \"transmission\",\n",
    "    \"door_count\",\n",
    "    \"seat_count\",\n",
    "    \"fuel_type\",\n",
    "]"
   ]
  },
  {
   "cell_type": "markdown",
   "metadata": {},
   "source": [
    "# Load & Convert to Parquet"
   ]
  },
  {
   "cell_type": "code",
   "execution_count": 27,
   "metadata": {},
   "outputs": [],
   "source": [
    "Data = pd.read_csv(f\"{Folder}clean_df.csv\", low_memory=False)"
   ]
  },
  {
   "cell_type": "markdown",
   "metadata": {},
   "source": [
    "# Make an Extra Copy"
   ]
  },
  {
   "cell_type": "code",
   "execution_count": 28,
   "metadata": {},
   "outputs": [],
   "source": [
    "TData = Data.copy()"
   ]
  },
  {
   "cell_type": "markdown",
   "metadata": {},
   "source": [
    "# Combine Maker and Model\n",
    "Model is dependent on Maker. We shouldn't model maker separately."
   ]
  },
  {
   "cell_type": "code",
   "execution_count": 29,
   "metadata": {},
   "outputs": [],
   "source": [
    "TData[\"type\"] = (\n",
    "    TData[\"maker\"].apply(lambda x: \"\" if pd.isnull(x) else x)\n",
    "    + \"_\"\n",
    "    + TData[\"model\"].apply(lambda x: \"\" if pd.isnull(x) else x)\n",
    ")"
   ]
  },
  {
   "cell_type": "markdown",
   "metadata": {},
   "source": [
    "# Delete Any Unwanted Variables"
   ]
  },
  {
   "cell_type": "code",
   "execution_count": 30,
   "metadata": {},
   "outputs": [],
   "source": [
    "UnWantedVariables = [] + [\"date_created\", \"date_last_seen\", \"model\", \"maker\"]\n",
    "for x in UnWantedVariables:\n",
    "    if x in TData.columns:\n",
    "        del TData[x]"
   ]
  },
  {
   "cell_type": "markdown",
   "metadata": {},
   "source": [
    "# Transform some columns to string"
   ]
  },
  {
   "cell_type": "code",
   "execution_count": 31,
   "metadata": {},
   "outputs": [],
   "source": [
    "for c in ConvertToStringColumns:\n",
    "    TData[c] = TData[c].apply(lambda x: str(x) if not pd.isnull(x) else x)\n",
    "\n",
    "TData = TData[StringColumns + NumericalColumns + PriceColumn]"
   ]
  },
  {
   "cell_type": "markdown",
   "metadata": {},
   "source": [
    "# View Result"
   ]
  },
  {
   "cell_type": "code",
   "execution_count": 32,
   "metadata": {},
   "outputs": [
    {
     "data": {
      "text/html": [
       "<div>\n",
       "<style scoped>\n",
       "    .dataframe tbody tr th:only-of-type {\n",
       "        vertical-align: middle;\n",
       "    }\n",
       "\n",
       "    .dataframe tbody tr th {\n",
       "        vertical-align: top;\n",
       "    }\n",
       "\n",
       "    .dataframe thead th {\n",
       "        text-align: right;\n",
       "    }\n",
       "</style>\n",
       "<table border=\"1\" class=\"dataframe\">\n",
       "  <thead>\n",
       "    <tr style=\"text-align: right;\">\n",
       "      <th></th>\n",
       "      <th>type</th>\n",
       "      <th>manufacture_year</th>\n",
       "      <th>body_type</th>\n",
       "      <th>stk_year</th>\n",
       "      <th>transmission</th>\n",
       "      <th>door_count</th>\n",
       "      <th>seat_count</th>\n",
       "      <th>fuel_type</th>\n",
       "      <th>mileage</th>\n",
       "      <th>engine_displacement</th>\n",
       "      <th>engine_power</th>\n",
       "      <th>price_eur</th>\n",
       "    </tr>\n",
       "  </thead>\n",
       "  <tbody>\n",
       "    <tr>\n",
       "      <th>0</th>\n",
       "      <td>ford_galaxy</td>\n",
       "      <td>2011.0</td>\n",
       "      <td>compact</td>\n",
       "      <td>NaN</td>\n",
       "      <td>man</td>\n",
       "      <td>5.0</td>\n",
       "      <td>7.0</td>\n",
       "      <td>diesel</td>\n",
       "      <td>151000.0</td>\n",
       "      <td>2000.0</td>\n",
       "      <td>138.12506</td>\n",
       "      <td>10584.75</td>\n",
       "    </tr>\n",
       "    <tr>\n",
       "      <th>1</th>\n",
       "      <td>skoda_octavia</td>\n",
       "      <td>2012.0</td>\n",
       "      <td>compact</td>\n",
       "      <td>NaN</td>\n",
       "      <td>man</td>\n",
       "      <td>5.0</td>\n",
       "      <td>5.0</td>\n",
       "      <td>diesel</td>\n",
       "      <td>143476.0</td>\n",
       "      <td>2000.0</td>\n",
       "      <td>108.62262</td>\n",
       "      <td>8882.31</td>\n",
       "    </tr>\n",
       "    <tr>\n",
       "      <th>2</th>\n",
       "      <td>bmw_</td>\n",
       "      <td>2010.0</td>\n",
       "      <td>compact</td>\n",
       "      <td>NaN</td>\n",
       "      <td>man</td>\n",
       "      <td>5.0</td>\n",
       "      <td>5.0</td>\n",
       "      <td>diesel</td>\n",
       "      <td>97676.0</td>\n",
       "      <td>1995.0</td>\n",
       "      <td>113.98670</td>\n",
       "      <td>12065.06</td>\n",
       "    </tr>\n",
       "    <tr>\n",
       "      <th>3</th>\n",
       "      <td>skoda_fabia</td>\n",
       "      <td>2004.0</td>\n",
       "      <td>compact</td>\n",
       "      <td>NaN</td>\n",
       "      <td>man</td>\n",
       "      <td>5.0</td>\n",
       "      <td>5.0</td>\n",
       "      <td>gasoline</td>\n",
       "      <td>111970.0</td>\n",
       "      <td>1200.0</td>\n",
       "      <td>84.48426</td>\n",
       "      <td>2960.77</td>\n",
       "    </tr>\n",
       "    <tr>\n",
       "      <th>4</th>\n",
       "      <td>skoda_fabia</td>\n",
       "      <td>2004.0</td>\n",
       "      <td>compact</td>\n",
       "      <td>NaN</td>\n",
       "      <td>man</td>\n",
       "      <td>5.0</td>\n",
       "      <td>5.0</td>\n",
       "      <td>gasoline</td>\n",
       "      <td>128886.0</td>\n",
       "      <td>1200.0</td>\n",
       "      <td>84.48426</td>\n",
       "      <td>2738.71</td>\n",
       "    </tr>\n",
       "  </tbody>\n",
       "</table>\n",
       "</div>"
      ],
      "text/plain": [
       "            type manufacture_year body_type stk_year transmission door_count  \\\n",
       "0    ford_galaxy           2011.0   compact      NaN          man        5.0   \n",
       "1  skoda_octavia           2012.0   compact      NaN          man        5.0   \n",
       "2           bmw_           2010.0   compact      NaN          man        5.0   \n",
       "3    skoda_fabia           2004.0   compact      NaN          man        5.0   \n",
       "4    skoda_fabia           2004.0   compact      NaN          man        5.0   \n",
       "\n",
       "  seat_count fuel_type   mileage  engine_displacement  engine_power  price_eur  \n",
       "0        7.0    diesel  151000.0               2000.0     138.12506   10584.75  \n",
       "1        5.0    diesel  143476.0               2000.0     108.62262    8882.31  \n",
       "2        5.0    diesel   97676.0               1995.0     113.98670   12065.06  \n",
       "3        5.0  gasoline  111970.0               1200.0      84.48426    2960.77  \n",
       "4        5.0  gasoline  128886.0               1200.0      84.48426    2738.71  "
      ]
     },
     "execution_count": 32,
     "metadata": {},
     "output_type": "execute_result"
    }
   ],
   "source": [
    "TData.head()"
   ]
  },
  {
   "cell_type": "code",
   "execution_count": 33,
   "metadata": {},
   "outputs": [
    {
     "data": {
      "text/plain": [
       "type                    object\n",
       "manufacture_year        object\n",
       "body_type               object\n",
       "stk_year                object\n",
       "transmission            object\n",
       "door_count              object\n",
       "seat_count              object\n",
       "fuel_type               object\n",
       "mileage                float64\n",
       "engine_displacement    float64\n",
       "engine_power           float64\n",
       "price_eur              float64\n",
       "dtype: object"
      ]
     },
     "execution_count": 33,
     "metadata": {},
     "output_type": "execute_result"
    }
   ],
   "source": [
    "TData.dtypes"
   ]
  },
  {
   "cell_type": "markdown",
   "metadata": {},
   "source": [
    "# Scale Numerical Columns"
   ]
  },
  {
   "cell_type": "code",
   "execution_count": 34,
   "metadata": {},
   "outputs": [],
   "source": [
    "NumericalScaler = StandardScaler().fit(TData[NumericalColumns])\n",
    "TData[NumericalColumns] = NumericalScaler.transform(TData[NumericalColumns])"
   ]
  },
  {
   "cell_type": "code",
   "execution_count": 35,
   "metadata": {},
   "outputs": [],
   "source": [
    "with open(\"NumericalScaler.obj\", \"wb\") as NS_File:\n",
    "    pickle.dump(NumericalScaler, NS_File)"
   ]
  },
  {
   "cell_type": "code",
   "execution_count": 36,
   "metadata": {},
   "outputs": [],
   "source": [
    "PriceScaler = StandardScaler().fit(TData[PriceColumn])\n",
    "TData[PriceColumn] = PriceScaler.transform(TData[PriceColumn])"
   ]
  },
  {
   "cell_type": "code",
   "execution_count": 37,
   "metadata": {},
   "outputs": [],
   "source": [
    "with open(\"PriceScaler.obj\", \"wb\") as PS_File:\n",
    "    pickle.dump(PriceScaler, PS_File)"
   ]
  },
  {
   "cell_type": "markdown",
   "metadata": {},
   "source": [
    "# One Hot Encoding Categorical Variables\n",
    "https://dantegates.github.io/2018/05/04/a-fast-one-hot-encoder-with-sklearn-and-pandas.html"
   ]
  },
  {
   "cell_type": "code",
   "execution_count": 38,
   "metadata": {},
   "outputs": [],
   "source": [
    "Encoder = GetDummies().fit(TData[StringColumns])\n",
    "tran = Encoder.transform(TData[StringColumns])"
   ]
  },
  {
   "cell_type": "code",
   "execution_count": 39,
   "metadata": {},
   "outputs": [],
   "source": [
    "with open(\"Encoder.obj\", \"wb\") as Ec_File:\n",
    "    pickle.dump(Encoder, Ec_File)"
   ]
  },
  {
   "cell_type": "markdown",
   "metadata": {},
   "source": [
    "# Convert Everything to Sparse Format"
   ]
  },
  {
   "cell_type": "code",
   "execution_count": 40,
   "metadata": {},
   "outputs": [],
   "source": [
    "# Underlying function returns sparse data\n",
    "X = tran.sparse.to_coo().tocsr()\n",
    "X_WithOutNA = tran.sparse.to_coo().tocsr()"
   ]
  },
  {
   "cell_type": "code",
   "execution_count": 41,
   "metadata": {},
   "outputs": [],
   "source": [
    "# Add Numerical Columns too\n",
    "for x in NumericalColumns:\n",
    "    column = sparse.csr_matrix(TData[x]).T\n",
    "    columnWithoutNA =sparse.csr_matrix(TData[x].fillna(0)).T\n",
    "    X=hstack([X,column])\n",
    "    X_WithOutNA=hstack([X_WithOutNA,columnWithoutNA])"
   ]
  },
  {
   "cell_type": "code",
   "execution_count": 42,
   "metadata": {},
   "outputs": [],
   "source": [
    "y = sparse.csr_matrix(TData['price_eur']).T"
   ]
  },
  {
   "cell_type": "markdown",
   "metadata": {},
   "source": [
    "# Store to Sparse Data"
   ]
  },
  {
   "cell_type": "code",
   "execution_count": 43,
   "metadata": {},
   "outputs": [],
   "source": [
    "ColumnNames = list(Encoder.final_columns)+NumericalColumns+['price_eur']\n",
    "with open(\"ColumnNames.obj\", \"wb\") as CN_File:\n",
    "    pickle.dump(ColumnNames, CN_File)"
   ]
  },
  {
   "cell_type": "code",
   "execution_count": 44,
   "metadata": {},
   "outputs": [],
   "source": [
    "sparse.save_npz(f'{Folder}X_WithOutNA.npz',X_WithOutNA)"
   ]
  },
  {
   "cell_type": "code",
   "execution_count": 22,
   "metadata": {},
   "outputs": [],
   "source": [
    "sparse.save_npz(f'{Folder}X.npz',X)"
   ]
  },
  {
   "cell_type": "code",
   "execution_count": 23,
   "metadata": {},
   "outputs": [],
   "source": [
    "sparse.save_npz(f'{Folder}y.npz',y)"
   ]
  }
 ],
 "metadata": {
  "kernelspec": {
   "display_name": "Python 3",
   "language": "python",
   "name": "python3"
  },
  "language_info": {
   "codemirror_mode": {
    "name": "ipython",
    "version": 3
   },
   "file_extension": ".py",
   "mimetype": "text/x-python",
   "name": "python",
   "nbconvert_exporter": "python",
   "pygments_lexer": "ipython3",
   "version": "3.9.13"
  },
  "orig_nbformat": 4
 },
 "nbformat": 4,
 "nbformat_minor": 2
}
