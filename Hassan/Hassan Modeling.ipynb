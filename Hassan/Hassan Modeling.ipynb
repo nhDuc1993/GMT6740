{
 "cells": [
  {
   "cell_type": "markdown",
   "metadata": {},
   "source": [
    "# Load Required Packages"
   ]
  },
  {
   "cell_type": "code",
   "execution_count": 7,
   "metadata": {},
   "outputs": [],
   "source": [
    "import pandas as pd\n",
    "import numpy as np\n",
    "import gc\n",
    "import pickle"
   ]
  },
  {
   "cell_type": "code",
   "execution_count": 8,
   "metadata": {},
   "outputs": [],
   "source": [
    "from sklearn.tree import DecisionTreeRegressor\n",
    "from sklearn.neighbors import KNeighborsRegressor\n",
    "from sklearn.cluster import HDBSCAN\n",
    "from sklearn.metrics import r2_score\n",
    "from sklearn.model_selection import train_test_split\n",
    "from sklearn.decomposition import PCA\n",
    "from sklearn.linear_model import LinearRegression"
   ]
  },
  {
   "cell_type": "markdown",
   "metadata": {},
   "source": [
    "# Load"
   ]
  },
  {
   "cell_type": "code",
   "execution_count": 9,
   "metadata": {},
   "outputs": [],
   "source": [
    "Folder = \"E:\\\\datasets\\\\car\\\\\""
   ]
  },
  {
   "cell_type": "code",
   "execution_count": 13,
   "metadata": {},
   "outputs": [
    {
     "data": {
      "text/html": [
       "<div>\n",
       "<style scoped>\n",
       "    .dataframe tbody tr th:only-of-type {\n",
       "        vertical-align: middle;\n",
       "    }\n",
       "\n",
       "    .dataframe tbody tr th {\n",
       "        vertical-align: top;\n",
       "    }\n",
       "\n",
       "    .dataframe thead th {\n",
       "        text-align: right;\n",
       "    }\n",
       "</style>\n",
       "<table border=\"1\" class=\"dataframe\">\n",
       "  <thead>\n",
       "    <tr style=\"text-align: right;\">\n",
       "      <th></th>\n",
       "      <th>mileage</th>\n",
       "      <th>engine_displacement</th>\n",
       "      <th>engine_power</th>\n",
       "      <th>price_eur</th>\n",
       "      <th>type__</th>\n",
       "      <th>type_alfa-romeo_145</th>\n",
       "      <th>type_alfa-romeo_146</th>\n",
       "      <th>type_alfa-romeo_147</th>\n",
       "      <th>type_alfa-romeo_155</th>\n",
       "      <th>type_alfa-romeo_156</th>\n",
       "      <th>...</th>\n",
       "      <th>seat_count_2.0</th>\n",
       "      <th>seat_count_3.0</th>\n",
       "      <th>seat_count_4.0</th>\n",
       "      <th>seat_count_5.0</th>\n",
       "      <th>seat_count_6.0</th>\n",
       "      <th>seat_count_7.0</th>\n",
       "      <th>seat_count_8.0</th>\n",
       "      <th>seat_count_9.0</th>\n",
       "      <th>fuel_type_diesel</th>\n",
       "      <th>fuel_type_gasoline</th>\n",
       "    </tr>\n",
       "  </thead>\n",
       "  <tbody>\n",
       "    <tr>\n",
       "      <th>0</th>\n",
       "      <td>0.777224</td>\n",
       "      <td>0.218001</td>\n",
       "      <td>0.111079</td>\n",
       "      <td>-0.228444</td>\n",
       "      <td>False</td>\n",
       "      <td>False</td>\n",
       "      <td>False</td>\n",
       "      <td>False</td>\n",
       "      <td>False</td>\n",
       "      <td>False</td>\n",
       "      <td>...</td>\n",
       "      <td>False</td>\n",
       "      <td>False</td>\n",
       "      <td>False</td>\n",
       "      <td>False</td>\n",
       "      <td>False</td>\n",
       "      <td>True</td>\n",
       "      <td>False</td>\n",
       "      <td>False</td>\n",
       "      <td>True</td>\n",
       "      <td>False</td>\n",
       "    </tr>\n",
       "    <tr>\n",
       "      <th>1</th>\n",
       "      <td>0.683206</td>\n",
       "      <td>0.218001</td>\n",
       "      <td>-0.411832</td>\n",
       "      <td>-0.363319</td>\n",
       "      <td>False</td>\n",
       "      <td>False</td>\n",
       "      <td>False</td>\n",
       "      <td>False</td>\n",
       "      <td>False</td>\n",
       "      <td>False</td>\n",
       "      <td>...</td>\n",
       "      <td>False</td>\n",
       "      <td>False</td>\n",
       "      <td>False</td>\n",
       "      <td>True</td>\n",
       "      <td>False</td>\n",
       "      <td>False</td>\n",
       "      <td>False</td>\n",
       "      <td>False</td>\n",
       "      <td>True</td>\n",
       "      <td>False</td>\n",
       "    </tr>\n",
       "    <tr>\n",
       "      <th>2</th>\n",
       "      <td>0.110900</td>\n",
       "      <td>0.210865</td>\n",
       "      <td>-0.316757</td>\n",
       "      <td>-0.111166</td>\n",
       "      <td>False</td>\n",
       "      <td>False</td>\n",
       "      <td>False</td>\n",
       "      <td>False</td>\n",
       "      <td>False</td>\n",
       "      <td>False</td>\n",
       "      <td>...</td>\n",
       "      <td>False</td>\n",
       "      <td>False</td>\n",
       "      <td>False</td>\n",
       "      <td>True</td>\n",
       "      <td>False</td>\n",
       "      <td>False</td>\n",
       "      <td>False</td>\n",
       "      <td>False</td>\n",
       "      <td>True</td>\n",
       "      <td>False</td>\n",
       "    </tr>\n",
       "    <tr>\n",
       "      <th>3</th>\n",
       "      <td>0.289515</td>\n",
       "      <td>-0.923750</td>\n",
       "      <td>-0.839668</td>\n",
       "      <td>-0.832452</td>\n",
       "      <td>False</td>\n",
       "      <td>False</td>\n",
       "      <td>False</td>\n",
       "      <td>False</td>\n",
       "      <td>False</td>\n",
       "      <td>False</td>\n",
       "      <td>...</td>\n",
       "      <td>False</td>\n",
       "      <td>False</td>\n",
       "      <td>False</td>\n",
       "      <td>True</td>\n",
       "      <td>False</td>\n",
       "      <td>False</td>\n",
       "      <td>False</td>\n",
       "      <td>False</td>\n",
       "      <td>False</td>\n",
       "      <td>True</td>\n",
       "    </tr>\n",
       "    <tr>\n",
       "      <th>4</th>\n",
       "      <td>0.500893</td>\n",
       "      <td>-0.923750</td>\n",
       "      <td>-0.839668</td>\n",
       "      <td>-0.850044</td>\n",
       "      <td>False</td>\n",
       "      <td>False</td>\n",
       "      <td>False</td>\n",
       "      <td>False</td>\n",
       "      <td>False</td>\n",
       "      <td>False</td>\n",
       "      <td>...</td>\n",
       "      <td>False</td>\n",
       "      <td>False</td>\n",
       "      <td>False</td>\n",
       "      <td>True</td>\n",
       "      <td>False</td>\n",
       "      <td>False</td>\n",
       "      <td>False</td>\n",
       "      <td>False</td>\n",
       "      <td>False</td>\n",
       "      <td>True</td>\n",
       "    </tr>\n",
       "  </tbody>\n",
       "</table>\n",
       "<p>5 rows × 920 columns</p>\n",
       "</div>"
      ],
      "text/plain": [
       "    mileage  engine_displacement  engine_power  price_eur  type__  \\\n",
       "0  0.777224             0.218001      0.111079  -0.228444   False   \n",
       "1  0.683206             0.218001     -0.411832  -0.363319   False   \n",
       "2  0.110900             0.210865     -0.316757  -0.111166   False   \n",
       "3  0.289515            -0.923750     -0.839668  -0.832452   False   \n",
       "4  0.500893            -0.923750     -0.839668  -0.850044   False   \n",
       "\n",
       "   type_alfa-romeo_145  type_alfa-romeo_146  type_alfa-romeo_147  \\\n",
       "0                False                False                False   \n",
       "1                False                False                False   \n",
       "2                False                False                False   \n",
       "3                False                False                False   \n",
       "4                False                False                False   \n",
       "\n",
       "   type_alfa-romeo_155  type_alfa-romeo_156  ...  seat_count_2.0  \\\n",
       "0                False                False  ...           False   \n",
       "1                False                False  ...           False   \n",
       "2                False                False  ...           False   \n",
       "3                False                False  ...           False   \n",
       "4                False                False  ...           False   \n",
       "\n",
       "   seat_count_3.0  seat_count_4.0  seat_count_5.0  seat_count_6.0  \\\n",
       "0           False           False           False           False   \n",
       "1           False           False            True           False   \n",
       "2           False           False            True           False   \n",
       "3           False           False            True           False   \n",
       "4           False           False            True           False   \n",
       "\n",
       "   seat_count_7.0  seat_count_8.0  seat_count_9.0  fuel_type_diesel  \\\n",
       "0            True           False           False              True   \n",
       "1           False           False           False              True   \n",
       "2           False           False           False              True   \n",
       "3           False           False           False             False   \n",
       "4           False           False           False             False   \n",
       "\n",
       "   fuel_type_gasoline  \n",
       "0               False  \n",
       "1               False  \n",
       "2               False  \n",
       "3                True  \n",
       "4                True  \n",
       "\n",
       "[5 rows x 920 columns]"
      ]
     },
     "execution_count": 13,
     "metadata": {},
     "output_type": "execute_result"
    }
   ],
   "source": [
    "Sample = pd.read_parquet(f\"{Folder}SampleEncoded.parq\")\n",
    "Sample"
   ]
  },
  {
   "cell_type": "code",
   "execution_count": 11,
   "metadata": {},
   "outputs": [],
   "source": [
    "X = pd.read_parquet(f\"{Folder}X.parq\")\n",
    "X = X.fillna(0)\n",
    "\n",
    "y = pd.read_parquet(f\"{Folder}y.parq\")"
   ]
  },
  {
   "cell_type": "markdown",
   "metadata": {},
   "source": [
    "# Dimensionality Reduction"
   ]
  },
  {
   "cell_type": "code",
   "execution_count": null,
   "metadata": {},
   "outputs": [],
   "source": [
    "pca = PCA(n_components=2).fit(X)"
   ]
  },
  {
   "cell_type": "markdown",
   "metadata": {},
   "source": [
    "# Scan for outliers"
   ]
  },
  {
   "cell_type": "code",
   "execution_count": null,
   "metadata": {},
   "outputs": [],
   "source": [
    "dbs = HDBSCAN(min_cluster_size=5, leaf_size=100)"
   ]
  },
  {
   "cell_type": "code",
   "execution_count": null,
   "metadata": {},
   "outputs": [],
   "source": [
    "dbs = dbs.fit(EncodedData.iloc[0:10000])"
   ]
  },
  {
   "cell_type": "code",
   "execution_count": null,
   "metadata": {},
   "outputs": [],
   "source": [
    "dbs.labels_"
   ]
  },
  {
   "cell_type": "markdown",
   "metadata": {},
   "source": [
    "# Split into Training & Testing"
   ]
  },
  {
   "cell_type": "code",
   "execution_count": null,
   "metadata": {},
   "outputs": [],
   "source": [
    "X_train, X_test, y_train, y_test = train_test_split(\n",
    "    X, y, test_size=0.40, random_state=1991\n",
    ")\n",
    "\n",
    "if \"X\" in globals():\n",
    "    del globals()[\"X\"]\n",
    "\n",
    "if \"y\" in globals():\n",
    "    del globals()[\"y\"]\n",
    "\n",
    "gc.collect()"
   ]
  },
  {
   "cell_type": "markdown",
   "metadata": {},
   "source": [
    "# K Neighbors Regressor"
   ]
  },
  {
   "cell_type": "code",
   "execution_count": null,
   "metadata": {},
   "outputs": [],
   "source": [
    "kn = KNeighborsRegressor(25, weights=\"distance\")\n",
    "kn.fit(X_train, y_train)"
   ]
  },
  {
   "cell_type": "code",
   "execution_count": null,
   "metadata": {},
   "outputs": [],
   "source": [
    "with open(\"PriceScaler.obj\", \"rb\") as PS_File:\n",
    "    PriceScaler = pickle.load(PS_File)"
   ]
  },
  {
   "cell_type": "code",
   "execution_count": null,
   "metadata": {},
   "outputs": [],
   "source": [
    "Start = 150000\n",
    "Number = 500\n",
    "y_pred = kn.predict(X_test.iloc[Start : Start + Number])"
   ]
  },
  {
   "cell_type": "code",
   "execution_count": null,
   "metadata": {},
   "outputs": [],
   "source": [
    "Comparison = pd.concat(\n",
    "    [pd.DataFrame(y_pred), y_test.iloc[Start : Start + Number].reset_index(drop=True)],\n",
    "    axis=1,\n",
    ")\n",
    "Comparison = pd.DataFrame(\n",
    "    PriceScaler.inverse_transform(Comparison), columns=[\"Predicted\", \"Price\"]\n",
    ")\n",
    "print(len(Comparison))\n",
    "display(Comparison.head())\n",
    "r2_score(Comparison[\"Price\"], Comparison[\"Predicted\"])"
   ]
  },
  {
   "cell_type": "code",
   "execution_count": null,
   "metadata": {},
   "outputs": [],
   "source": []
  },
  {
   "cell_type": "markdown",
   "metadata": {},
   "source": [
    "# DBScan"
   ]
  },
  {
   "cell_type": "code",
   "execution_count": null,
   "metadata": {},
   "outputs": [],
   "source": [
    "db = DBSCAN(min_samples=100)\n",
    "db.fit(X)"
   ]
  },
  {
   "cell_type": "markdown",
   "metadata": {},
   "source": [
    "# Decision Tree Regressor"
   ]
  },
  {
   "cell_type": "code",
   "execution_count": null,
   "metadata": {},
   "outputs": [],
   "source": [
    "reg = DecisionTreeRegressor().fit(X, y)\n",
    "y_pred = reg.predict(X)\n",
    "r2_score(y_pred, y)"
   ]
  },
  {
   "cell_type": "code",
   "execution_count": null,
   "metadata": {},
   "outputs": [],
   "source": []
  },
  {
   "cell_type": "code",
   "execution_count": null,
   "metadata": {},
   "outputs": [],
   "source": []
  },
  {
   "cell_type": "code",
   "execution_count": null,
   "metadata": {},
   "outputs": [],
   "source": []
  },
  {
   "cell_type": "code",
   "execution_count": null,
   "metadata": {},
   "outputs": [],
   "source": [
    "# dummies[\"Y\"] = y\n",
    "# dummies[\"Pred\"] = y_pred\n",
    "# dummies[\"Diff\"] = (dummies[\"Y\"] - dummies[\"Pred\"]).abs()\n",
    "# gc.collect()\n",
    "# Data = pd.read_parquet(\"clean_df.parq\")\n",
    "# Data[\"Pred\"] = dummies[\"Pred\"]\n",
    "# Data[\"Diff\"] = dummies[\"Diff\"]\n",
    "# Data = Data.sort_values(by=\"Diff\", ascending=False)\n",
    "# Data.to_parquet(\"PredictionDifferences.parq\")\n",
    "# Data[(Data[\"maker\"] == \"volkswagen\") & (Data[\"model\"] == \"tiguan\")][\"price_eur\"].hist()"
   ]
  }
 ],
 "metadata": {
  "kernelspec": {
   "display_name": "Python 3",
   "language": "python",
   "name": "python3"
  },
  "language_info": {
   "codemirror_mode": {
    "name": "ipython",
    "version": 3
   },
   "file_extension": ".py",
   "mimetype": "text/x-python",
   "name": "python",
   "nbconvert_exporter": "python",
   "pygments_lexer": "ipython3",
   "version": "3.9.13"
  },
  "orig_nbformat": 4
 },
 "nbformat": 4,
 "nbformat_minor": 2
}
