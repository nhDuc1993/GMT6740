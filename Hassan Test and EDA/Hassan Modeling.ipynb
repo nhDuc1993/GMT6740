{
 "cells": [
  {
   "cell_type": "markdown",
   "metadata": {},
   "source": [
    "# Load Required Packages"
   ]
  },
  {
   "cell_type": "code",
   "execution_count": 1,
   "metadata": {},
   "outputs": [],
   "source": [
    "import pandas as pd\n",
    "import numpy as np\n",
    "from sklearn.tree import DecisionTreeRegressor\n",
    "from sklearn.metrics import r2_score\n",
    "import gc"
   ]
  },
  {
   "cell_type": "markdown",
   "metadata": {},
   "source": [
    "# Modeling"
   ]
  },
  {
   "cell_type": "code",
   "execution_count": 2,
   "metadata": {},
   "outputs": [],
   "source": [
    "Data = pd.read_parquet('clean_df.parq')"
   ]
  },
  {
   "cell_type": "code",
   "execution_count": 3,
   "metadata": {},
   "outputs": [],
   "source": [
    "TrannsformedTypes = Data.copy()\n",
    "TrannsformedTypes['stk_year'] =TrannsformedTypes['stk_year'].apply(lambda x: str(x) if not pd.isnull(x) else x)\n",
    "TrannsformedTypes['door_count'] =TrannsformedTypes['door_count'].apply(lambda x: str(x) if not pd.isnull(x) else x)\n",
    "TrannsformedTypes['seat_count'] =TrannsformedTypes['seat_count'].apply(lambda x: str(x) if not pd.isnull(x) else x)"
   ]
  },
  {
   "cell_type": "code",
   "execution_count": 4,
   "metadata": {},
   "outputs": [
    {
     "data": {
      "text/plain": [
       "maker                   object\n",
       "model                   object\n",
       "mileage                float64\n",
       "manufacture_year       float64\n",
       "engine_displacement    float64\n",
       "engine_power           float64\n",
       "body_type               object\n",
       "stk_year                object\n",
       "transmission            object\n",
       "door_count              object\n",
       "seat_count              object\n",
       "fuel_type               object\n",
       "date_created            object\n",
       "date_last_seen          object\n",
       "price_eur              float64\n",
       "dtype: object"
      ]
     },
     "execution_count": 4,
     "metadata": {},
     "output_type": "execute_result"
    }
   ],
   "source": [
    "TrannsformedTypes.dtypes"
   ]
  },
  {
   "cell_type": "code",
   "execution_count": 5,
   "metadata": {},
   "outputs": [],
   "source": [
    "X = TrannsformedTypes[\n",
    "    [\n",
    "        \"stk_year\",\n",
    "        \"maker\",\n",
    "        \"model\",\n",
    "        \"body_type\",\n",
    "        \"transmission\",\n",
    "        \"door_count\",\n",
    "        \"seat_count\",\n",
    "        \"fuel_type\",\n",
    "        \"mileage\",\n",
    "        \"manufacture_year\",\n",
    "        \"engine_displacement\",\n",
    "        \"engine_power\",\n",
    "    ]\n",
    "]\n",
    "dummies = pd.get_dummies(X)\n",
    "y = TrannsformedTypes[[\"price_eur\"]]"
   ]
  },
  {
   "cell_type": "code",
   "execution_count": 6,
   "metadata": {},
   "outputs": [
    {
     "data": {
      "text/plain": [
       "0"
      ]
     },
     "execution_count": 6,
     "metadata": {},
     "output_type": "execute_result"
    }
   ],
   "source": [
    "del X,Data,TrannsformedTypes\n",
    "gc.collect()"
   ]
  },
  {
   "cell_type": "code",
   "execution_count": 7,
   "metadata": {},
   "outputs": [],
   "source": [
    "reg = DecisionTreeRegressor().fit(dummies,y)"
   ]
  },
  {
   "cell_type": "code",
   "execution_count": 8,
   "metadata": {},
   "outputs": [],
   "source": [
    "y_pred = reg.predict(dummies)"
   ]
  },
  {
   "cell_type": "code",
   "execution_count": 9,
   "metadata": {},
   "outputs": [
    {
     "data": {
      "text/plain": [
       "0.6749596337001986"
      ]
     },
     "execution_count": 9,
     "metadata": {},
     "output_type": "execute_result"
    }
   ],
   "source": [
    "r2_score(y_pred, y)"
   ]
  },
  {
   "cell_type": "code",
   "execution_count": 10,
   "metadata": {},
   "outputs": [],
   "source": [
    "dummies['Y'] = y\n",
    "dummies['Pred'] = y_pred\n",
    "dummies['Diff'] = (dummies['Y']-dummies['Pred']).abs()"
   ]
  },
  {
   "cell_type": "code",
   "execution_count": 11,
   "metadata": {},
   "outputs": [
    {
     "data": {
      "text/plain": [
       "0"
      ]
     },
     "execution_count": 11,
     "metadata": {},
     "output_type": "execute_result"
    }
   ],
   "source": [
    "gc.collect()"
   ]
  },
  {
   "cell_type": "code",
   "execution_count": 12,
   "metadata": {},
   "outputs": [],
   "source": [
    "Data = pd.read_parquet('clean_df.parq')"
   ]
  },
  {
   "cell_type": "code",
   "execution_count": 13,
   "metadata": {},
   "outputs": [],
   "source": [
    "Data['Pred'] =dummies['Pred']\n",
    "Data['Diff'] = dummies['Diff']\n"
   ]
  },
  {
   "cell_type": "code",
   "execution_count": 14,
   "metadata": {},
   "outputs": [],
   "source": [
    "Data=Data.sort_values(by='Diff',ascending=False)"
   ]
  },
  {
   "cell_type": "code",
   "execution_count": 15,
   "metadata": {},
   "outputs": [],
   "source": [
    "Data.to_parquet('PredictionDifferences.parq')"
   ]
  },
  {
   "cell_type": "code",
   "execution_count": 16,
   "metadata": {},
   "outputs": [
    {
     "data": {
      "text/plain": [
       "<Axes: >"
      ]
     },
     "execution_count": 16,
     "metadata": {},
     "output_type": "execute_result"
    },
    {
     "data": {
      "image/png": "[encoded data removed]",
      "text/plain": [
       "<Figure size 640x480 with 1 Axes>"
      ]
     },
     "metadata": {},
     "output_type": "display_data"
    }
   ],
   "source": [
    "Data[(Data['maker']== 'volkswagen') & (Data['model']== 'tiguan')]['price_eur'].hist()"
   ]
  }
 ],
 "metadata": {
  "kernelspec": {
   "display_name": "Python 3",
   "language": "python",
   "name": "python3"
  },
  "language_info": {
   "codemirror_mode": {
    "name": "ipython",
    "version": 3
   },
   "file_extension": ".py",
   "mimetype": "text/x-python",
   "name": "python",
   "nbconvert_exporter": "python",
   "pygments_lexer": "ipython3",
   "version": "3.9.13"
  },
  "orig_nbformat": 4
 },
 "nbformat": 4,
 "nbformat_minor": 2
}
