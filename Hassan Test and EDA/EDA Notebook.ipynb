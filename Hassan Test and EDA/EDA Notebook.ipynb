{
 "cells": [
  {
   "cell_type": "markdown",
   "metadata": {},
   "source": [
    "# Load Required Packages"
   ]
  },
  {
   "cell_type": "code",
   "execution_count": 2,
   "metadata": {},
   "outputs": [],
   "source": [
    "import pandas as pd\n",
    "import numpy as np"
   ]
  },
  {
   "cell_type": "markdown",
   "metadata": {},
   "source": [
    "# Convert to parquet and load the data"
   ]
  },
  {
   "cell_type": "code",
   "execution_count": 3,
   "metadata": {},
   "outputs": [],
   "source": [
    "# data = pd.read_csv('all_anonymized_2015_11_2017_03.csv',low_memory=False)\n",
    "# IDXData = data.reset_index()\n",
    "# IDXData['index'] = 'AD-' + IDXData['index'].astype('str')\n",
    "# Summary = IDXData.describe(include='all')\n",
    "# IDXData.to_parquet('ParquetData.parquet')"
   ]
  },
  {
   "cell_type": "code",
   "execution_count": 4,
   "metadata": {},
   "outputs": [
    {
     "data": {
      "text/html": [
       "<div>\n",
       "<style scoped>\n",
       "    .dataframe tbody tr th:only-of-type {\n",
       "        vertical-align: middle;\n",
       "    }\n",
       "\n",
       "    .dataframe tbody tr th {\n",
       "        vertical-align: top;\n",
       "    }\n",
       "\n",
       "    .dataframe thead th {\n",
       "        text-align: right;\n",
       "    }\n",
       "</style>\n",
       "<table border=\"1\" class=\"dataframe\">\n",
       "  <thead>\n",
       "    <tr style=\"text-align: right;\">\n",
       "      <th></th>\n",
       "      <th>index</th>\n",
       "      <th>maker</th>\n",
       "      <th>model</th>\n",
       "      <th>mileage</th>\n",
       "      <th>manufacture_year</th>\n",
       "      <th>engine_displacement</th>\n",
       "      <th>engine_power</th>\n",
       "      <th>body_type</th>\n",
       "      <th>color_slug</th>\n",
       "      <th>stk_year</th>\n",
       "      <th>transmission</th>\n",
       "      <th>door_count</th>\n",
       "      <th>seat_count</th>\n",
       "      <th>fuel_type</th>\n",
       "      <th>date_created</th>\n",
       "      <th>date_last_seen</th>\n",
       "      <th>price_eur</th>\n",
       "    </tr>\n",
       "  </thead>\n",
       "  <tbody>\n",
       "    <tr>\n",
       "      <th>0</th>\n",
       "      <td>AD-0</td>\n",
       "      <td>ford</td>\n",
       "      <td>galaxy</td>\n",
       "      <td>151000.0</td>\n",
       "      <td>2011.0</td>\n",
       "      <td>2000.0</td>\n",
       "      <td>103.0</td>\n",
       "      <td>None</td>\n",
       "      <td>None</td>\n",
       "      <td>NaN</td>\n",
       "      <td>man</td>\n",
       "      <td>5.0</td>\n",
       "      <td>7.0</td>\n",
       "      <td>diesel</td>\n",
       "      <td>2015-11-14 18:10:06.838319+00</td>\n",
       "      <td>2016-01-27 20:40:15.46361+00</td>\n",
       "      <td>10584.75</td>\n",
       "    </tr>\n",
       "    <tr>\n",
       "      <th>1</th>\n",
       "      <td>AD-1</td>\n",
       "      <td>skoda</td>\n",
       "      <td>octavia</td>\n",
       "      <td>143476.0</td>\n",
       "      <td>2012.0</td>\n",
       "      <td>2000.0</td>\n",
       "      <td>81.0</td>\n",
       "      <td>None</td>\n",
       "      <td>None</td>\n",
       "      <td>NaN</td>\n",
       "      <td>man</td>\n",
       "      <td>5.0</td>\n",
       "      <td>5.0</td>\n",
       "      <td>diesel</td>\n",
       "      <td>2015-11-14 18:10:06.853411+00</td>\n",
       "      <td>2016-01-27 20:40:15.46361+00</td>\n",
       "      <td>8882.31</td>\n",
       "    </tr>\n",
       "  </tbody>\n",
       "</table>\n",
       "</div>"
      ],
      "text/plain": [
       "  index  maker    model   mileage  manufacture_year  engine_displacement  \\\n",
       "0  AD-0   ford   galaxy  151000.0            2011.0               2000.0   \n",
       "1  AD-1  skoda  octavia  143476.0            2012.0               2000.0   \n",
       "\n",
       "   engine_power body_type color_slug  stk_year transmission  door_count  \\\n",
       "0         103.0      None       None       NaN          man         5.0   \n",
       "1          81.0      None       None       NaN          man         5.0   \n",
       "\n",
       "   seat_count fuel_type                   date_created  \\\n",
       "0         7.0    diesel  2015-11-14 18:10:06.838319+00   \n",
       "1         5.0    diesel  2015-11-14 18:10:06.853411+00   \n",
       "\n",
       "                 date_last_seen  price_eur  \n",
       "0  2016-01-27 20:40:15.46361+00   10584.75  \n",
       "1  2016-01-27 20:40:15.46361+00    8882.31  "
      ]
     },
     "execution_count": 4,
     "metadata": {},
     "output_type": "execute_result"
    }
   ],
   "source": [
    "Data = pd.read_parquet(\"ParquetData.parquet\")\n",
    "Data.head(2)"
   ]
  },
  {
   "cell_type": "markdown",
   "metadata": {},
   "source": [
    "# Initial Cleaning"
   ]
  },
  {
   "cell_type": "raw",
   "metadata": {},
   "source": [
    "We need a list of reasonable columns with non-null values:\n",
    "maker, model, mileage, manufacture_year, engine_displacement, engine_power, body_type, stk_year, transmission, door_count, seat_count, fuel_type, price_eur\n",
    "\n",
    "Remove all cars with price of 1295.34. This seems like a default value or something and it is the price for electric, lpg, and CNG vehicles. There are 673623 cars with this price.\n",
    "\n",
    "We need at least 12 non null values in each row. This yields around 1,468,236 cars.\n",
    "Nulls Out of 15\n",
    "0        5188\n",
    "1      332598\n",
    "2     1130450\n",
    "3      619227\n",
    "4      522809\n",
    "5      268050\n",
    "6      225938\n",
    "7      199000\n",
    "8      126744\n",
    "9       88750\n",
    "10      29882\n",
    "11       4276\n",
    "Name: index, dtype: int64\n",
    "\n",
    "Replace None with nan."
   ]
  },
  {
   "cell_type": "code",
   "execution_count": 5,
   "metadata": {},
   "outputs": [],
   "source": [
    "Data = Data[(Data[\"maker\"].notnull()) & (Data[\"model\"].notnull())]"
   ]
  },
  {
   "cell_type": "code",
   "execution_count": 6,
   "metadata": {},
   "outputs": [],
   "source": [
    "MostImportantColumnsData = Data[\n",
    "    [\n",
    "        \"index\",\n",
    "        \"maker\",\n",
    "        \"model\",\n",
    "        \"mileage\",\n",
    "        \"manufacture_year\",\n",
    "        \"engine_displacement\",\n",
    "        \"engine_power\",\n",
    "        \"body_type\",\n",
    "        \"stk_year\",\n",
    "        \"transmission\",\n",
    "        \"door_count\",\n",
    "        \"seat_count\",\n",
    "        \"fuel_type\",\n",
    "        \"price_eur\",\n",
    "    ]\n",
    "].copy()"
   ]
  },
  {
   "cell_type": "code",
   "execution_count": 7,
   "metadata": {},
   "outputs": [
    {
     "data": {
      "text/plain": [
       "1779127"
      ]
     },
     "execution_count": 7,
     "metadata": {},
     "output_type": "execute_result"
    }
   ],
   "source": [
    "ReasonAblePrice = MostImportantColumnsData[\n",
    "    (MostImportantColumnsData[\"price_eur\"] >= 500)\n",
    "    & (MostImportantColumnsData[\"price_eur\"] <= 50000)\n",
    "    & (MostImportantColumnsData[\"price_eur\"] != 1295.34)\n",
    "].copy()\n",
    "len(ReasonAblePrice)"
   ]
  },
  {
   "cell_type": "code",
   "execution_count": 8,
   "metadata": {},
   "outputs": [
    {
     "name": "stdout",
     "output_type": "stream",
     "text": [
      "15\n",
      "1779127\n"
     ]
    },
    {
     "data": {
      "text/plain": [
       "Nulls\n",
       "0      5024\n",
       "1    229749\n",
       "2    879909\n",
       "3    245652\n",
       "4    170815\n",
       "5     85705\n",
       "6     70017\n",
       "7     83572\n",
       "8      7050\n",
       "9      1634\n",
       "Name: index, dtype: int64"
      ]
     },
     "execution_count": 8,
     "metadata": {},
     "output_type": "execute_result"
    }
   ],
   "source": [
    "ReasonAblePrice[\"Nulls\"] = ReasonAblePrice.isnull().sum(axis=1)\n",
    "\n",
    "print(len(ReasonAblePrice.columns))\n",
    "print(len(ReasonAblePrice))\n",
    "\n",
    "ReasonAblePrice.groupby(\"Nulls\")[\"index\"].count()"
   ]
  },
  {
   "cell_type": "code",
   "execution_count": 9,
   "metadata": {},
   "outputs": [
    {
     "data": {
      "text/plain": [
       "1779127"
      ]
     },
     "execution_count": 9,
     "metadata": {},
     "output_type": "execute_result"
    }
   ],
   "source": [
    "LowNullData = ReasonAblePrice.fillna(value=np.nan)\n",
    "LowNullData = LowNullData.dropna(thresh=6)\n",
    "\n",
    "len(LowNullData)"
   ]
  },
  {
   "cell_type": "code",
   "execution_count": 10,
   "metadata": {},
   "outputs": [
    {
     "data": {
      "text/html": [
       "<div>\n",
       "<style scoped>\n",
       "    .dataframe tbody tr th:only-of-type {\n",
       "        vertical-align: middle;\n",
       "    }\n",
       "\n",
       "    .dataframe tbody tr th {\n",
       "        vertical-align: top;\n",
       "    }\n",
       "\n",
       "    .dataframe thead th {\n",
       "        text-align: right;\n",
       "    }\n",
       "</style>\n",
       "<table border=\"1\" class=\"dataframe\">\n",
       "  <thead>\n",
       "    <tr style=\"text-align: right;\">\n",
       "      <th></th>\n",
       "      <th>index</th>\n",
       "      <th>maker</th>\n",
       "      <th>model</th>\n",
       "      <th>mileage</th>\n",
       "      <th>manufacture_year</th>\n",
       "      <th>engine_displacement</th>\n",
       "      <th>engine_power</th>\n",
       "      <th>body_type</th>\n",
       "      <th>stk_year</th>\n",
       "      <th>transmission</th>\n",
       "      <th>door_count</th>\n",
       "      <th>seat_count</th>\n",
       "      <th>fuel_type</th>\n",
       "      <th>price_eur</th>\n",
       "      <th>Nulls</th>\n",
       "    </tr>\n",
       "  </thead>\n",
       "  <tbody>\n",
       "    <tr>\n",
       "      <th>0</th>\n",
       "      <td>AD-0</td>\n",
       "      <td>ford</td>\n",
       "      <td>galaxy</td>\n",
       "      <td>151000.0</td>\n",
       "      <td>2011.0</td>\n",
       "      <td>2000.0</td>\n",
       "      <td>103.0</td>\n",
       "      <td>NaN</td>\n",
       "      <td>NaN</td>\n",
       "      <td>man</td>\n",
       "      <td>5.0</td>\n",
       "      <td>7.0</td>\n",
       "      <td>diesel</td>\n",
       "      <td>10584.75</td>\n",
       "      <td>2</td>\n",
       "    </tr>\n",
       "    <tr>\n",
       "      <th>1</th>\n",
       "      <td>AD-1</td>\n",
       "      <td>skoda</td>\n",
       "      <td>octavia</td>\n",
       "      <td>143476.0</td>\n",
       "      <td>2012.0</td>\n",
       "      <td>2000.0</td>\n",
       "      <td>81.0</td>\n",
       "      <td>NaN</td>\n",
       "      <td>NaN</td>\n",
       "      <td>man</td>\n",
       "      <td>5.0</td>\n",
       "      <td>5.0</td>\n",
       "      <td>diesel</td>\n",
       "      <td>8882.31</td>\n",
       "      <td>2</td>\n",
       "    </tr>\n",
       "    <tr>\n",
       "      <th>3</th>\n",
       "      <td>AD-3</td>\n",
       "      <td>skoda</td>\n",
       "      <td>fabia</td>\n",
       "      <td>111970.0</td>\n",
       "      <td>2004.0</td>\n",
       "      <td>1200.0</td>\n",
       "      <td>47.0</td>\n",
       "      <td>NaN</td>\n",
       "      <td>NaN</td>\n",
       "      <td>man</td>\n",
       "      <td>5.0</td>\n",
       "      <td>5.0</td>\n",
       "      <td>gasoline</td>\n",
       "      <td>2960.77</td>\n",
       "      <td>2</td>\n",
       "    </tr>\n",
       "    <tr>\n",
       "      <th>4</th>\n",
       "      <td>AD-4</td>\n",
       "      <td>skoda</td>\n",
       "      <td>fabia</td>\n",
       "      <td>128886.0</td>\n",
       "      <td>2004.0</td>\n",
       "      <td>1200.0</td>\n",
       "      <td>47.0</td>\n",
       "      <td>NaN</td>\n",
       "      <td>NaN</td>\n",
       "      <td>man</td>\n",
       "      <td>5.0</td>\n",
       "      <td>5.0</td>\n",
       "      <td>gasoline</td>\n",
       "      <td>2738.71</td>\n",
       "      <td>2</td>\n",
       "    </tr>\n",
       "    <tr>\n",
       "      <th>5</th>\n",
       "      <td>AD-5</td>\n",
       "      <td>skoda</td>\n",
       "      <td>fabia</td>\n",
       "      <td>140932.0</td>\n",
       "      <td>2003.0</td>\n",
       "      <td>1200.0</td>\n",
       "      <td>40.0</td>\n",
       "      <td>NaN</td>\n",
       "      <td>NaN</td>\n",
       "      <td>man</td>\n",
       "      <td>5.0</td>\n",
       "      <td>5.0</td>\n",
       "      <td>gasoline</td>\n",
       "      <td>1628.42</td>\n",
       "      <td>2</td>\n",
       "    </tr>\n",
       "  </tbody>\n",
       "</table>\n",
       "</div>"
      ],
      "text/plain": [
       "  index  maker    model   mileage  manufacture_year  engine_displacement  \\\n",
       "0  AD-0   ford   galaxy  151000.0            2011.0               2000.0   \n",
       "1  AD-1  skoda  octavia  143476.0            2012.0               2000.0   \n",
       "3  AD-3  skoda    fabia  111970.0            2004.0               1200.0   \n",
       "4  AD-4  skoda    fabia  128886.0            2004.0               1200.0   \n",
       "5  AD-5  skoda    fabia  140932.0            2003.0               1200.0   \n",
       "\n",
       "   engine_power body_type  stk_year transmission  door_count  seat_count  \\\n",
       "0         103.0       NaN       NaN          man         5.0         7.0   \n",
       "1          81.0       NaN       NaN          man         5.0         5.0   \n",
       "3          47.0       NaN       NaN          man         5.0         5.0   \n",
       "4          47.0       NaN       NaN          man         5.0         5.0   \n",
       "5          40.0       NaN       NaN          man         5.0         5.0   \n",
       "\n",
       "  fuel_type  price_eur  Nulls  \n",
       "0    diesel   10584.75      2  \n",
       "1    diesel    8882.31      2  \n",
       "3  gasoline    2960.77      2  \n",
       "4  gasoline    2738.71      2  \n",
       "5  gasoline    1628.42      2  "
      ]
     },
     "execution_count": 10,
     "metadata": {},
     "output_type": "execute_result"
    }
   ],
   "source": [
    "LowNullData.head()"
   ]
  },
  {
   "cell_type": "markdown",
   "metadata": {},
   "source": [
    "# Define a cleaning function"
   ]
  },
  {
   "cell_type": "code",
   "execution_count": 42,
   "metadata": {},
   "outputs": [],
   "source": [
    "def FillNa(Row: pd.Series, TargetColumn: str, ColumnsList: list, WithValues: dict):\n",
    "    if pd.isna(Row[TargetColumn]):\n",
    "        idx = tuple([Row[x] for x in ColumnsList])\n",
    "        if idx in WithValues:\n",
    "            return WithValues[idx]\n",
    "        else:\n",
    "            return np.nan\n",
    "    else:\n",
    "        return Row[TargetColumn]"
   ]
  },
  {
   "cell_type": "markdown",
   "metadata": {},
   "source": [
    "# Clean stk_year"
   ]
  },
  {
   "cell_type": "code",
   "execution_count": 11,
   "metadata": {},
   "outputs": [],
   "source": [
    "Cleaned_STK_Year = LowNullData.copy()\n",
    "Cleaned_STK_Year[\"stk_year\"] = Cleaned_STK_Year[\"stk_year\"].apply(\n",
    "    lambda x: x if x < 2021 else 2020 if x < 2024 else np.nan\n",
    ")"
   ]
  },
  {
   "cell_type": "markdown",
   "metadata": {},
   "source": [
    "# Clean body_type"
   ]
  },
  {
   "cell_type": "code",
   "execution_count": 29,
   "metadata": {},
   "outputs": [],
   "source": [
    "Target = \"body_type\"\n",
    "CleanUsing = [\"maker\", \"model\", \"manufacture_year\"]"
   ]
  },
  {
   "cell_type": "code",
   "execution_count": 30,
   "metadata": {},
   "outputs": [],
   "source": [
    "Cleaned_Body_type = Cleaned_STK_Year.copy()\n",
    "Cleaned_Body_type[Target] = Cleaned_Body_type[Target].apply(\n",
    "    lambda x: x if x != \"other\" and not pd.isna(x) else np.nan\n",
    ")"
   ]
  },
  {
   "cell_type": "code",
   "execution_count": 31,
   "metadata": {},
   "outputs": [],
   "source": [
    "BT_Groups = (\n",
    "    Cleaned_Body_type[Cleaned_Body_type[Target].notnull()]\n",
    "    .groupby(CleanUsing)[Target]\n",
    "    .agg(pd.Series.mode)\n",
    ")\n",
    "\n",
    "BT_Groups = BT_Groups.apply(lambda x: x if type(x) is str else x[0]).reset_index()\n",
    "BT_Groups = BT_Groups.set_index(CleanUsing).to_dict()[Target]"
   ]
  },
  {
   "cell_type": "code",
   "execution_count": 44,
   "metadata": {},
   "outputs": [],
   "source": [
    "Cleaned_Body_type[Target] = Cleaned_Body_type.apply(\n",
    "    lambda x: FillNa(x, Target, CleanUsing, BT_Groups), axis=1\n",
    ")"
   ]
  },
  {
   "cell_type": "markdown",
   "metadata": {},
   "source": [
    "# Clean engine_displacement"
   ]
  },
  {
   "cell_type": "markdown",
   "metadata": {},
   "source": [
    "Engine Displacement Minimum of 600 and max of 8500, else replace with nan\n",
    "\n",
    "https://www.drivespark.com/four-wheelers/2016/five-smallest-displacement-engines-production-cars/articlecontent-pf50713-019057.html\n",
    "\n",
    "https://www.caranddriver.com/features/g21784022/supersize-me-the-16-largest-displacement-engines-you-can-buy-today/?slide=16\n",
    "\n",
    "\n"
   ]
  },
  {
   "cell_type": "code",
   "execution_count": 53,
   "metadata": {},
   "outputs": [],
   "source": [
    "Target = \"engine_displacement\"\n",
    "CleanUsing = [\"maker\", \"model\", \"manufacture_year\", \"transmission\"]"
   ]
  },
  {
   "cell_type": "code",
   "execution_count": 54,
   "metadata": {},
   "outputs": [],
   "source": [
    "CleanedEngineDisplacement = Cleaned_Body_type.copy()\n",
    "CleanedEngineDisplacement[Target] = CleanedEngineDisplacement[Target].apply(\n",
    "    lambda x: x if x >= 600 and x <= 8500 else np.nan\n",
    ")"
   ]
  },
  {
   "cell_type": "code",
   "execution_count": 55,
   "metadata": {},
   "outputs": [],
   "source": [
    "EDP_Groups = (\n",
    "    CleanedEngineDisplacement[CleanedEngineDisplacement[Target].notnull()]\n",
    "    .groupby(CleanUsing)[Target]\n",
    "    .agg(pd.Series.median)\n",
    ")\n",
    "\n",
    "EDP_Groups = EDP_Groups.to_dict()"
   ]
  },
  {
   "cell_type": "code",
   "execution_count": 57,
   "metadata": {},
   "outputs": [],
   "source": [
    "CleanedEngineDisplacement[Target] = CleanedEngineDisplacement.apply(\n",
    "    lambda x: FillNa(x, Target, CleanUsing, EDP_Groups), axis=1\n",
    ")"
   ]
  },
  {
   "cell_type": "markdown",
   "metadata": {},
   "source": [
    "# Clean engine_power"
   ]
  },
  {
   "cell_type": "markdown",
   "metadata": {},
   "source": [
    "https://en.wikipedia.org/wiki/List_of_production_cars_by_power_output\n",
    "\n",
    "https://www.autotrader.com/oversteer/the-5-least-powerful-cars-in-2021-vs-2001"
   ]
  },
  {
   "cell_type": "code",
   "execution_count": 96,
   "metadata": {},
   "outputs": [],
   "source": [
    "Target = \"engine_power\"\n",
    "CleanUsing = [\"maker\", \"model\", \"manufacture_year\", \"transmission\"]"
   ]
  },
  {
   "cell_type": "code",
   "execution_count": 97,
   "metadata": {},
   "outputs": [],
   "source": [
    "ClearnedEnginePower = CleanedEngineDisplacement.copy()\n",
    "ClearnedEnginePower[\"engine_power\"] = ClearnedEnginePower[\"engine_power\"] * 1.34102\n",
    "\n",
    "ClearnedEnginePower[Target] = ClearnedEnginePower[Target].apply(\n",
    "    lambda x: x if x >= 65 and x <= 500 else np.nan\n",
    ")"
   ]
  },
  {
   "cell_type": "code",
   "execution_count": 98,
   "metadata": {},
   "outputs": [],
   "source": [
    "EPP_Groups = (\n",
    "    ClearnedEnginePower[ClearnedEnginePower[Target].notnull()]\n",
    "    .groupby(CleanUsing)[Target]\n",
    "    .agg(pd.Series.median)\n",
    ")\n",
    "\n",
    "EPP_Groups = EPP_Groups.to_dict()"
   ]
  },
  {
   "cell_type": "code",
   "execution_count": 100,
   "metadata": {},
   "outputs": [],
   "source": [
    "ClearnedEnginePower[Target] = ClearnedEnginePower.apply(\n",
    "    lambda x: FillNa(x, Target, CleanUsing, EPP_Groups), axis=1\n",
    ")"
   ]
  }
 ],
 "metadata": {
  "kernelspec": {
   "display_name": "Python 3",
   "language": "python",
   "name": "python3"
  },
  "language_info": {
   "codemirror_mode": {
    "name": "ipython",
    "version": 3
   },
   "file_extension": ".py",
   "mimetype": "text/x-python",
   "name": "python",
   "nbconvert_exporter": "python",
   "pygments_lexer": "ipython3",
   "version": "3.9.13"
  },
  "orig_nbformat": 4
 },
 "nbformat": 4,
 "nbformat_minor": 2
}
