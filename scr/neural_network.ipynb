{
 "cells": [
  {
   "cell_type": "code",
   "execution_count": 1,
   "metadata": {},
   "outputs": [
    {
     "name": "stderr",
     "output_type": "stream",
     "text": [
      "c:\\Users\\nhduc\\anaconda3\\lib\\site-packages\\scipy\\__init__.py:146: UserWarning: A NumPy version >=1.16.5 and <1.23.0 is required for this version of SciPy (detected version 1.26.2\n",
      "  warnings.warn(f\"A NumPy version >={np_minversion} and <{np_maxversion}\"\n"
     ]
    },
    {
     "name": "stdout",
     "output_type": "stream",
     "text": [
      "WARNING:tensorflow:From c:\\Users\\nhduc\\anaconda3\\lib\\site-packages\\keras\\src\\losses.py:2976: The name tf.losses.sparse_softmax_cross_entropy is deprecated. Please use tf.compat.v1.losses.sparse_softmax_cross_entropy instead.\n",
      "\n"
     ]
    }
   ],
   "source": [
    "import pandas as pd\n",
    "import numpy as np\n",
    "from scipy.sparse import load_npz\n",
    "\n",
    "import matplotlib.pyplot as plt\n",
    "import seaborn as sns\n",
    "\n",
    "import os \n",
    "\n",
    "from sklearn.model_selection import train_test_split\n",
    "from sklearn.metrics import r2_score, mean_squared_error, mean_absolute_error\n",
    "\n",
    "import tensorflow.keras as keras\n",
    "\n",
    "import warnings\n",
    "warnings.filterwarnings(\"ignore\")"
   ]
  },
  {
   "cell_type": "markdown",
   "metadata": {},
   "source": [
    "### Import data"
   ]
  },
  {
   "cell_type": "code",
   "execution_count": null,
   "metadata": {},
   "outputs": [],
   "source": [
    "X_trans = load_npz(\"../data/X_trans.npz\")\n",
    "y = np.loadtxt(\"../data/y.txt\")"
   ]
  },
  {
   "cell_type": "markdown",
   "metadata": {},
   "source": [
    "### Split"
   ]
  },
  {
   "cell_type": "code",
   "execution_count": 9,
   "metadata": {},
   "outputs": [],
   "source": [
    "X_train_val, X_test, y_train_val, y_test = train_test_split(X_trans, y, test_size=0.2, random_state=42)\n",
    "X_train, X_val, y_train, y_val = train_test_split(X_train_val, y_train_val, test_size=0.2, random_state=42)"
   ]
  },
  {
   "cell_type": "markdown",
   "metadata": {},
   "source": [
    "## Model"
   ]
  },
  {
   "cell_type": "code",
   "execution_count": 10,
   "metadata": {},
   "outputs": [],
   "source": [
    "eva_df = pd.DataFrame(columns = [\"Model\", \"RMSE\", \"MAE\", \"R2\" ])     "
   ]
  },
  {
   "cell_type": "markdown",
   "metadata": {},
   "source": [
    "### Neural network"
   ]
  },
  {
   "cell_type": "code",
   "execution_count": 11,
   "metadata": {},
   "outputs": [
    {
     "name": "stdout",
     "output_type": "stream",
     "text": [
      "WARNING:tensorflow:From c:\\Users\\nhduc\\anaconda3\\lib\\site-packages\\keras\\src\\backend.py:873: The name tf.get_default_graph is deprecated. Please use tf.compat.v1.get_default_graph instead.\n",
      "\n",
      "WARNING:tensorflow:From c:\\Users\\nhduc\\anaconda3\\lib\\site-packages\\keras\\src\\optimizers\\__init__.py:309: The name tf.train.Optimizer is deprecated. Please use tf.compat.v1.train.Optimizer instead.\n",
      "\n",
      "Epoch 1/100\n",
      "WARNING:tensorflow:From c:\\Users\\nhduc\\anaconda3\\lib\\site-packages\\keras\\src\\utils\\tf_utils.py:492: The name tf.ragged.RaggedTensorValue is deprecated. Please use tf.compat.v1.ragged.RaggedTensorValue instead.\n",
      "\n",
      "44965/44965 [==============================] - 176s 4ms/step - loss: 45324776.0000 - val_loss: 35284884.0000\n",
      "Epoch 2/100\n",
      "44965/44965 [==============================] - 184s 4ms/step - loss: 36681668.0000 - val_loss: 33190922.0000\n",
      "Epoch 3/100\n",
      "44965/44965 [==============================] - 193s 4ms/step - loss: 34304036.0000 - val_loss: 31847850.0000\n",
      "Epoch 4/100\n",
      "44965/44965 [==============================] - 202s 4ms/step - loss: 32894992.0000 - val_loss: 31888768.0000\n",
      "Epoch 5/100\n",
      "44965/44965 [==============================] - 213s 5ms/step - loss: 31991940.0000 - val_loss: 31116240.0000\n",
      "Epoch 6/100\n",
      "44965/44965 [==============================] - 217s 5ms/step - loss: 31294198.0000 - val_loss: 30995660.0000\n",
      "Epoch 7/100\n",
      "44965/44965 [==============================] - 219s 5ms/step - loss: 30695516.0000 - val_loss: 28287702.0000\n",
      "Epoch 8/100\n",
      "44965/44965 [==============================] - 203s 4ms/step - loss: 30201994.0000 - val_loss: 31619292.0000\n",
      "Epoch 9/100\n",
      "44965/44965 [==============================] - 246s 5ms/step - loss: 29853726.0000 - val_loss: 29254044.0000\n",
      "Epoch 10/100\n",
      "44965/44965 [==============================] - 241s 5ms/step - loss: 29533788.0000 - val_loss: 27931382.0000\n",
      "Epoch 11/100\n",
      "44965/44965 [==============================] - 262s 6ms/step - loss: 29068710.0000 - val_loss: 32896412.0000\n",
      "Epoch 12/100\n",
      "44965/44965 [==============================] - 272s 6ms/step - loss: 28850310.0000 - val_loss: 29366838.0000\n",
      "Epoch 13/100\n",
      "44965/44965 [==============================] - 264s 6ms/step - loss: 28664434.0000 - val_loss: 27447456.0000\n",
      "Epoch 14/100\n",
      "44965/44965 [==============================] - 243s 5ms/step - loss: 28268696.0000 - val_loss: 26545830.0000\n",
      "Epoch 15/100\n",
      "44965/44965 [==============================] - 260s 6ms/step - loss: 28227596.0000 - val_loss: 26637676.0000\n",
      "Epoch 16/100\n",
      "44965/44965 [==============================] - 248s 5ms/step - loss: 28038854.0000 - val_loss: 29860206.0000\n",
      "Epoch 17/100\n",
      "44965/44965 [==============================] - 257s 6ms/step - loss: 27830818.0000 - val_loss: 26320248.0000\n",
      "Epoch 18/100\n",
      "44965/44965 [==============================] - 216s 5ms/step - loss: 27673910.0000 - val_loss: 32096122.0000\n",
      "Epoch 19/100\n",
      "44965/44965 [==============================] - 227s 5ms/step - loss: 27533882.0000 - val_loss: 26624072.0000\n",
      "Epoch 20/100\n",
      "44965/44965 [==============================] - 235s 5ms/step - loss: 27281754.0000 - val_loss: 26525778.0000\n",
      "Epoch 21/100\n",
      "44965/44965 [==============================] - 229s 5ms/step - loss: 27263046.0000 - val_loss: 27619154.0000\n",
      "Epoch 22/100\n",
      "44965/44965 [==============================] - 234s 5ms/step - loss: 27082770.0000 - val_loss: 27546002.0000\n",
      "Epoch 23/100\n",
      "44965/44965 [==============================] - 235s 5ms/step - loss: 26889482.0000 - val_loss: 27566672.0000\n",
      "Epoch 24/100\n",
      "44965/44965 [==============================] - 248s 5ms/step - loss: 26814826.0000 - val_loss: 26514956.0000\n",
      "Epoch 25/100\n",
      "44965/44965 [==============================] - 259s 6ms/step - loss: 26642054.0000 - val_loss: 25783740.0000\n",
      "Epoch 26/100\n",
      "44965/44965 [==============================] - 246s 5ms/step - loss: 26548498.0000 - val_loss: 25811596.0000\n",
      "Epoch 27/100\n",
      "44965/44965 [==============================] - 251s 6ms/step - loss: 26441868.0000 - val_loss: 25218158.0000\n",
      "Epoch 28/100\n",
      "44965/44965 [==============================] - 257s 6ms/step - loss: 26302742.0000 - val_loss: 25071520.0000\n",
      "Epoch 29/100\n",
      "44965/44965 [==============================] - 251s 6ms/step - loss: 26187676.0000 - val_loss: 28119906.0000\n",
      "Epoch 30/100\n",
      "44965/44965 [==============================] - 239s 5ms/step - loss: 26131118.0000 - val_loss: 24746524.0000\n",
      "Epoch 31/100\n",
      "44965/44965 [==============================] - 225s 5ms/step - loss: 25966734.0000 - val_loss: 24881716.0000\n",
      "Epoch 32/100\n",
      "44965/44965 [==============================] - 251s 6ms/step - loss: 25879820.0000 - val_loss: 24492916.0000\n",
      "Epoch 33/100\n",
      "44965/44965 [==============================] - 261s 6ms/step - loss: 25772662.0000 - val_loss: 27686676.0000\n",
      "Epoch 34/100\n",
      "44965/44965 [==============================] - 242s 5ms/step - loss: 25728550.0000 - val_loss: 24613476.0000\n",
      "Epoch 35/100\n",
      "44965/44965 [==============================] - 246s 5ms/step - loss: 25558070.0000 - val_loss: 27017880.0000\n",
      "Epoch 36/100\n",
      "44965/44965 [==============================] - 251s 6ms/step - loss: 25505728.0000 - val_loss: 26010406.0000\n",
      "Epoch 37/100\n",
      "44965/44965 [==============================] - 252s 6ms/step - loss: 25433424.0000 - val_loss: 25048348.0000\n",
      "Epoch 38/100\n",
      "44965/44965 [==============================] - 247s 5ms/step - loss: 25291360.0000 - val_loss: 26188750.0000\n",
      "Epoch 39/100\n",
      "44965/44965 [==============================] - 270s 6ms/step - loss: 25177728.0000 - val_loss: 25225106.0000\n",
      "Epoch 40/100\n",
      "44965/44965 [==============================] - 265s 6ms/step - loss: 25042028.0000 - val_loss: 25022416.0000\n",
      "Epoch 41/100\n",
      "44965/44965 [==============================] - 240s 5ms/step - loss: 25009040.0000 - val_loss: 27606256.0000\n",
      "Epoch 42/100\n",
      "44965/44965 [==============================] - 248s 5ms/step - loss: 24898426.0000 - val_loss: 26178208.0000\n"
     ]
    },
    {
     "data": {
      "text/plain": [
       "<keras.src.callbacks.History at 0x1888700b6d0>"
      ]
     },
     "execution_count": 11,
     "metadata": {},
     "output_type": "execute_result"
    }
   ],
   "source": [
    "a_model = keras.models.Sequential([\n",
    "    keras.layers.Dense(units = 600, activation=\"relu\", kernel_initializer = \"he_normal\"),\n",
    "    keras.layers.Dense(units = 200, activation=\"relu\", kernel_initializer = \"he_normal\"),\n",
    "    keras.layers.Dense(units = 50, activation=\"relu\", kernel_initializer = \"he_normal\"),\n",
    "    keras.layers.Dense(1)\n",
    "])\n",
    "\n",
    "a_model.compile(loss=\"mean_squared_error\",\n",
    "                optimizer='adam')\n",
    "\n",
    "early_stopping_cb = keras.callbacks.EarlyStopping(patience=10, restore_best_weights=True)\n",
    "\n",
    "a_model.fit(X_train, y_train,\n",
    "            epochs = 100,\n",
    "            validation_data=(X_val, y_val),\n",
    "            callbacks = [early_stopping_cb])"
   ]
  },
  {
   "cell_type": "code",
   "execution_count": 12,
   "metadata": {},
   "outputs": [
    {
     "name": "stdout",
     "output_type": "stream",
     "text": [
      "14052/14052 [==============================] - 20s 1ms/step\n"
     ]
    },
    {
     "data": {
      "text/html": [
       "<div>\n",
       "<style scoped>\n",
       "    .dataframe tbody tr th:only-of-type {\n",
       "        vertical-align: middle;\n",
       "    }\n",
       "\n",
       "    .dataframe tbody tr th {\n",
       "        vertical-align: top;\n",
       "    }\n",
       "\n",
       "    .dataframe thead th {\n",
       "        text-align: right;\n",
       "    }\n",
       "</style>\n",
       "<table border=\"1\" class=\"dataframe\">\n",
       "  <thead>\n",
       "    <tr style=\"text-align: right;\">\n",
       "      <th></th>\n",
       "      <th>Model</th>\n",
       "      <th>RMSE</th>\n",
       "      <th>MAE</th>\n",
       "      <th>R2</th>\n",
       "    </tr>\n",
       "  </thead>\n",
       "  <tbody>\n",
       "    <tr>\n",
       "      <th>0</th>\n",
       "      <td>Neural Network</td>\n",
       "      <td>4999.289558</td>\n",
       "      <td>2784.874343</td>\n",
       "      <td>0.844596</td>\n",
       "    </tr>\n",
       "  </tbody>\n",
       "</table>\n",
       "</div>"
      ],
      "text/plain": [
       "            Model         RMSE          MAE        R2\n",
       "0  Neural Network  4999.289558  2784.874343  0.844596"
      ]
     },
     "execution_count": 12,
     "metadata": {},
     "output_type": "execute_result"
    }
   ],
   "source": [
    "y_pred = a_model.predict(X_test)\n",
    "\n",
    "mse = mean_squared_error(y_test,y_pred)\n",
    "mae = mean_absolute_error(y_test,y_pred)\n",
    "R2 = r2_score(y_test,y_pred)\n",
    "\n",
    "eva_df = eva_df.append({\"Model\": \"Neural Network\", \"RMSE\" : mse**0.5, \"MAE\":mae ,\"R2\" : R2},ignore_index=True)\n",
    "eva_df"
   ]
  },
  {
   "cell_type": "markdown",
   "metadata": {},
   "source": [
    "### Save"
   ]
  },
  {
   "cell_type": "code",
   "execution_count": 14,
   "metadata": {},
   "outputs": [],
   "source": [
    "a_model.save('./model/reg.h5')"
   ]
  }
 ],
 "metadata": {
  "kernelspec": {
   "display_name": "base",
   "language": "python",
   "name": "python3"
  },
  "language_info": {
   "codemirror_mode": {
    "name": "ipython",
    "version": 3
   },
   "file_extension": ".py",
   "mimetype": "text/x-python",
   "name": "python",
   "nbconvert_exporter": "python",
   "pygments_lexer": "ipython3",
   "version": "3.9.12"
  }
 },
 "nbformat": 4,
 "nbformat_minor": 2
}
