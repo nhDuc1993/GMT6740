{
 "cells": [
  {
   "cell_type": "code",
   "execution_count": 1,
   "metadata": {},
   "outputs": [
    {
     "name": "stderr",
     "output_type": "stream",
     "text": [
      "c:\\Users\\nhduc\\anaconda3\\lib\\site-packages\\scipy\\__init__.py:146: UserWarning: A NumPy version >=1.16.5 and <1.23.0 is required for this version of SciPy (detected version 1.26.2\n",
      "  warnings.warn(f\"A NumPy version >={np_minversion} and <{np_maxversion}\"\n"
     ]
    }
   ],
   "source": [
    "import numpy as np\n",
    "import pandas as pd\n",
    "\n",
    "import matplotlib.pyplot as plt\n",
    "import seaborn as sns"
   ]
  },
  {
   "cell_type": "code",
   "execution_count": 16,
   "metadata": {},
   "outputs": [
    {
     "name": "stderr",
     "output_type": "stream",
     "text": [
      "C:\\Users\\nhduc\\AppData\\Local\\Temp\\ipykernel_20960\\2194631899.py:1: DtypeWarning: Columns (7,8,10,11,12) have mixed types. Specify dtype option on import or set low_memory=False.\n",
      "  df = pd.read_csv(r\"../../data/all_anonymized_2015_11_2017_03.csv\")\n"
     ]
    },
    {
     "data": {
      "text/html": [
       "<div>\n",
       "<style scoped>\n",
       "    .dataframe tbody tr th:only-of-type {\n",
       "        vertical-align: middle;\n",
       "    }\n",
       "\n",
       "    .dataframe tbody tr th {\n",
       "        vertical-align: top;\n",
       "    }\n",
       "\n",
       "    .dataframe thead th {\n",
       "        text-align: right;\n",
       "    }\n",
       "</style>\n",
       "<table border=\"1\" class=\"dataframe\">\n",
       "  <thead>\n",
       "    <tr style=\"text-align: right;\">\n",
       "      <th></th>\n",
       "      <th>maker</th>\n",
       "      <th>model</th>\n",
       "      <th>mileage</th>\n",
       "      <th>manufacture_year</th>\n",
       "      <th>engine_displacement</th>\n",
       "      <th>engine_power</th>\n",
       "      <th>body_type</th>\n",
       "      <th>color_slug</th>\n",
       "      <th>stk_year</th>\n",
       "      <th>transmission</th>\n",
       "      <th>door_count</th>\n",
       "      <th>seat_count</th>\n",
       "      <th>fuel_type</th>\n",
       "      <th>date_created</th>\n",
       "      <th>date_last_seen</th>\n",
       "      <th>price_eur</th>\n",
       "    </tr>\n",
       "  </thead>\n",
       "  <tbody>\n",
       "    <tr>\n",
       "      <th>0</th>\n",
       "      <td>ford</td>\n",
       "      <td>galaxy</td>\n",
       "      <td>151000.0</td>\n",
       "      <td>2011.0</td>\n",
       "      <td>2000.0</td>\n",
       "      <td>103.0</td>\n",
       "      <td>NaN</td>\n",
       "      <td>NaN</td>\n",
       "      <td>None</td>\n",
       "      <td>man</td>\n",
       "      <td>5</td>\n",
       "      <td>7</td>\n",
       "      <td>diesel</td>\n",
       "      <td>2015-11-14 18:10:06.838319+00</td>\n",
       "      <td>2016-01-27 20:40:15.46361+00</td>\n",
       "      <td>10584.75</td>\n",
       "    </tr>\n",
       "    <tr>\n",
       "      <th>1</th>\n",
       "      <td>skoda</td>\n",
       "      <td>octavia</td>\n",
       "      <td>143476.0</td>\n",
       "      <td>2012.0</td>\n",
       "      <td>2000.0</td>\n",
       "      <td>81.0</td>\n",
       "      <td>NaN</td>\n",
       "      <td>NaN</td>\n",
       "      <td>None</td>\n",
       "      <td>man</td>\n",
       "      <td>5</td>\n",
       "      <td>5</td>\n",
       "      <td>diesel</td>\n",
       "      <td>2015-11-14 18:10:06.853411+00</td>\n",
       "      <td>2016-01-27 20:40:15.46361+00</td>\n",
       "      <td>8882.31</td>\n",
       "    </tr>\n",
       "    <tr>\n",
       "      <th>2</th>\n",
       "      <td>bmw</td>\n",
       "      <td>NaN</td>\n",
       "      <td>97676.0</td>\n",
       "      <td>2010.0</td>\n",
       "      <td>1995.0</td>\n",
       "      <td>85.0</td>\n",
       "      <td>NaN</td>\n",
       "      <td>NaN</td>\n",
       "      <td>None</td>\n",
       "      <td>man</td>\n",
       "      <td>5</td>\n",
       "      <td>5</td>\n",
       "      <td>diesel</td>\n",
       "      <td>2015-11-14 18:10:06.861792+00</td>\n",
       "      <td>2016-01-27 20:40:15.46361+00</td>\n",
       "      <td>12065.06</td>\n",
       "    </tr>\n",
       "    <tr>\n",
       "      <th>3</th>\n",
       "      <td>skoda</td>\n",
       "      <td>fabia</td>\n",
       "      <td>111970.0</td>\n",
       "      <td>2004.0</td>\n",
       "      <td>1200.0</td>\n",
       "      <td>47.0</td>\n",
       "      <td>NaN</td>\n",
       "      <td>NaN</td>\n",
       "      <td>None</td>\n",
       "      <td>man</td>\n",
       "      <td>5</td>\n",
       "      <td>5</td>\n",
       "      <td>gasoline</td>\n",
       "      <td>2015-11-14 18:10:06.872313+00</td>\n",
       "      <td>2016-01-27 20:40:15.46361+00</td>\n",
       "      <td>2960.77</td>\n",
       "    </tr>\n",
       "    <tr>\n",
       "      <th>4</th>\n",
       "      <td>skoda</td>\n",
       "      <td>fabia</td>\n",
       "      <td>128886.0</td>\n",
       "      <td>2004.0</td>\n",
       "      <td>1200.0</td>\n",
       "      <td>47.0</td>\n",
       "      <td>NaN</td>\n",
       "      <td>NaN</td>\n",
       "      <td>None</td>\n",
       "      <td>man</td>\n",
       "      <td>5</td>\n",
       "      <td>5</td>\n",
       "      <td>gasoline</td>\n",
       "      <td>2015-11-14 18:10:06.880335+00</td>\n",
       "      <td>2016-01-27 20:40:15.46361+00</td>\n",
       "      <td>2738.71</td>\n",
       "    </tr>\n",
       "  </tbody>\n",
       "</table>\n",
       "</div>"
      ],
      "text/plain": [
       "   maker    model   mileage  manufacture_year  engine_displacement  \\\n",
       "0   ford   galaxy  151000.0            2011.0               2000.0   \n",
       "1  skoda  octavia  143476.0            2012.0               2000.0   \n",
       "2    bmw      NaN   97676.0            2010.0               1995.0   \n",
       "3  skoda    fabia  111970.0            2004.0               1200.0   \n",
       "4  skoda    fabia  128886.0            2004.0               1200.0   \n",
       "\n",
       "   engine_power body_type color_slug stk_year transmission door_count  \\\n",
       "0         103.0       NaN        NaN     None          man          5   \n",
       "1          81.0       NaN        NaN     None          man          5   \n",
       "2          85.0       NaN        NaN     None          man          5   \n",
       "3          47.0       NaN        NaN     None          man          5   \n",
       "4          47.0       NaN        NaN     None          man          5   \n",
       "\n",
       "  seat_count fuel_type                   date_created  \\\n",
       "0          7    diesel  2015-11-14 18:10:06.838319+00   \n",
       "1          5    diesel  2015-11-14 18:10:06.853411+00   \n",
       "2          5    diesel  2015-11-14 18:10:06.861792+00   \n",
       "3          5  gasoline  2015-11-14 18:10:06.872313+00   \n",
       "4          5  gasoline  2015-11-14 18:10:06.880335+00   \n",
       "\n",
       "                 date_last_seen  price_eur  \n",
       "0  2016-01-27 20:40:15.46361+00   10584.75  \n",
       "1  2016-01-27 20:40:15.46361+00    8882.31  \n",
       "2  2016-01-27 20:40:15.46361+00   12065.06  \n",
       "3  2016-01-27 20:40:15.46361+00    2960.77  \n",
       "4  2016-01-27 20:40:15.46361+00    2738.71  "
      ]
     },
     "execution_count": 16,
     "metadata": {},
     "output_type": "execute_result"
    }
   ],
   "source": [
    "df = pd.read_csv(r\"../../data/all_anonymized_2015_11_2017_03.csv\")\n",
    "df.head()"
   ]
  },
  {
   "cell_type": "markdown",
   "metadata": {},
   "source": [
    "### EDA"
   ]
  },
  {
   "cell_type": "markdown",
   "metadata": {},
   "source": [
    "#### Maker/Model"
   ]
  },
  {
   "cell_type": "code",
   "execution_count": 17,
   "metadata": {},
   "outputs": [
    {
     "data": {
      "text/html": [
       "<div>\n",
       "<style scoped>\n",
       "    .dataframe tbody tr th:only-of-type {\n",
       "        vertical-align: middle;\n",
       "    }\n",
       "\n",
       "    .dataframe tbody tr th {\n",
       "        vertical-align: top;\n",
       "    }\n",
       "\n",
       "    .dataframe thead th {\n",
       "        text-align: right;\n",
       "    }\n",
       "</style>\n",
       "<table border=\"1\" class=\"dataframe\">\n",
       "  <thead>\n",
       "    <tr style=\"text-align: right;\">\n",
       "      <th></th>\n",
       "      <th>maker</th>\n",
       "      <th>model</th>\n",
       "      <th>size</th>\n",
       "    </tr>\n",
       "  </thead>\n",
       "  <tbody>\n",
       "    <tr>\n",
       "      <th>1009</th>\n",
       "      <td>skoda</td>\n",
       "      <td>octavia</td>\n",
       "      <td>129554</td>\n",
       "    </tr>\n",
       "    <tr>\n",
       "      <th>1000</th>\n",
       "      <td>skoda</td>\n",
       "      <td>fabia</td>\n",
       "      <td>91399</td>\n",
       "    </tr>\n",
       "    <tr>\n",
       "      <th>1118</th>\n",
       "      <td>volkswagen</td>\n",
       "      <td>golf</td>\n",
       "      <td>91228</td>\n",
       "    </tr>\n",
       "    <tr>\n",
       "      <th>383</th>\n",
       "      <td>ford</td>\n",
       "      <td>focus</td>\n",
       "      <td>61135</td>\n",
       "    </tr>\n",
       "    <tr>\n",
       "      <th>842</th>\n",
       "      <td>opel</td>\n",
       "      <td>astra</td>\n",
       "      <td>58374</td>\n",
       "    </tr>\n",
       "    <tr>\n",
       "      <th>...</th>\n",
       "      <td>...</td>\n",
       "      <td>...</td>\n",
       "      <td>...</td>\n",
       "    </tr>\n",
       "    <tr>\n",
       "      <th>999</th>\n",
       "      <td>skoda</td>\n",
       "      <td>colt</td>\n",
       "      <td>1</td>\n",
       "    </tr>\n",
       "    <tr>\n",
       "      <th>248</th>\n",
       "      <td>chrysler</td>\n",
       "      <td>intrepid</td>\n",
       "      <td>1</td>\n",
       "    </tr>\n",
       "    <tr>\n",
       "      <th>1006</th>\n",
       "      <td>skoda</td>\n",
       "      <td>kangoo</td>\n",
       "      <td>1</td>\n",
       "    </tr>\n",
       "    <tr>\n",
       "      <th>1007</th>\n",
       "      <td>skoda</td>\n",
       "      <td>laguna</td>\n",
       "      <td>1</td>\n",
       "    </tr>\n",
       "    <tr>\n",
       "      <th>369</th>\n",
       "      <td>ford</td>\n",
       "      <td>cc</td>\n",
       "      <td>1</td>\n",
       "    </tr>\n",
       "  </tbody>\n",
       "</table>\n",
       "<p>1168 rows × 3 columns</p>\n",
       "</div>"
      ],
      "text/plain": [
       "           maker     model    size\n",
       "1009       skoda   octavia  129554\n",
       "1000       skoda     fabia   91399\n",
       "1118  volkswagen      golf   91228\n",
       "383         ford     focus   61135\n",
       "842         opel     astra   58374\n",
       "...          ...       ...     ...\n",
       "999        skoda      colt       1\n",
       "248     chrysler  intrepid       1\n",
       "1006       skoda    kangoo       1\n",
       "1007       skoda    laguna       1\n",
       "369         ford        cc       1\n",
       "\n",
       "[1168 rows x 3 columns]"
      ]
     },
     "execution_count": 17,
     "metadata": {},
     "output_type": "execute_result"
    }
   ],
   "source": [
    "maker_model_count = df.groupby(['maker', 'model'], as_index=False).size().sort_values('size', ascending=False)\n",
    "maker_model_count"
   ]
  },
  {
   "cell_type": "code",
   "execution_count": 18,
   "metadata": {},
   "outputs": [
    {
     "data": {
      "text/html": [
       "<div>\n",
       "<style scoped>\n",
       "    .dataframe tbody tr th:only-of-type {\n",
       "        vertical-align: middle;\n",
       "    }\n",
       "\n",
       "    .dataframe tbody tr th {\n",
       "        vertical-align: top;\n",
       "    }\n",
       "\n",
       "    .dataframe thead th {\n",
       "        text-align: right;\n",
       "    }\n",
       "</style>\n",
       "<table border=\"1\" class=\"dataframe\">\n",
       "  <thead>\n",
       "    <tr style=\"text-align: right;\">\n",
       "      <th></th>\n",
       "      <th>maker</th>\n",
       "      <th>model</th>\n",
       "      <th>size</th>\n",
       "    </tr>\n",
       "  </thead>\n",
       "  <tbody>\n",
       "    <tr>\n",
       "      <th>735</th>\n",
       "      <td>mercedes-benz</td>\n",
       "      <td>s350-cdi</td>\n",
       "      <td>32</td>\n",
       "    </tr>\n",
       "    <tr>\n",
       "      <th>790</th>\n",
       "      <td>nissan</td>\n",
       "      <td>200-sx</td>\n",
       "      <td>32</td>\n",
       "    </tr>\n",
       "    <tr>\n",
       "      <th>635</th>\n",
       "      <td>mercedes-benz</td>\n",
       "      <td>b200-cdi</td>\n",
       "      <td>31</td>\n",
       "    </tr>\n",
       "    <tr>\n",
       "      <th>587</th>\n",
       "      <td>lotus</td>\n",
       "      <td>esprit</td>\n",
       "      <td>31</td>\n",
       "    </tr>\n",
       "    <tr>\n",
       "      <th>907</th>\n",
       "      <td>porsche</td>\n",
       "      <td>987-boxster</td>\n",
       "      <td>31</td>\n",
       "    </tr>\n",
       "    <tr>\n",
       "      <th>...</th>\n",
       "      <td>...</td>\n",
       "      <td>...</td>\n",
       "      <td>...</td>\n",
       "    </tr>\n",
       "    <tr>\n",
       "      <th>999</th>\n",
       "      <td>skoda</td>\n",
       "      <td>colt</td>\n",
       "      <td>1</td>\n",
       "    </tr>\n",
       "    <tr>\n",
       "      <th>248</th>\n",
       "      <td>chrysler</td>\n",
       "      <td>intrepid</td>\n",
       "      <td>1</td>\n",
       "    </tr>\n",
       "    <tr>\n",
       "      <th>1006</th>\n",
       "      <td>skoda</td>\n",
       "      <td>kangoo</td>\n",
       "      <td>1</td>\n",
       "    </tr>\n",
       "    <tr>\n",
       "      <th>1007</th>\n",
       "      <td>skoda</td>\n",
       "      <td>laguna</td>\n",
       "      <td>1</td>\n",
       "    </tr>\n",
       "    <tr>\n",
       "      <th>369</th>\n",
       "      <td>ford</td>\n",
       "      <td>cc</td>\n",
       "      <td>1</td>\n",
       "    </tr>\n",
       "  </tbody>\n",
       "</table>\n",
       "<p>400 rows × 3 columns</p>\n",
       "</div>"
      ],
      "text/plain": [
       "              maker        model  size\n",
       "735   mercedes-benz     s350-cdi    32\n",
       "790          nissan       200-sx    32\n",
       "635   mercedes-benz     b200-cdi    31\n",
       "587           lotus       esprit    31\n",
       "907         porsche  987-boxster    31\n",
       "...             ...          ...   ...\n",
       "999           skoda         colt     1\n",
       "248        chrysler     intrepid     1\n",
       "1006          skoda       kangoo     1\n",
       "1007          skoda       laguna     1\n",
       "369            ford           cc     1\n",
       "\n",
       "[400 rows x 3 columns]"
      ]
     },
     "execution_count": 18,
     "metadata": {},
     "output_type": "execute_result"
    }
   ],
   "source": [
    "maker_model_count[-400:]"
   ]
  },
  {
   "cell_type": "code",
   "execution_count": 19,
   "metadata": {},
   "outputs": [],
   "source": [
    "counts = df['maker'].value_counts()\n",
    "top_ten = (counts / counts.sum())[:10]\n",
    "\n",
    "top_ten = round(top_ten * 100, 2)[::-1]"
   ]
  },
  {
   "cell_type": "code",
   "execution_count": 125,
   "metadata": {},
   "outputs": [
    {
     "data": {
      "image/png": "[encoded data removed]",
      "text/plain": [
       "<Figure size 432x432 with 1 Axes>"
      ]
     },
     "metadata": {
      "needs_background": "light"
     },
     "output_type": "display_data"
    }
   ],
   "source": [
    "fig, ax = plt.subplots(figsize=(6, 6))\n",
    "\n",
    "# Plot horizontal bars\n",
    "bars = ax.barh(top_ten.index, top_ten.values, color='cornflowerblue')\n",
    "\n",
    "# Display values on top of each bar\n",
    "for bar, value in zip(bars, top_ten.values):\n",
    "    ax.text(bar.get_width(), bar.get_y() + bar.get_height()/2, \" \" + str(value) + \"%\",\n",
    "            va='center', ha='left', fontsize=12)\n",
    "\n",
    "# Remove x-axis ticks and labels\n",
    "ax.set_xticks([])\n",
    "\n",
    "# Remove spines (borders)\n",
    "ax.spines['right'].set_visible(False)\n",
    "ax.spines['left'].set_visible(True)\n",
    "ax.spines['bottom'].set_visible(False)\n",
    "ax.spines['top'].set_visible(False)\n",
    "\n",
    "# Show the plot\n",
    "plt.show()"
   ]
  },
  {
   "cell_type": "markdown",
   "metadata": {},
   "source": [
    "#### Mileage"
   ]
  },
  {
   "cell_type": "code",
   "execution_count": 21,
   "metadata": {},
   "outputs": [],
   "source": [
    "temp_df = df.loc[df['mileage'] < 400000]\n",
    "mileage = temp_df['mileage']\n",
    "\n",
    "mileage_0 = mileage[mileage != 0]"
   ]
  },
  {
   "cell_type": "code",
   "execution_count": 22,
   "metadata": {},
   "outputs": [
    {
     "data": {
      "text/plain": [
       "(array([1105673.,  416849.,  453018.,  432376.,  361908.,  207235.,\n",
       "         109339.,   50096.,   20150.,    9234.]),\n",
       " array([     0. ,  39999.9,  79999.8, 119999.7, 159999.6, 199999.5,\n",
       "        239999.4, 279999.3, 319999.2, 359999.1, 399999. ]),\n",
       " <BarContainer object of 10 artists>)"
      ]
     },
     "execution_count": 22,
     "metadata": {},
     "output_type": "execute_result"
    },
    {
     "data": {
      "image/png": "[encoded data removed]",
      "text/plain": [
       "<Figure size 432x432 with 1 Axes>"
      ]
     },
     "metadata": {
      "needs_background": "light"
     },
     "output_type": "display_data"
    }
   ],
   "source": [
    "plt.figure(figsize=(6, 6))\n",
    "plt.hist(mileage, color='cornflowerblue')"
   ]
  },
  {
   "cell_type": "code",
   "execution_count": 23,
   "metadata": {},
   "outputs": [
    {
     "data": {
      "text/plain": [
       "maker\n",
       "chrysler         154793.448771\n",
       "alfa-romeo       145730.652895\n",
       "land-rover       126099.970986\n",
       "volvo            116571.168162\n",
       "skoda            112428.342870\n",
       "bmw              110899.426410\n",
       "volkswagen       107997.032905\n",
       "mercedes-benz    104813.170415\n",
       "subaru           102776.032940\n",
       "audi             102678.693919\n",
       "ford             101206.211999\n",
       "peugeot          100380.542658\n",
       "lexus             98554.193897\n",
       "honda             98296.304785\n",
       "mazda             97541.000622\n",
       "renault           97251.805647\n",
       "mitsubishi        96413.234000\n",
       "opel              95898.337272\n",
       "rover             94393.973354\n",
       "hummer            92409.824138\n",
       "citroen           92195.207925\n",
       "toyota            90930.311032\n",
       "chevrolet         87125.138182\n",
       "seat              84229.245828\n",
       "dacia             80525.514914\n",
       "lancia            79819.252626\n",
       "dodge             78378.825700\n",
       "jaguar            78192.030205\n",
       "fiat              76891.017459\n",
       "suzuki            73910.706766\n",
       "nissan            70954.457518\n",
       "porsche           69894.922038\n",
       "jeep              69228.579621\n",
       "infinity          63679.544086\n",
       "kia               63196.931378\n",
       "mini              58835.355478\n",
       "hyundai           55516.005845\n",
       "smart             54639.761107\n",
       "bentley           49360.600000\n",
       "maserati          45612.193740\n",
       "isuzu             39447.396896\n",
       "lotus             33962.769042\n",
       "aston-martin      30031.500000\n",
       "tesla             28845.349776\n",
       "lamborghini       22640.994536\n",
       "rolls-royce       21438.707317\n",
       "Name: mileage, dtype: float64"
      ]
     },
     "execution_count": 23,
     "metadata": {},
     "output_type": "execute_result"
    }
   ],
   "source": [
    "temp_df.groupby('maker').mileage.mean().sort_values(ascending=False) "
   ]
  },
  {
   "cell_type": "markdown",
   "metadata": {},
   "source": [
    "#### door_count, seat_count"
   ]
  },
  {
   "cell_type": "code",
   "execution_count": 34,
   "metadata": {},
   "outputs": [
    {
     "data": {
      "text/plain": [
       "5.0     777522\n",
       "4       636217\n",
       "4.0     494524\n",
       "None    475693\n",
       "2       164077\n",
       "2.0     143747\n",
       "5       116562\n",
       "3.0     106527\n",
       "3        14066\n",
       "0.0       8010\n",
       "6.0        906\n",
       "6          347\n",
       "1.0        259\n",
       "7.0         41\n",
       "1           14\n",
       "55.0         9\n",
       "9.0          4\n",
       "8.0          3\n",
       "58.0         3\n",
       "7            2\n",
       "77.0         1\n",
       "54.0         1\n",
       "22.0         1\n",
       "45.0         1\n",
       "17.0         1\n",
       "49.0         1\n",
       "Name: door_count, dtype: int64"
      ]
     },
     "execution_count": 34,
     "metadata": {},
     "output_type": "execute_result"
    }
   ],
   "source": [
    "df['door_count'].value_counts()"
   ]
  },
  {
   "cell_type": "code",
   "execution_count": 35,
   "metadata": {},
   "outputs": [
    {
     "data": {
      "text/plain": [
       "5.0      1084557\n",
       "5         683311\n",
       "None      537610\n",
       "4.0       147294\n",
       "4          97503\n",
       "          ...   \n",
       "27             1\n",
       "22             1\n",
       "255            1\n",
       "23             1\n",
       "138.0          1\n",
       "Name: seat_count, Length: 88, dtype: int64"
      ]
     },
     "execution_count": 35,
     "metadata": {},
     "output_type": "execute_result"
    }
   ],
   "source": [
    "df['seat_count'].value_counts()"
   ]
  },
  {
   "cell_type": "markdown",
   "metadata": {},
   "source": [
    "#### Engine power"
   ]
  },
  {
   "cell_type": "code",
   "execution_count": 98,
   "metadata": {},
   "outputs": [
    {
     "data": {
      "text/plain": [
       "(array([2.914544e+06, 8.090900e+04, 2.341000e+03, 1.580000e+02,\n",
       "        7.800000e+01, 0.000000e+00, 3.000000e+00, 0.000000e+00,\n",
       "        0.000000e+00, 2.000000e+00]),\n",
       " array([1.0000e+00, 2.2460e+02, 4.4820e+02, 6.7180e+02, 8.9540e+02,\n",
       "        1.1190e+03, 1.3426e+03, 1.5662e+03, 1.7898e+03, 2.0134e+03,\n",
       "        2.2370e+03]),\n",
       " <BarContainer object of 10 artists>)"
      ]
     },
     "execution_count": 98,
     "metadata": {},
     "output_type": "execute_result"
    },
    {
     "data": {
      "image/png": "[encoded data removed]",
      "text/plain": [
       "<Figure size 432x288 with 1 Axes>"
      ]
     },
     "metadata": {
      "needs_background": "light"
     },
     "output_type": "display_data"
    }
   ],
   "source": [
    "engine_power = df['engine_power']\n",
    "plt.hist(engine_power)"
   ]
  },
  {
   "cell_type": "code",
   "execution_count": 100,
   "metadata": {},
   "outputs": [
    {
     "data": {
      "text/plain": [
       "(array([8.96284e+05, 1.54703e+05, 5.00760e+04, 2.25940e+04, 7.27500e+03,\n",
       "        6.14500e+03, 1.28600e+03, 3.33000e+02, 1.07000e+02, 4.20000e+01]),\n",
       " array([101. , 160.8, 220.6, 280.4, 340.2, 400. , 459.8, 519.6, 579.4,\n",
       "        639.2, 699. ]),\n",
       " <BarContainer object of 10 artists>)"
      ]
     },
     "execution_count": 100,
     "metadata": {},
     "output_type": "execute_result"
    },
    {
     "data": {
      "image/png": "[encoded data removed]",
      "text/plain": [
       "<Figure size 432x288 with 1 Axes>"
      ]
     },
     "metadata": {
      "needs_background": "light"
     },
     "output_type": "display_data"
    }
   ],
   "source": [
    "engine_power = df.loc[(df['engine_power'] > 100) & (df['engine_power'] < 700) , 'engine_power']\n",
    "plt.hist(engine_power)"
   ]
  },
  {
   "cell_type": "markdown",
   "metadata": {},
   "source": [
    "#### Body type"
   ]
  },
  {
   "cell_type": "code",
   "execution_count": 101,
   "metadata": {},
   "outputs": [
    {
     "data": {
      "text/plain": [
       "array([nan, 'van', 'compact', 'transporter', 'coupe', 'convertible',\n",
       "       'other', 'sedan', 'stationwagon', 'offroad'], dtype=object)"
      ]
     },
     "execution_count": 101,
     "metadata": {},
     "output_type": "execute_result"
    }
   ],
   "source": [
    "body_type = df['body_type']\n",
    "body_type.unique()"
   ]
  },
  {
   "cell_type": "code",
   "execution_count": 102,
   "metadata": {},
   "outputs": [
    {
     "data": {
      "text/plain": [
       "other           1964289\n",
       "compact          241948\n",
       "coupe             70576\n",
       "stationwagon      69895\n",
       "van               31300\n",
       "offroad           22549\n",
       "sedan             19669\n",
       "convertible        5332\n",
       "transporter        4440\n",
       "Name: body_type, dtype: int64"
      ]
     },
     "execution_count": 102,
     "metadata": {},
     "output_type": "execute_result"
    }
   ],
   "source": [
    "body_type.value_counts()"
   ]
  },
  {
   "cell_type": "markdown",
   "metadata": {},
   "source": [
    "### color_slug"
   ]
  },
  {
   "cell_type": "code",
   "execution_count": 103,
   "metadata": {},
   "outputs": [
    {
     "data": {
      "text/plain": [
       "array([nan, 'beige', 'grey', 'blue', 'violet', 'silver', 'black', 'white',\n",
       "       'red', 'brown', 'bronze', 'yellow', 'orange', 'green', 'gold'],\n",
       "      dtype=object)"
      ]
     },
     "execution_count": 103,
     "metadata": {},
     "output_type": "execute_result"
    }
   ],
   "source": [
    "color_slug = df['color_slug']\n",
    "color_slug.unique()"
   ]
  },
  {
   "cell_type": "markdown",
   "metadata": {},
   "source": [
    "#### transmission"
   ]
  },
  {
   "cell_type": "code",
   "execution_count": 104,
   "metadata": {},
   "outputs": [
    {
     "data": {
      "text/plain": [
       "array(['man', 'auto', nan], dtype=object)"
      ]
     },
     "execution_count": 104,
     "metadata": {},
     "output_type": "execute_result"
    }
   ],
   "source": [
    "transmission = df['transmission']\n",
    "transmission.unique()"
   ]
  },
  {
   "cell_type": "markdown",
   "metadata": {},
   "source": [
    "#### fuel_type"
   ]
  },
  {
   "cell_type": "code",
   "execution_count": 105,
   "metadata": {},
   "outputs": [
    {
     "data": {
      "text/plain": [
       "array(['diesel', 'gasoline', nan, 'lpg', 'cng', 'electric'], dtype=object)"
      ]
     },
     "execution_count": 105,
     "metadata": {},
     "output_type": "execute_result"
    }
   ],
   "source": [
    "fuel_type = df['fuel_type']\n",
    "fuel_type.unique()"
   ]
  },
  {
   "cell_type": "markdown",
   "metadata": {},
   "source": [
    "#### year"
   ]
  },
  {
   "cell_type": "code",
   "execution_count": 107,
   "metadata": {},
   "outputs": [
    {
     "data": {
      "text/plain": [
       "None      1308651\n",
       "2018.0     169746\n",
       "2017.0     142800\n",
       "2016.0      98793\n",
       "2019.0      41482\n",
       "2017        37875\n",
       "2016        25988\n",
       "2018        14015\n",
       "2019         2727\n",
       "2015          869\n",
       "Name: stk_year, dtype: int64"
      ]
     },
     "execution_count": 107,
     "metadata": {},
     "output_type": "execute_result"
    }
   ],
   "source": [
    "stk_year = df['stk_year']\n",
    "stk_year.value_counts()[:10]"
   ]
  },
  {
   "cell_type": "code",
   "execution_count": 114,
   "metadata": {},
   "outputs": [
    {
     "data": {
      "text/plain": [
       "2015.0    441383\n",
       "2012.0    246152\n",
       "2011.0    219843\n",
       "2014.0    201342\n",
       "2013.0    165305\n",
       "2007.0    158319\n",
       "2010.0    157244\n",
       "2008.0    155255\n",
       "2006.0    154670\n",
       "2009.0    145305\n",
       "2005.0    143435\n",
       "2004.0    128594\n",
       "2016.0    123695\n",
       "2003.0    116947\n",
       "2002.0    105510\n",
       "2001.0     98724\n",
       "2000.0     91530\n",
       "1999.0     75095\n",
       "1998.0     55658\n",
       "1997.0     37943\n",
       "Name: manufacture_year, dtype: int64"
      ]
     },
     "execution_count": 114,
     "metadata": {},
     "output_type": "execute_result"
    }
   ],
   "source": [
    "man_year = df['manufacture_year']\n",
    "man_year.value_counts().head(20)"
   ]
  },
  {
   "cell_type": "markdown",
   "metadata": {},
   "source": [
    "#### Price"
   ]
  },
  {
   "cell_type": "code",
   "execution_count": 115,
   "metadata": {},
   "outputs": [
    {
     "data": {
      "text/plain": [
       "1295.34     673623\n",
       "9900.00       6609\n",
       "10900.00      6497\n",
       "12900.00      6274\n",
       "11900.00      6169\n",
       "             ...  \n",
       "8140.90          1\n",
       "15320.69         1\n",
       "64696.19         1\n",
       "56355.26         1\n",
       "7392.82          1\n",
       "Name: price_eur, Length: 227305, dtype: int64"
      ]
     },
     "execution_count": 115,
     "metadata": {},
     "output_type": "execute_result"
    }
   ],
   "source": [
    "price = df['price_eur']\n",
    "price.value_counts()"
   ]
  },
  {
   "cell_type": "code",
   "execution_count": 121,
   "metadata": {},
   "outputs": [
    {
     "data": {
      "text/plain": [
       "<Axes: xlabel='price_eur', ylabel='Count'>"
      ]
     },
     "execution_count": 121,
     "metadata": {},
     "output_type": "execute_result"
    },
    {
     "data": {
      "image/png": "[encoded data removed]",
      "text/plain": [
       "<Figure size 576x432 with 1 Axes>"
      ]
     },
     "metadata": {
      "needs_background": "light"
     },
     "output_type": "display_data"
    }
   ],
   "source": [
    "price = price[(price < 100000) & (price != 1295.34)]\n",
    "plt.figure(figsize=(8,6))\n",
    "sns.histplot(price, color='cornflowerblue', bins=20)"
   ]
  },
  {
   "cell_type": "code",
   "execution_count": 129,
   "metadata": {},
   "outputs": [
    {
     "data": {
      "image/png": "[encoded data removed]",
      "text/plain": [
       "<Figure size 432x432 with 1 Axes>"
      ]
     },
     "metadata": {
      "needs_background": "light"
     },
     "output_type": "display_data"
    }
   ],
   "source": [
    "fig, ax = plt.subplots(figsize=(6, 6))\n",
    "\n",
    "# Plot horizontal bars\n",
    "bars = sns.histplot(price, color='cornflowerblue', bins=20)\n",
    "\n",
    "\n",
    "# Remove spines (borders)\n",
    "ax.spines['right'].set_visible(False)\n",
    "ax.spines['left'].set_visible(True)\n",
    "ax.spines['bottom'].set_visible(True)\n",
    "ax.spines['top'].set_visible(False)\n",
    "\n",
    "# Show the plot\n",
    "plt.show()"
   ]
  },
  {
   "cell_type": "markdown",
   "metadata": {},
   "source": [
    "#### Clean df"
   ]
  },
  {
   "cell_type": "code",
   "execution_count": 2,
   "metadata": {},
   "outputs": [
    {
     "name": "stderr",
     "output_type": "stream",
     "text": [
      "C:\\Users\\nhduc\\AppData\\Local\\Temp\\ipykernel_16820\\3428702827.py:1: DtypeWarning: Columns (11) have mixed types. Specify dtype option on import or set low_memory=False.\n",
      "  clean_df = pd.read_csv(r\"../../data/clean_df.csv\")\n"
     ]
    },
    {
     "data": {
      "text/html": [
       "<div>\n",
       "<style scoped>\n",
       "    .dataframe tbody tr th:only-of-type {\n",
       "        vertical-align: middle;\n",
       "    }\n",
       "\n",
       "    .dataframe tbody tr th {\n",
       "        vertical-align: top;\n",
       "    }\n",
       "\n",
       "    .dataframe thead th {\n",
       "        text-align: right;\n",
       "    }\n",
       "</style>\n",
       "<table border=\"1\" class=\"dataframe\">\n",
       "  <thead>\n",
       "    <tr style=\"text-align: right;\">\n",
       "      <th></th>\n",
       "      <th>maker</th>\n",
       "      <th>model</th>\n",
       "      <th>mileage</th>\n",
       "      <th>manufacture_year</th>\n",
       "      <th>engine_displacement</th>\n",
       "      <th>engine_power</th>\n",
       "      <th>body_type</th>\n",
       "      <th>stk_year</th>\n",
       "      <th>transmission</th>\n",
       "      <th>door_count</th>\n",
       "      <th>seat_count</th>\n",
       "      <th>fuel_type</th>\n",
       "      <th>date_created</th>\n",
       "      <th>date_last_seen</th>\n",
       "      <th>price_eur</th>\n",
       "    </tr>\n",
       "  </thead>\n",
       "  <tbody>\n",
       "    <tr>\n",
       "      <th>0</th>\n",
       "      <td>ford</td>\n",
       "      <td>galaxy</td>\n",
       "      <td>151000.0</td>\n",
       "      <td>2011.0</td>\n",
       "      <td>2000.0</td>\n",
       "      <td>138.12506</td>\n",
       "      <td>compact</td>\n",
       "      <td>NaN</td>\n",
       "      <td>man</td>\n",
       "      <td>5.0</td>\n",
       "      <td>7.0</td>\n",
       "      <td>diesel</td>\n",
       "      <td>2015-11-14 18:10:06.838319+00</td>\n",
       "      <td>2016-01-27 20:40:15.46361+00</td>\n",
       "      <td>10584.75</td>\n",
       "    </tr>\n",
       "    <tr>\n",
       "      <th>1</th>\n",
       "      <td>skoda</td>\n",
       "      <td>octavia</td>\n",
       "      <td>143476.0</td>\n",
       "      <td>2012.0</td>\n",
       "      <td>2000.0</td>\n",
       "      <td>108.62262</td>\n",
       "      <td>compact</td>\n",
       "      <td>NaN</td>\n",
       "      <td>man</td>\n",
       "      <td>5.0</td>\n",
       "      <td>5.0</td>\n",
       "      <td>diesel</td>\n",
       "      <td>2015-11-14 18:10:06.853411+00</td>\n",
       "      <td>2016-01-27 20:40:15.46361+00</td>\n",
       "      <td>8882.31</td>\n",
       "    </tr>\n",
       "    <tr>\n",
       "      <th>2</th>\n",
       "      <td>bmw</td>\n",
       "      <td>NaN</td>\n",
       "      <td>97676.0</td>\n",
       "      <td>2010.0</td>\n",
       "      <td>1995.0</td>\n",
       "      <td>113.98670</td>\n",
       "      <td>compact</td>\n",
       "      <td>NaN</td>\n",
       "      <td>man</td>\n",
       "      <td>5.0</td>\n",
       "      <td>5.0</td>\n",
       "      <td>diesel</td>\n",
       "      <td>2015-11-14 18:10:06.861792+00</td>\n",
       "      <td>2016-01-27 20:40:15.46361+00</td>\n",
       "      <td>12065.06</td>\n",
       "    </tr>\n",
       "    <tr>\n",
       "      <th>3</th>\n",
       "      <td>skoda</td>\n",
       "      <td>fabia</td>\n",
       "      <td>111970.0</td>\n",
       "      <td>2004.0</td>\n",
       "      <td>1200.0</td>\n",
       "      <td>84.48426</td>\n",
       "      <td>compact</td>\n",
       "      <td>NaN</td>\n",
       "      <td>man</td>\n",
       "      <td>5.0</td>\n",
       "      <td>5.0</td>\n",
       "      <td>gasoline</td>\n",
       "      <td>2015-11-14 18:10:06.872313+00</td>\n",
       "      <td>2016-01-27 20:40:15.46361+00</td>\n",
       "      <td>2960.77</td>\n",
       "    </tr>\n",
       "    <tr>\n",
       "      <th>4</th>\n",
       "      <td>skoda</td>\n",
       "      <td>fabia</td>\n",
       "      <td>128886.0</td>\n",
       "      <td>2004.0</td>\n",
       "      <td>1200.0</td>\n",
       "      <td>84.48426</td>\n",
       "      <td>compact</td>\n",
       "      <td>NaN</td>\n",
       "      <td>man</td>\n",
       "      <td>5.0</td>\n",
       "      <td>5.0</td>\n",
       "      <td>gasoline</td>\n",
       "      <td>2015-11-14 18:10:06.880335+00</td>\n",
       "      <td>2016-01-27 20:40:15.46361+00</td>\n",
       "      <td>2738.71</td>\n",
       "    </tr>\n",
       "  </tbody>\n",
       "</table>\n",
       "</div>"
      ],
      "text/plain": [
       "   maker    model   mileage  manufacture_year  engine_displacement  \\\n",
       "0   ford   galaxy  151000.0            2011.0               2000.0   \n",
       "1  skoda  octavia  143476.0            2012.0               2000.0   \n",
       "2    bmw      NaN   97676.0            2010.0               1995.0   \n",
       "3  skoda    fabia  111970.0            2004.0               1200.0   \n",
       "4  skoda    fabia  128886.0            2004.0               1200.0   \n",
       "\n",
       "   engine_power body_type  stk_year transmission  door_count  seat_count  \\\n",
       "0     138.12506   compact       NaN          man         5.0         7.0   \n",
       "1     108.62262   compact       NaN          man         5.0         5.0   \n",
       "2     113.98670   compact       NaN          man         5.0         5.0   \n",
       "3      84.48426   compact       NaN          man         5.0         5.0   \n",
       "4      84.48426   compact       NaN          man         5.0         5.0   \n",
       "\n",
       "  fuel_type                   date_created                date_last_seen  \\\n",
       "0    diesel  2015-11-14 18:10:06.838319+00  2016-01-27 20:40:15.46361+00   \n",
       "1    diesel  2015-11-14 18:10:06.853411+00  2016-01-27 20:40:15.46361+00   \n",
       "2    diesel  2015-11-14 18:10:06.861792+00  2016-01-27 20:40:15.46361+00   \n",
       "3  gasoline  2015-11-14 18:10:06.872313+00  2016-01-27 20:40:15.46361+00   \n",
       "4  gasoline  2015-11-14 18:10:06.880335+00  2016-01-27 20:40:15.46361+00   \n",
       "\n",
       "   price_eur  \n",
       "0   10584.75  \n",
       "1    8882.31  \n",
       "2   12065.06  \n",
       "3    2960.77  \n",
       "4    2738.71  "
      ]
     },
     "execution_count": 2,
     "metadata": {},
     "output_type": "execute_result"
    }
   ],
   "source": [
    "clean_df = pd.read_csv(r\"../../data/clean_df.csv\")\n",
    "clean_df.head()"
   ]
  },
  {
   "cell_type": "code",
   "execution_count": 4,
   "metadata": {},
   "outputs": [
    {
     "data": {
      "text/html": [
       "<div>\n",
       "<style scoped>\n",
       "    .dataframe tbody tr th:only-of-type {\n",
       "        vertical-align: middle;\n",
       "    }\n",
       "\n",
       "    .dataframe tbody tr th {\n",
       "        vertical-align: top;\n",
       "    }\n",
       "\n",
       "    .dataframe thead th {\n",
       "        text-align: right;\n",
       "    }\n",
       "</style>\n",
       "<table border=\"1\" class=\"dataframe\">\n",
       "  <thead>\n",
       "    <tr style=\"text-align: right;\">\n",
       "      <th></th>\n",
       "      <th>maker</th>\n",
       "      <th>model</th>\n",
       "      <th>mileage</th>\n",
       "      <th>engine_displacement</th>\n",
       "      <th>engine_power</th>\n",
       "      <th>body_type</th>\n",
       "      <th>transmission</th>\n",
       "      <th>door_count</th>\n",
       "      <th>seat_count</th>\n",
       "      <th>fuel_type</th>\n",
       "      <th>price_eur</th>\n",
       "      <th>man_period</th>\n",
       "      <th>stk_period</th>\n",
       "    </tr>\n",
       "  </thead>\n",
       "  <tbody>\n",
       "    <tr>\n",
       "      <th>0</th>\n",
       "      <td>ford</td>\n",
       "      <td>galaxy</td>\n",
       "      <td>151000.0</td>\n",
       "      <td>2000.0</td>\n",
       "      <td>138.12506</td>\n",
       "      <td>compact</td>\n",
       "      <td>man</td>\n",
       "      <td>5.0</td>\n",
       "      <td>7.0</td>\n",
       "      <td>diesel</td>\n",
       "      <td>10584.75</td>\n",
       "      <td>4.0</td>\n",
       "      <td>NaN</td>\n",
       "    </tr>\n",
       "    <tr>\n",
       "      <th>1</th>\n",
       "      <td>skoda</td>\n",
       "      <td>octavia</td>\n",
       "      <td>143476.0</td>\n",
       "      <td>2000.0</td>\n",
       "      <td>108.62262</td>\n",
       "      <td>compact</td>\n",
       "      <td>man</td>\n",
       "      <td>5.0</td>\n",
       "      <td>5.0</td>\n",
       "      <td>diesel</td>\n",
       "      <td>8882.31</td>\n",
       "      <td>3.0</td>\n",
       "      <td>NaN</td>\n",
       "    </tr>\n",
       "    <tr>\n",
       "      <th>2</th>\n",
       "      <td>bmw</td>\n",
       "      <td>NaN</td>\n",
       "      <td>97676.0</td>\n",
       "      <td>1995.0</td>\n",
       "      <td>113.98670</td>\n",
       "      <td>compact</td>\n",
       "      <td>man</td>\n",
       "      <td>5.0</td>\n",
       "      <td>5.0</td>\n",
       "      <td>diesel</td>\n",
       "      <td>12065.06</td>\n",
       "      <td>5.0</td>\n",
       "      <td>NaN</td>\n",
       "    </tr>\n",
       "    <tr>\n",
       "      <th>3</th>\n",
       "      <td>skoda</td>\n",
       "      <td>fabia</td>\n",
       "      <td>111970.0</td>\n",
       "      <td>1200.0</td>\n",
       "      <td>84.48426</td>\n",
       "      <td>compact</td>\n",
       "      <td>man</td>\n",
       "      <td>5.0</td>\n",
       "      <td>5.0</td>\n",
       "      <td>gasoline</td>\n",
       "      <td>2960.77</td>\n",
       "      <td>11.0</td>\n",
       "      <td>NaN</td>\n",
       "    </tr>\n",
       "    <tr>\n",
       "      <th>4</th>\n",
       "      <td>skoda</td>\n",
       "      <td>fabia</td>\n",
       "      <td>128886.0</td>\n",
       "      <td>1200.0</td>\n",
       "      <td>84.48426</td>\n",
       "      <td>compact</td>\n",
       "      <td>man</td>\n",
       "      <td>5.0</td>\n",
       "      <td>5.0</td>\n",
       "      <td>gasoline</td>\n",
       "      <td>2738.71</td>\n",
       "      <td>11.0</td>\n",
       "      <td>NaN</td>\n",
       "    </tr>\n",
       "  </tbody>\n",
       "</table>\n",
       "</div>"
      ],
      "text/plain": [
       "   maker    model   mileage  engine_displacement  engine_power body_type  \\\n",
       "0   ford   galaxy  151000.0               2000.0     138.12506   compact   \n",
       "1  skoda  octavia  143476.0               2000.0     108.62262   compact   \n",
       "2    bmw      NaN   97676.0               1995.0     113.98670   compact   \n",
       "3  skoda    fabia  111970.0               1200.0      84.48426   compact   \n",
       "4  skoda    fabia  128886.0               1200.0      84.48426   compact   \n",
       "\n",
       "  transmission  door_count  seat_count fuel_type  price_eur  man_period  \\\n",
       "0          man         5.0         7.0    diesel   10584.75         4.0   \n",
       "1          man         5.0         5.0    diesel    8882.31         3.0   \n",
       "2          man         5.0         5.0    diesel   12065.06         5.0   \n",
       "3          man         5.0         5.0  gasoline    2960.77        11.0   \n",
       "4          man         5.0         5.0  gasoline    2738.71        11.0   \n",
       "\n",
       "   stk_period  \n",
       "0         NaN  \n",
       "1         NaN  \n",
       "2         NaN  \n",
       "3         NaN  \n",
       "4         NaN  "
      ]
     },
     "execution_count": 4,
     "metadata": {},
     "output_type": "execute_result"
    }
   ],
   "source": [
    "clean_df['date_created'] = pd.to_datetime(clean_df['date_created'])\n",
    "clean_df['year_created'] = clean_df['date_created'].dt.year\n",
    "\n",
    "clean_df['man_period'] = clean_df['year_created'] - clean_df['manufacture_year']\n",
    "clean_df['stk_period'] = clean_df['year_created'] - clean_df['stk_year']\n",
    "\n",
    "clean_df = clean_df.drop(['manufacture_year', 'stk_year', 'date_created', 'date_last_seen', 'year_created'], axis=1)\n",
    "clean_df.head()"
   ]
  },
  {
   "cell_type": "code",
   "execution_count": 9,
   "metadata": {},
   "outputs": [
    {
     "data": {
      "text/html": [
       "<div>\n",
       "<style scoped>\n",
       "    .dataframe tbody tr th:only-of-type {\n",
       "        vertical-align: middle;\n",
       "    }\n",
       "\n",
       "    .dataframe tbody tr th {\n",
       "        vertical-align: top;\n",
       "    }\n",
       "\n",
       "    .dataframe thead th {\n",
       "        text-align: right;\n",
       "    }\n",
       "</style>\n",
       "<table border=\"1\" class=\"dataframe\">\n",
       "  <thead>\n",
       "    <tr style=\"text-align: right;\">\n",
       "      <th></th>\n",
       "      <th>mileage</th>\n",
       "      <th>engine_displacement</th>\n",
       "      <th>engine_power</th>\n",
       "      <th>door_count</th>\n",
       "      <th>seat_count</th>\n",
       "      <th>man_period</th>\n",
       "      <th>stk_period</th>\n",
       "      <th>price_eur</th>\n",
       "    </tr>\n",
       "  </thead>\n",
       "  <tbody>\n",
       "    <tr>\n",
       "      <th>mileage</th>\n",
       "      <td>1.000000</td>\n",
       "      <td>0.216322</td>\n",
       "      <td>0.000369</td>\n",
       "      <td>0.024099</td>\n",
       "      <td>0.052112</td>\n",
       "      <td>0.694517</td>\n",
       "      <td>0.486847</td>\n",
       "      <td>0.505467</td>\n",
       "    </tr>\n",
       "    <tr>\n",
       "      <th>engine_displacement</th>\n",
       "      <td>0.216322</td>\n",
       "      <td>1.000000</td>\n",
       "      <td>0.780909</td>\n",
       "      <td>0.022409</td>\n",
       "      <td>0.042308</td>\n",
       "      <td>0.131164</td>\n",
       "      <td>0.071904</td>\n",
       "      <td>0.392190</td>\n",
       "    </tr>\n",
       "    <tr>\n",
       "      <th>engine_power</th>\n",
       "      <td>0.000369</td>\n",
       "      <td>0.780909</td>\n",
       "      <td>1.000000</td>\n",
       "      <td>0.045531</td>\n",
       "      <td>0.011943</td>\n",
       "      <td>0.071951</td>\n",
       "      <td>0.064030</td>\n",
       "      <td>0.613308</td>\n",
       "    </tr>\n",
       "    <tr>\n",
       "      <th>door_count</th>\n",
       "      <td>0.024099</td>\n",
       "      <td>0.022409</td>\n",
       "      <td>0.045531</td>\n",
       "      <td>1.000000</td>\n",
       "      <td>0.395099</td>\n",
       "      <td>0.137039</td>\n",
       "      <td>0.000888</td>\n",
       "      <td>0.039982</td>\n",
       "    </tr>\n",
       "    <tr>\n",
       "      <th>seat_count</th>\n",
       "      <td>0.052112</td>\n",
       "      <td>0.042308</td>\n",
       "      <td>0.011943</td>\n",
       "      <td>0.395099</td>\n",
       "      <td>1.000000</td>\n",
       "      <td>0.033851</td>\n",
       "      <td>0.017060</td>\n",
       "      <td>0.022842</td>\n",
       "    </tr>\n",
       "    <tr>\n",
       "      <th>man_period</th>\n",
       "      <td>0.694517</td>\n",
       "      <td>0.131164</td>\n",
       "      <td>0.071951</td>\n",
       "      <td>0.137039</td>\n",
       "      <td>0.033851</td>\n",
       "      <td>1.000000</td>\n",
       "      <td>0.391681</td>\n",
       "      <td>0.540648</td>\n",
       "    </tr>\n",
       "    <tr>\n",
       "      <th>stk_period</th>\n",
       "      <td>0.486847</td>\n",
       "      <td>0.071904</td>\n",
       "      <td>0.064030</td>\n",
       "      <td>0.000888</td>\n",
       "      <td>0.017060</td>\n",
       "      <td>0.391681</td>\n",
       "      <td>1.000000</td>\n",
       "      <td>0.361007</td>\n",
       "    </tr>\n",
       "    <tr>\n",
       "      <th>price_eur</th>\n",
       "      <td>0.505467</td>\n",
       "      <td>0.392190</td>\n",
       "      <td>0.613308</td>\n",
       "      <td>0.039982</td>\n",
       "      <td>0.022842</td>\n",
       "      <td>0.540648</td>\n",
       "      <td>0.361007</td>\n",
       "      <td>1.000000</td>\n",
       "    </tr>\n",
       "  </tbody>\n",
       "</table>\n",
       "</div>"
      ],
      "text/plain": [
       "                      mileage  engine_displacement  engine_power  door_count  \\\n",
       "mileage              1.000000             0.216322      0.000369    0.024099   \n",
       "engine_displacement  0.216322             1.000000      0.780909    0.022409   \n",
       "engine_power         0.000369             0.780909      1.000000    0.045531   \n",
       "door_count           0.024099             0.022409      0.045531    1.000000   \n",
       "seat_count           0.052112             0.042308      0.011943    0.395099   \n",
       "man_period           0.694517             0.131164      0.071951    0.137039   \n",
       "stk_period           0.486847             0.071904      0.064030    0.000888   \n",
       "price_eur            0.505467             0.392190      0.613308    0.039982   \n",
       "\n",
       "                     seat_count  man_period  stk_period  price_eur  \n",
       "mileage                0.052112    0.694517    0.486847   0.505467  \n",
       "engine_displacement    0.042308    0.131164    0.071904   0.392190  \n",
       "engine_power           0.011943    0.071951    0.064030   0.613308  \n",
       "door_count             0.395099    0.137039    0.000888   0.039982  \n",
       "seat_count             1.000000    0.033851    0.017060   0.022842  \n",
       "man_period             0.033851    1.000000    0.391681   0.540648  \n",
       "stk_period             0.017060    0.391681    1.000000   0.361007  \n",
       "price_eur              0.022842    0.540648    0.361007   1.000000  "
      ]
     },
     "execution_count": 9,
     "metadata": {},
     "output_type": "execute_result"
    }
   ],
   "source": [
    "corr_df = clean_df[[\"mileage\"\t,\"engine_displacement\"\t,\"engine_power\"\t,\"door_count\"\t,\"seat_count\",\t\t\"man_period\",\t\"stk_period\", \"price_eur\"]]\n",
    "corr = corr_df.corr().abs()\n",
    "corr"
   ]
  },
  {
   "cell_type": "code",
   "execution_count": 18,
   "metadata": {},
   "outputs": [
    {
     "data": {
      "text/plain": [
       "<Axes: >"
      ]
     },
     "execution_count": 18,
     "metadata": {},
     "output_type": "execute_result"
    },
    {
     "data": {
      "image/png": "[encoded data removed]",
      "text/plain": [
       "<Figure size 864x720 with 2 Axes>"
      ]
     },
     "metadata": {
      "needs_background": "light"
     },
     "output_type": "display_data"
    }
   ],
   "source": [
    "plt.figure(figsize=(12,10))\n",
    "sns.heatmap(corr, cmap=\"Blues\", annot=True, fmt='.2f')"
   ]
  },
  {
   "cell_type": "code",
   "execution_count": null,
   "metadata": {},
   "outputs": [],
   "source": []
  },
  {
   "cell_type": "code",
   "execution_count": null,
   "metadata": {},
   "outputs": [],
   "source": []
  },
  {
   "cell_type": "code",
   "execution_count": null,
   "metadata": {},
   "outputs": [],
   "source": []
  },
  {
   "cell_type": "code",
   "execution_count": null,
   "metadata": {},
   "outputs": [],
   "source": []
  },
  {
   "cell_type": "code",
   "execution_count": null,
   "metadata": {},
   "outputs": [],
   "source": []
  }
 ],
 "metadata": {
  "kernelspec": {
   "display_name": "base",
   "language": "python",
   "name": "python3"
  },
  "language_info": {
   "codemirror_mode": {
    "name": "ipython",
    "version": 3
   },
   "file_extension": ".py",
   "mimetype": "text/x-python",
   "name": "python",
   "nbconvert_exporter": "python",
   "pygments_lexer": "ipython3",
   "version": "3.9.12"
  }
 },
 "nbformat": 4,
 "nbformat_minor": 2
}
