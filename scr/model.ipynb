{
 "cells": [
  {
   "cell_type": "code",
   "execution_count": 1,
   "metadata": {},
   "outputs": [
    {
     "name": "stderr",
     "output_type": "stream",
     "text": [
      "c:\\Users\\nhduc\\anaconda3\\lib\\site-packages\\scipy\\__init__.py:146: UserWarning: A NumPy version >=1.16.5 and <1.23.0 is required for this version of SciPy (detected version 1.26.2\n",
      "  warnings.warn(f\"A NumPy version >={np_minversion} and <{np_maxversion}\"\n"
     ]
    }
   ],
   "source": [
    "import pandas as pd\n",
    "import numpy as np\n",
    "\n",
    "import matplotlib.pyplot as plt\n",
    "import seaborn as sns\n",
    "\n",
    "import warnings\n",
    "import os \n",
    "\n",
    "from sklearn.impute import SimpleImputer, MissingIndicator\n",
    "from sklearn.base import BaseEstimator, TransformerMixin\n",
    "from sklearn.compose import ColumnTransformer\n",
    "from sklearn.pipeline import Pipeline\n",
    "from sklearn.preprocessing import OneHotEncoder\n",
    "from sklearn.linear_model import LinearRegression, Lasso, Ridge\n",
    "from sklearn.model_selection import train_test_split, KFold, cross_validate, GridSearchCV\n",
    "from sklearn.decomposition import PCA\n",
    "\n",
    "from sklearn.metrics import r2_score, mean_squared_error, mean_absolute_error\n",
    "\n",
    "warnings.filterwarnings(\"ignore\")"
   ]
  },
  {
   "cell_type": "code",
   "execution_count": 2,
   "metadata": {},
   "outputs": [],
   "source": [
    "link = r\"D:/clean_df.csv\"\n",
    "\n",
    "df = pd.read_csv(link)"
   ]
  },
  {
   "cell_type": "markdown",
   "metadata": {},
   "source": [
    "### Create man_period, stk_period"
   ]
  },
  {
   "cell_type": "code",
   "execution_count": 3,
   "metadata": {},
   "outputs": [
    {
     "data": {
      "text/html": [
       "<div>\n",
       "<style scoped>\n",
       "    .dataframe tbody tr th:only-of-type {\n",
       "        vertical-align: middle;\n",
       "    }\n",
       "\n",
       "    .dataframe tbody tr th {\n",
       "        vertical-align: top;\n",
       "    }\n",
       "\n",
       "    .dataframe thead th {\n",
       "        text-align: right;\n",
       "    }\n",
       "</style>\n",
       "<table border=\"1\" class=\"dataframe\">\n",
       "  <thead>\n",
       "    <tr style=\"text-align: right;\">\n",
       "      <th></th>\n",
       "      <th>maker</th>\n",
       "      <th>model</th>\n",
       "      <th>mileage</th>\n",
       "      <th>manufacture_year</th>\n",
       "      <th>engine_displacement</th>\n",
       "      <th>engine_power</th>\n",
       "      <th>body_type</th>\n",
       "      <th>stk_year</th>\n",
       "      <th>transmission</th>\n",
       "      <th>door_count</th>\n",
       "      <th>seat_count</th>\n",
       "      <th>fuel_type</th>\n",
       "      <th>date_created</th>\n",
       "      <th>date_last_seen</th>\n",
       "      <th>price_eur</th>\n",
       "    </tr>\n",
       "  </thead>\n",
       "  <tbody>\n",
       "    <tr>\n",
       "      <th>0</th>\n",
       "      <td>ford</td>\n",
       "      <td>galaxy</td>\n",
       "      <td>151000.0</td>\n",
       "      <td>2011.0</td>\n",
       "      <td>2000.0</td>\n",
       "      <td>138.12506</td>\n",
       "      <td>compact</td>\n",
       "      <td>NaN</td>\n",
       "      <td>man</td>\n",
       "      <td>5.0</td>\n",
       "      <td>7.0</td>\n",
       "      <td>diesel</td>\n",
       "      <td>2015-11-14 18:10:06.838319+00</td>\n",
       "      <td>2016-01-27 20:40:15.46361+00</td>\n",
       "      <td>10584.75</td>\n",
       "    </tr>\n",
       "    <tr>\n",
       "      <th>1</th>\n",
       "      <td>skoda</td>\n",
       "      <td>octavia</td>\n",
       "      <td>143476.0</td>\n",
       "      <td>2012.0</td>\n",
       "      <td>2000.0</td>\n",
       "      <td>108.62262</td>\n",
       "      <td>compact</td>\n",
       "      <td>NaN</td>\n",
       "      <td>man</td>\n",
       "      <td>5.0</td>\n",
       "      <td>5.0</td>\n",
       "      <td>diesel</td>\n",
       "      <td>2015-11-14 18:10:06.853411+00</td>\n",
       "      <td>2016-01-27 20:40:15.46361+00</td>\n",
       "      <td>8882.31</td>\n",
       "    </tr>\n",
       "    <tr>\n",
       "      <th>2</th>\n",
       "      <td>bmw</td>\n",
       "      <td>NaN</td>\n",
       "      <td>97676.0</td>\n",
       "      <td>2010.0</td>\n",
       "      <td>1995.0</td>\n",
       "      <td>113.98670</td>\n",
       "      <td>compact</td>\n",
       "      <td>NaN</td>\n",
       "      <td>man</td>\n",
       "      <td>5.0</td>\n",
       "      <td>5.0</td>\n",
       "      <td>diesel</td>\n",
       "      <td>2015-11-14 18:10:06.861792+00</td>\n",
       "      <td>2016-01-27 20:40:15.46361+00</td>\n",
       "      <td>12065.06</td>\n",
       "    </tr>\n",
       "    <tr>\n",
       "      <th>3</th>\n",
       "      <td>skoda</td>\n",
       "      <td>fabia</td>\n",
       "      <td>111970.0</td>\n",
       "      <td>2004.0</td>\n",
       "      <td>1200.0</td>\n",
       "      <td>84.48426</td>\n",
       "      <td>compact</td>\n",
       "      <td>NaN</td>\n",
       "      <td>man</td>\n",
       "      <td>5.0</td>\n",
       "      <td>5.0</td>\n",
       "      <td>gasoline</td>\n",
       "      <td>2015-11-14 18:10:06.872313+00</td>\n",
       "      <td>2016-01-27 20:40:15.46361+00</td>\n",
       "      <td>2960.77</td>\n",
       "    </tr>\n",
       "    <tr>\n",
       "      <th>4</th>\n",
       "      <td>skoda</td>\n",
       "      <td>fabia</td>\n",
       "      <td>128886.0</td>\n",
       "      <td>2004.0</td>\n",
       "      <td>1200.0</td>\n",
       "      <td>84.48426</td>\n",
       "      <td>compact</td>\n",
       "      <td>NaN</td>\n",
       "      <td>man</td>\n",
       "      <td>5.0</td>\n",
       "      <td>5.0</td>\n",
       "      <td>gasoline</td>\n",
       "      <td>2015-11-14 18:10:06.880335+00</td>\n",
       "      <td>2016-01-27 20:40:15.46361+00</td>\n",
       "      <td>2738.71</td>\n",
       "    </tr>\n",
       "  </tbody>\n",
       "</table>\n",
       "</div>"
      ],
      "text/plain": [
       "   maker    model   mileage  manufacture_year  engine_displacement  \\\n",
       "0   ford   galaxy  151000.0            2011.0               2000.0   \n",
       "1  skoda  octavia  143476.0            2012.0               2000.0   \n",
       "2    bmw      NaN   97676.0            2010.0               1995.0   \n",
       "3  skoda    fabia  111970.0            2004.0               1200.0   \n",
       "4  skoda    fabia  128886.0            2004.0               1200.0   \n",
       "\n",
       "   engine_power body_type  stk_year transmission  door_count  seat_count  \\\n",
       "0     138.12506   compact       NaN          man         5.0         7.0   \n",
       "1     108.62262   compact       NaN          man         5.0         5.0   \n",
       "2     113.98670   compact       NaN          man         5.0         5.0   \n",
       "3      84.48426   compact       NaN          man         5.0         5.0   \n",
       "4      84.48426   compact       NaN          man         5.0         5.0   \n",
       "\n",
       "  fuel_type                   date_created                date_last_seen  \\\n",
       "0    diesel  2015-11-14 18:10:06.838319+00  2016-01-27 20:40:15.46361+00   \n",
       "1    diesel  2015-11-14 18:10:06.853411+00  2016-01-27 20:40:15.46361+00   \n",
       "2    diesel  2015-11-14 18:10:06.861792+00  2016-01-27 20:40:15.46361+00   \n",
       "3  gasoline  2015-11-14 18:10:06.872313+00  2016-01-27 20:40:15.46361+00   \n",
       "4  gasoline  2015-11-14 18:10:06.880335+00  2016-01-27 20:40:15.46361+00   \n",
       "\n",
       "   price_eur  \n",
       "0   10584.75  \n",
       "1    8882.31  \n",
       "2   12065.06  \n",
       "3    2960.77  \n",
       "4    2738.71  "
      ]
     },
     "execution_count": 3,
     "metadata": {},
     "output_type": "execute_result"
    }
   ],
   "source": [
    "df.head()"
   ]
  },
  {
   "cell_type": "code",
   "execution_count": 4,
   "metadata": {},
   "outputs": [],
   "source": [
    "df['date_created'] = pd.to_datetime(df['date_created'])\n",
    "df['year_created'] = df['date_created'].dt.year\n",
    "\n",
    "df['man_period'] = df['year_created'] - df['manufacture_year']\n",
    "df['stk_period'] = df['year_created'] - df['stk_year']"
   ]
  },
  {
   "cell_type": "code",
   "execution_count": 5,
   "metadata": {},
   "outputs": [],
   "source": [
    "df = df.drop(['manufacture_year', 'stk_year', 'date_created', 'date_last_seen', 'year_created'], axis=1)\n",
    "df.iloc[:,[0,1,5,6,9]] = df.iloc[:,[0,1,5,6,9]].fillna('unknown')"
   ]
  },
  {
   "cell_type": "markdown",
   "metadata": {},
   "source": [
    "## Feature processing"
   ]
  },
  {
   "cell_type": "code",
   "execution_count": 6,
   "metadata": {},
   "outputs": [],
   "source": [
    "X = df.drop('price_eur', axis=1).to_numpy()\n",
    "y = df['price_eur'].to_numpy()"
   ]
  },
  {
   "cell_type": "code",
   "execution_count": 7,
   "metadata": {},
   "outputs": [],
   "source": [
    "class Indicator(BaseEstimator, TransformerMixin):\n",
    "    def __init__(self):\n",
    "        pass\n",
    "\n",
    "    def fit(self, X, y=None):\n",
    "        return self\n",
    "    \n",
    "    def transform(self, X, y=None):\n",
    "        nonnull_X = np.nan_to_num(X.astype(float), nan=0).astype(int)\n",
    "\n",
    "        missing_indicator = MissingIndicator()\n",
    "        indicator_values = missing_indicator.fit_transform(X).astype(int)\n",
    "\n",
    "        return np.c_[nonnull_X, indicator_values]"
   ]
  },
  {
   "cell_type": "code",
   "execution_count": 8,
   "metadata": {},
   "outputs": [],
   "source": [
    "num_cols = [2,3,4,7,8,10,11]\n",
    "cat_cols = [0,5,6,9]\n",
    "\n",
    "one_hot_encoder = OneHotEncoder(handle_unknown='ignore', sparse=False)\n",
    "indicator = Indicator()\n",
    "\n",
    "full_pipeline = ColumnTransformer([\n",
    "    (\"num\", indicator, num_cols),\n",
    "    (\"cat\", one_hot_encoder , cat_cols),\n",
    "])"
   ]
  },
  {
   "cell_type": "code",
   "execution_count": 9,
   "metadata": {},
   "outputs": [],
   "source": [
    "full_pipeline.fit(X)\n",
    "X_trans = full_pipeline.transform(X)"
   ]
  },
  {
   "cell_type": "markdown",
   "metadata": {},
   "source": [
    "## Model"
   ]
  },
  {
   "cell_type": "markdown",
   "metadata": {},
   "source": [
    "### Linear regression"
   ]
  },
  {
   "cell_type": "code",
   "execution_count": 10,
   "metadata": {},
   "outputs": [],
   "source": [
    "eva_df = pd.DataFrame(columns = [\"Model\", \"RMSE\", \"MAE\", \"R2\" ])     "
   ]
  },
  {
   "cell_type": "code",
   "execution_count": 11,
   "metadata": {},
   "outputs": [
    {
     "data": {
      "text/html": [
       "<div>\n",
       "<style scoped>\n",
       "    .dataframe tbody tr th:only-of-type {\n",
       "        vertical-align: middle;\n",
       "    }\n",
       "\n",
       "    .dataframe tbody tr th {\n",
       "        vertical-align: top;\n",
       "    }\n",
       "\n",
       "    .dataframe thead th {\n",
       "        text-align: right;\n",
       "    }\n",
       "</style>\n",
       "<table border=\"1\" class=\"dataframe\">\n",
       "  <thead>\n",
       "    <tr style=\"text-align: right;\">\n",
       "      <th></th>\n",
       "      <th>Model</th>\n",
       "      <th>RMSE</th>\n",
       "      <th>MAE</th>\n",
       "      <th>R2</th>\n",
       "    </tr>\n",
       "  </thead>\n",
       "  <tbody>\n",
       "    <tr>\n",
       "      <th>0</th>\n",
       "      <td>Linear Regression</td>\n",
       "      <td>6697.777555</td>\n",
       "      <td>4215.4448</td>\n",
       "      <td>0.722627</td>\n",
       "    </tr>\n",
       "  </tbody>\n",
       "</table>\n",
       "</div>"
      ],
      "text/plain": [
       "               Model         RMSE        MAE        R2\n",
       "0  Linear Regression  6697.777555  4215.4448  0.722627"
      ]
     },
     "execution_count": 11,
     "metadata": {},
     "output_type": "execute_result"
    }
   ],
   "source": [
    "lin_reg = LinearRegression(fit_intercept=True)\n",
    "\n",
    "# K-fold cross validation with k=5\n",
    "kfold = KFold(n_splits=5, shuffle=True, random_state=42)\n",
    "scores = cross_validate(lin_reg, X_trans, y, cv=kfold, scoring = ['neg_mean_squared_error', 'neg_mean_absolute_error','r2'] )\n",
    "\n",
    "mse = -scores['test_neg_mean_squared_error'].mean()\n",
    "mae = -scores['test_neg_mean_absolute_error'].mean()\n",
    "R2 = scores['test_r2'].mean()\n",
    "\n",
    "eva_df = eva_df.append({\"Model\": \"Linear Regression\", \"RMSE\" : mse**0.5, \"MAE\":mae ,\"R2\" : R2},ignore_index=True)\n",
    "eva_df"
   ]
  },
  {
   "cell_type": "markdown",
   "metadata": {},
   "source": [
    "### Lasso"
   ]
  },
  {
   "cell_type": "code",
   "execution_count": 12,
   "metadata": {},
   "outputs": [],
   "source": [
    "# # Create a model instance\n",
    "# lasso_reg = Lasso()\n",
    "\n",
    "# # Define the alpha values to be tested\n",
    "# alphas = [0.001, 0.01, 0.1, 1, 10, 100, 1000]\n",
    "\n",
    "# # GridSearchCV\n",
    "# kfold = KFold(n_splits=5, shuffle=True, random_state=42)\n",
    "# lasso_grid = GridSearchCV(estimator=lasso_reg, param_grid={'alpha': alphas}, cv=kfold, return_train_score=True)\n",
    "\n",
    "# # Fit\n",
    "# lasso_grid.fit(X_trans,y)\n",
    "\n",
    "# # Alpha\n",
    "# alpha = lasso_grid.best_params_['alpha']\n",
    "# alpha"
   ]
  },
  {
   "cell_type": "code",
   "execution_count": 13,
   "metadata": {},
   "outputs": [
    {
     "data": {
      "text/html": [
       "<div>\n",
       "<style scoped>\n",
       "    .dataframe tbody tr th:only-of-type {\n",
       "        vertical-align: middle;\n",
       "    }\n",
       "\n",
       "    .dataframe tbody tr th {\n",
       "        vertical-align: top;\n",
       "    }\n",
       "\n",
       "    .dataframe thead th {\n",
       "        text-align: right;\n",
       "    }\n",
       "</style>\n",
       "<table border=\"1\" class=\"dataframe\">\n",
       "  <thead>\n",
       "    <tr style=\"text-align: right;\">\n",
       "      <th></th>\n",
       "      <th>Model</th>\n",
       "      <th>RMSE</th>\n",
       "      <th>MAE</th>\n",
       "      <th>R2</th>\n",
       "    </tr>\n",
       "  </thead>\n",
       "  <tbody>\n",
       "    <tr>\n",
       "      <th>0</th>\n",
       "      <td>Linear Regression</td>\n",
       "      <td>6697.777555</td>\n",
       "      <td>4215.4448</td>\n",
       "      <td>0.722627</td>\n",
       "    </tr>\n",
       "    <tr>\n",
       "      <th>1</th>\n",
       "      <td>LASSO regression</td>\n",
       "      <td>6697.431707</td>\n",
       "      <td>4215.383759</td>\n",
       "      <td>0.722656</td>\n",
       "    </tr>\n",
       "  </tbody>\n",
       "</table>\n",
       "</div>"
      ],
      "text/plain": [
       "               Model         RMSE          MAE        R2\n",
       "0  Linear Regression  6697.777555    4215.4448  0.722627\n",
       "1   LASSO regression  6697.431707  4215.383759  0.722656"
      ]
     },
     "execution_count": 13,
     "metadata": {},
     "output_type": "execute_result"
    }
   ],
   "source": [
    "alpha = 0.1\n",
    "# K-fold cross validation with k=10\n",
    "lasso_reg = Lasso(alpha=alpha)\n",
    "\n",
    "kfold = KFold(n_splits=5, shuffle=True, random_state=42)\n",
    "scores = cross_validate(lasso_reg, X_trans, y, cv=kfold, scoring = ['neg_mean_squared_error','neg_mean_absolute_error', 'r2'] )\n",
    "\n",
    "# Adding metrics to the evaluation dataframe\n",
    "mse = -scores['test_neg_mean_squared_error'].mean()\n",
    "mae = -scores['test_neg_mean_absolute_error'].mean()\n",
    "R2 = scores['test_r2'].mean()\n",
    "\n",
    "eva_df = eva_df.append({\"Model\": \"LASSO regression\", \"RMSE\" : mse**0.5, \"MAE\":mae, \"R2\" : R2},ignore_index=True)\n",
    "eva_df"
   ]
  },
  {
   "cell_type": "code",
   "execution_count": 14,
   "metadata": {},
   "outputs": [],
   "source": [
    "# # Create a model instance\n",
    "# ridge_reg = Ridge()\n",
    "\n",
    "# # Define the alpha values to be tested\n",
    "# alphas = [0.001, 0.01, 0.1, 1, 10, 100, 1000]\n",
    "\n",
    "# # GridSearchCV for alpha\n",
    "# kfold = KFold(n_splits=5, shuffle=True, random_state=42)\n",
    "# ridge_grid = GridSearchCV(estimator=ridge_reg, param_grid={'alpha': alphas}, cv=kfold, return_train_score=True)\n",
    "\n",
    "# # Fit\n",
    "# ridge_grid.fit(X_trans,y)\n",
    "\n",
    "# # Best alpha\n",
    "# alpha = ridge_grid.best_params_['alpha']\n",
    "# alpha"
   ]
  },
  {
   "cell_type": "code",
   "execution_count": 15,
   "metadata": {},
   "outputs": [
    {
     "data": {
      "text/html": [
       "<div>\n",
       "<style scoped>\n",
       "    .dataframe tbody tr th:only-of-type {\n",
       "        vertical-align: middle;\n",
       "    }\n",
       "\n",
       "    .dataframe tbody tr th {\n",
       "        vertical-align: top;\n",
       "    }\n",
       "\n",
       "    .dataframe thead th {\n",
       "        text-align: right;\n",
       "    }\n",
       "</style>\n",
       "<table border=\"1\" class=\"dataframe\">\n",
       "  <thead>\n",
       "    <tr style=\"text-align: right;\">\n",
       "      <th></th>\n",
       "      <th>Model</th>\n",
       "      <th>RMSE</th>\n",
       "      <th>MAE</th>\n",
       "      <th>R2</th>\n",
       "    </tr>\n",
       "  </thead>\n",
       "  <tbody>\n",
       "    <tr>\n",
       "      <th>0</th>\n",
       "      <td>Linear Regression</td>\n",
       "      <td>6697.777555</td>\n",
       "      <td>4215.4448</td>\n",
       "      <td>0.722627</td>\n",
       "    </tr>\n",
       "    <tr>\n",
       "      <th>1</th>\n",
       "      <td>LASSO regression</td>\n",
       "      <td>6697.431707</td>\n",
       "      <td>4215.383759</td>\n",
       "      <td>0.722656</td>\n",
       "    </tr>\n",
       "    <tr>\n",
       "      <th>2</th>\n",
       "      <td>Ridge regression</td>\n",
       "      <td>6697.496975</td>\n",
       "      <td>4215.592141</td>\n",
       "      <td>0.722651</td>\n",
       "    </tr>\n",
       "  </tbody>\n",
       "</table>\n",
       "</div>"
      ],
      "text/plain": [
       "               Model         RMSE          MAE        R2\n",
       "0  Linear Regression  6697.777555    4215.4448  0.722627\n",
       "1   LASSO regression  6697.431707  4215.383759  0.722656\n",
       "2   Ridge regression  6697.496975  4215.592141  0.722651"
      ]
     },
     "execution_count": 15,
     "metadata": {},
     "output_type": "execute_result"
    }
   ],
   "source": [
    "alpha=10\n",
    "# K-fold cross validation with k=10\n",
    "ridge_reg = Ridge(alpha=alpha)\n",
    "\n",
    "kfold = KFold(n_splits=5, shuffle=True, random_state=42)\n",
    "scores = cross_validate(ridge_reg, X_trans, y, cv=kfold, scoring = ['neg_mean_squared_error','neg_mean_absolute_error', 'r2'] )\n",
    "# Adding metrics to the evaluation dataframe\n",
    "mse = -scores['test_neg_mean_squared_error'].mean()\n",
    "mae = -scores['test_neg_mean_absolute_error'].mean()\n",
    "R2 = scores['test_r2'].mean()\n",
    "\n",
    "eva_df = eva_df.append({\"Model\": \"Ridge regression\", \"RMSE\" : mse**0.5, \"MAE\":mae, \"R2\" : R2},ignore_index=True)\n",
    "eva_df"
   ]
  },
  {
   "cell_type": "markdown",
   "metadata": {},
   "source": [
    "### PCA"
   ]
  },
  {
   "cell_type": "code",
   "execution_count": 16,
   "metadata": {},
   "outputs": [],
   "source": [
    "pca = PCA(n_components=10)\n",
    "pca.fit(X_trans)\n",
    "X_pca = pca.transform(X_trans)"
   ]
  },
  {
   "cell_type": "code",
   "execution_count": 17,
   "metadata": {},
   "outputs": [
    {
     "data": {
      "text/html": [
       "<div>\n",
       "<style scoped>\n",
       "    .dataframe tbody tr th:only-of-type {\n",
       "        vertical-align: middle;\n",
       "    }\n",
       "\n",
       "    .dataframe tbody tr th {\n",
       "        vertical-align: top;\n",
       "    }\n",
       "\n",
       "    .dataframe thead th {\n",
       "        text-align: right;\n",
       "    }\n",
       "</style>\n",
       "<table border=\"1\" class=\"dataframe\">\n",
       "  <thead>\n",
       "    <tr style=\"text-align: right;\">\n",
       "      <th></th>\n",
       "      <th>Model</th>\n",
       "      <th>RMSE</th>\n",
       "      <th>MAE</th>\n",
       "      <th>R2</th>\n",
       "    </tr>\n",
       "  </thead>\n",
       "  <tbody>\n",
       "    <tr>\n",
       "      <th>0</th>\n",
       "      <td>Linear Regression</td>\n",
       "      <td>6697.777555</td>\n",
       "      <td>4215.4448</td>\n",
       "      <td>0.722627</td>\n",
       "    </tr>\n",
       "    <tr>\n",
       "      <th>1</th>\n",
       "      <td>LASSO regression</td>\n",
       "      <td>6697.431707</td>\n",
       "      <td>4215.383759</td>\n",
       "      <td>0.722656</td>\n",
       "    </tr>\n",
       "    <tr>\n",
       "      <th>2</th>\n",
       "      <td>Ridge regression</td>\n",
       "      <td>6697.496975</td>\n",
       "      <td>4215.592141</td>\n",
       "      <td>0.722651</td>\n",
       "    </tr>\n",
       "    <tr>\n",
       "      <th>3</th>\n",
       "      <td>PCA Linear Regression</td>\n",
       "      <td>7371.57394</td>\n",
       "      <td>4665.662816</td>\n",
       "      <td>0.66401</td>\n",
       "    </tr>\n",
       "  </tbody>\n",
       "</table>\n",
       "</div>"
      ],
      "text/plain": [
       "                   Model         RMSE          MAE        R2\n",
       "0      Linear Regression  6697.777555    4215.4448  0.722627\n",
       "1       LASSO regression  6697.431707  4215.383759  0.722656\n",
       "2       Ridge regression  6697.496975  4215.592141  0.722651\n",
       "3  PCA Linear Regression   7371.57394  4665.662816   0.66401"
      ]
     },
     "execution_count": 17,
     "metadata": {},
     "output_type": "execute_result"
    }
   ],
   "source": [
    "pca_lin_reg = LinearRegression(fit_intercept=True)\n",
    "\n",
    "# K-fold cross validation with k=5\n",
    "kfold = KFold(n_splits=5, shuffle=True, random_state=42)\n",
    "scores = cross_validate(pca_lin_reg, X_pca, y, cv=kfold, scoring = ['neg_mean_squared_error', 'neg_mean_absolute_error','r2'] )\n",
    "\n",
    "mse = -scores['test_neg_mean_squared_error'].mean()\n",
    "mae = -scores['test_neg_mean_absolute_error'].mean()\n",
    "R2 = scores['test_r2'].mean()\n",
    "\n",
    "eva_df = eva_df.append({\"Model\": \"PCA Linear Regression\", \"RMSE\" : mse**0.5, \"MAE\":mae ,\"R2\" : R2},ignore_index=True)\n",
    "eva_df"
   ]
  },
  {
   "cell_type": "markdown",
   "metadata": {},
   "source": [
    "### Neural network"
   ]
  },
  {
   "cell_type": "code",
   "execution_count": 18,
   "metadata": {},
   "outputs": [
    {
     "name": "stdout",
     "output_type": "stream",
     "text": [
      "WARNING:tensorflow:From c:\\Users\\nhduc\\anaconda3\\lib\\site-packages\\keras\\src\\losses.py:2976: The name tf.losses.sparse_softmax_cross_entropy is deprecated. Please use tf.compat.v1.losses.sparse_softmax_cross_entropy instead.\n",
      "\n"
     ]
    }
   ],
   "source": [
    "import tensorflow.keras as keras"
   ]
  },
  {
   "cell_type": "code",
   "execution_count": 20,
   "metadata": {},
   "outputs": [
    {
     "name": "stdout",
     "output_type": "stream",
     "text": [
      "Epoch 1/500\n",
      "56206/56206 [==============================] - 52s 908us/step - loss: 52190464.0000 - val_loss: 44174792.0000\n",
      "Epoch 2/500\n",
      "56206/56206 [==============================] - 51s 915us/step - loss: 39765764.0000 - val_loss: 37966248.0000\n",
      "Epoch 3/500\n",
      "56206/56206 [==============================] - 51s 900us/step - loss: 36433452.0000 - val_loss: 38353972.0000\n",
      "Epoch 4/500\n",
      "56206/56206 [==============================] - 51s 909us/step - loss: 34360980.0000 - val_loss: 33380290.0000\n",
      "Epoch 5/500\n",
      "56206/56206 [==============================] - 52s 917us/step - loss: 33116126.0000 - val_loss: 31516162.0000\n",
      "Epoch 6/500\n",
      "56206/56206 [==============================] - 51s 915us/step - loss: 32345554.0000 - val_loss: 31981260.0000\n",
      "Epoch 7/500\n",
      "56206/56206 [==============================] - 52s 917us/step - loss: 31786164.0000 - val_loss: 31776736.0000\n",
      "Epoch 8/500\n",
      "56206/56206 [==============================] - 52s 932us/step - loss: 31376856.0000 - val_loss: 30463056.0000\n",
      "Epoch 9/500\n",
      "56206/56206 [==============================] - 52s 923us/step - loss: 30851848.0000 - val_loss: 30271814.0000\n",
      "Epoch 10/500\n",
      "56206/56206 [==============================] - 52s 925us/step - loss: 30550206.0000 - val_loss: 33483168.0000\n",
      "Epoch 11/500\n",
      "56206/56206 [==============================] - 54s 965us/step - loss: 30339902.0000 - val_loss: 29771604.0000\n",
      "Epoch 12/500\n",
      "56206/56206 [==============================] - 53s 947us/step - loss: 30038528.0000 - val_loss: 30582362.0000\n",
      "Epoch 13/500\n",
      "56206/56206 [==============================] - 57s 1ms/step - loss: 29878294.0000 - val_loss: 29856850.0000\n",
      "Epoch 14/500\n",
      "56206/56206 [==============================] - 53s 948us/step - loss: 29750580.0000 - val_loss: 28890844.0000\n",
      "Epoch 15/500\n",
      "56206/56206 [==============================] - 53s 938us/step - loss: 29498246.0000 - val_loss: 30048218.0000\n",
      "Epoch 16/500\n",
      "56206/56206 [==============================] - 53s 950us/step - loss: 29357974.0000 - val_loss: 28652554.0000\n",
      "Epoch 17/500\n",
      "56206/56206 [==============================] - 53s 947us/step - loss: 29211526.0000 - val_loss: 30894932.0000\n",
      "Epoch 18/500\n",
      "56206/56206 [==============================] - 54s 968us/step - loss: 29041800.0000 - val_loss: 29706984.0000\n",
      "Epoch 19/500\n",
      "56206/56206 [==============================] - 53s 951us/step - loss: 28866574.0000 - val_loss: 27931270.0000\n",
      "Epoch 20/500\n",
      "56206/56206 [==============================] - 53s 941us/step - loss: 28737004.0000 - val_loss: 29247776.0000\n",
      "Epoch 21/500\n",
      "56206/56206 [==============================] - 53s 951us/step - loss: 28594392.0000 - val_loss: 28782088.0000\n",
      "Epoch 22/500\n",
      "56206/56206 [==============================] - 54s 955us/step - loss: 28430432.0000 - val_loss: 28215532.0000\n",
      "Epoch 23/500\n",
      "56206/56206 [==============================] - 51s 911us/step - loss: 28371376.0000 - val_loss: 29152026.0000\n",
      "Epoch 24/500\n",
      "56206/56206 [==============================] - 51s 910us/step - loss: 28355620.0000 - val_loss: 27171344.0000\n",
      "Epoch 25/500\n",
      "56206/56206 [==============================] - 51s 902us/step - loss: 28390132.0000 - val_loss: 28738852.0000\n",
      "Epoch 26/500\n",
      "56206/56206 [==============================] - 51s 907us/step - loss: 28226484.0000 - val_loss: 28919220.0000\n",
      "Epoch 27/500\n",
      "56206/56206 [==============================] - 52s 917us/step - loss: 28030268.0000 - val_loss: 27170262.0000\n",
      "Epoch 28/500\n",
      "56206/56206 [==============================] - 51s 903us/step - loss: 27848618.0000 - val_loss: 28151676.0000\n",
      "Epoch 29/500\n",
      "56206/56206 [==============================] - 50s 891us/step - loss: 27764346.0000 - val_loss: 27989708.0000\n",
      "Epoch 30/500\n",
      "56206/56206 [==============================] - 52s 926us/step - loss: 27730880.0000 - val_loss: 27110288.0000\n",
      "Epoch 31/500\n",
      "56206/56206 [==============================] - 53s 936us/step - loss: 27663652.0000 - val_loss: 28192154.0000\n",
      "Epoch 32/500\n",
      "56206/56206 [==============================] - 53s 944us/step - loss: 27547188.0000 - val_loss: 29571034.0000\n",
      "Epoch 33/500\n",
      "56206/56206 [==============================] - 52s 930us/step - loss: 27547380.0000 - val_loss: 27854756.0000\n",
      "Epoch 34/500\n",
      "56206/56206 [==============================] - 52s 929us/step - loss: 27461076.0000 - val_loss: 29210700.0000\n",
      "Epoch 35/500\n",
      "56206/56206 [==============================] - 52s 934us/step - loss: 27331320.0000 - val_loss: 27727322.0000\n",
      "Epoch 36/500\n",
      "56206/56206 [==============================] - 52s 932us/step - loss: 27364288.0000 - val_loss: 26446138.0000\n",
      "Epoch 37/500\n",
      "56206/56206 [==============================] - 52s 924us/step - loss: 27223372.0000 - val_loss: 26648086.0000\n",
      "Epoch 38/500\n",
      "56206/56206 [==============================] - 53s 934us/step - loss: 27400696.0000 - val_loss: 28840598.0000\n",
      "Epoch 39/500\n",
      "56206/56206 [==============================] - 53s 938us/step - loss: 27130652.0000 - val_loss: 26538586.0000\n",
      "Epoch 40/500\n",
      "56206/56206 [==============================] - 53s 941us/step - loss: 27112660.0000 - val_loss: 27408524.0000\n",
      "Epoch 41/500\n",
      "56206/56206 [==============================] - 53s 941us/step - loss: 26973754.0000 - val_loss: 26560232.0000\n",
      "Epoch 42/500\n",
      "56206/56206 [==============================] - 54s 953us/step - loss: 26980610.0000 - val_loss: 27181036.0000\n",
      "Epoch 43/500\n",
      "56206/56206 [==============================] - 54s 954us/step - loss: 26948390.0000 - val_loss: 27125650.0000\n",
      "Epoch 44/500\n",
      "56206/56206 [==============================] - 54s 958us/step - loss: 26844592.0000 - val_loss: 26378688.0000\n",
      "Epoch 45/500\n",
      "56206/56206 [==============================] - 963s 17ms/step - loss: 26764470.0000 - val_loss: 26123226.0000\n",
      "Epoch 46/500\n",
      "56206/56206 [==============================] - 53s 942us/step - loss: 26786324.0000 - val_loss: 25953950.0000\n",
      "Epoch 47/500\n",
      "56206/56206 [==============================] - 52s 917us/step - loss: 26813280.0000 - val_loss: 26557424.0000\n",
      "Epoch 48/500\n",
      "56206/56206 [==============================] - 51s 908us/step - loss: 26633376.0000 - val_loss: 26220866.0000\n",
      "Epoch 49/500\n",
      "56206/56206 [==============================] - 50s 897us/step - loss: 26585514.0000 - val_loss: 26806870.0000\n",
      "Epoch 50/500\n",
      "56206/56206 [==============================] - 50s 895us/step - loss: 26530938.0000 - val_loss: 26416000.0000\n",
      "Epoch 51/500\n",
      "56206/56206 [==============================] - 51s 903us/step - loss: 26559976.0000 - val_loss: 26621760.0000\n",
      "Epoch 52/500\n",
      "56206/56206 [==============================] - 51s 905us/step - loss: 26489020.0000 - val_loss: 26216758.0000\n",
      "Epoch 53/500\n",
      "56206/56206 [==============================] - 50s 889us/step - loss: 26446410.0000 - val_loss: 26732034.0000\n",
      "Epoch 54/500\n",
      "56206/56206 [==============================] - 50s 893us/step - loss: 26361124.0000 - val_loss: 26394782.0000\n",
      "Epoch 55/500\n",
      "56206/56206 [==============================] - 50s 888us/step - loss: 26378668.0000 - val_loss: 27581872.0000\n",
      "Epoch 56/500\n",
      "56206/56206 [==============================] - 50s 888us/step - loss: 26312020.0000 - val_loss: 26377008.0000\n"
     ]
    },
    {
     "data": {
      "text/plain": [
       "<keras.src.callbacks.History at 0x2a3562a9340>"
      ]
     },
     "execution_count": 20,
     "metadata": {},
     "output_type": "execute_result"
    }
   ],
   "source": [
    "X_train, X_val, y_train, y_val = train_test_split(X_trans, y, test_size=0.2, random_state=42)\n",
    "\n",
    "a_model = keras.models.Sequential([\n",
    "    keras.layers.Dense(units = 40, activation=\"relu\", kernel_initializer = \"he_normal\"),\n",
    "    keras.layers.Dense(units = 10, activation=\"relu\", kernel_initializer = \"he_normal\"),\n",
    "    keras.layers.Dense(1)\n",
    "])\n",
    "\n",
    "a_model.compile(loss=\"mean_squared_error\",\n",
    "                optimizer='adam')\n",
    "\n",
    "early_stopping_cb = keras.callbacks.EarlyStopping(patience=10, restore_best_weights=True)\n",
    "\n",
    "a_model.fit(X_train, y_train,\n",
    "            epochs = 500,\n",
    "            validation_data=(X_val, y_val),\n",
    "            callbacks = [early_stopping_cb])"
   ]
  },
  {
   "cell_type": "code",
   "execution_count": null,
   "metadata": {},
   "outputs": [],
   "source": []
  },
  {
   "cell_type": "code",
   "execution_count": null,
   "metadata": {},
   "outputs": [],
   "source": []
  },
  {
   "cell_type": "code",
   "execution_count": null,
   "metadata": {},
   "outputs": [],
   "source": []
  },
  {
   "cell_type": "code",
   "execution_count": null,
   "metadata": {},
   "outputs": [],
   "source": []
  },
  {
   "cell_type": "code",
   "execution_count": null,
   "metadata": {},
   "outputs": [],
   "source": []
  }
 ],
 "metadata": {
  "kernelspec": {
   "display_name": "base",
   "language": "python",
   "name": "python3"
  },
  "language_info": {
   "codemirror_mode": {
    "name": "ipython",
    "version": 3
   },
   "file_extension": ".py",
   "mimetype": "text/x-python",
   "name": "python",
   "nbconvert_exporter": "python",
   "pygments_lexer": "ipython3",
   "version": "3.9.12"
  }
 },
 "nbformat": 4,
 "nbformat_minor": 2
}
