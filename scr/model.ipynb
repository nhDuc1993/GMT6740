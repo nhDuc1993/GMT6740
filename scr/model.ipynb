{
 "cells": [
  {
   "cell_type": "code",
   "execution_count": 98,
   "metadata": {},
   "outputs": [],
   "source": [
    "import pandas as pd\n",
    "import numpy as np\n",
    "\n",
    "import matplotlib.pyplot as plt\n",
    "import seaborn as sns\n",
    "\n",
    "import warnings\n",
    "import os \n",
    "\n",
    "from sklearn.impute import SimpleImputer, MissingIndicator\n",
    "from sklearn.base import BaseEstimator, TransformerMixin\n",
    "from sklearn.compose import ColumnTransformer\n",
    "from sklearn.pipeline import Pipeline\n",
    "from sklearn.preprocessing import OneHotEncoder\n",
    "from sklearn.linear_model import LinearRegression\n",
    "\n",
    "from sklearn.metrics import r2_score\n",
    "\n",
    "warnings.filterwarnings(\"ignore\")"
   ]
  },
  {
   "cell_type": "code",
   "execution_count": 51,
   "metadata": {},
   "outputs": [],
   "source": [
    "link = r\"E:\\datasets\\car\\clean_df.csv\"\n",
    "\n",
    "df = pd.read_csv(link)"
   ]
  },
  {
   "cell_type": "code",
   "execution_count": 52,
   "metadata": {},
   "outputs": [
    {
     "data": {
      "text/html": [
       "<div>\n",
       "<style scoped>\n",
       "    .dataframe tbody tr th:only-of-type {\n",
       "        vertical-align: middle;\n",
       "    }\n",
       "\n",
       "    .dataframe tbody tr th {\n",
       "        vertical-align: top;\n",
       "    }\n",
       "\n",
       "    .dataframe thead th {\n",
       "        text-align: right;\n",
       "    }\n",
       "</style>\n",
       "<table border=\"1\" class=\"dataframe\">\n",
       "  <thead>\n",
       "    <tr style=\"text-align: right;\">\n",
       "      <th></th>\n",
       "      <th>mileage</th>\n",
       "      <th>manufacture_year</th>\n",
       "      <th>engine_displacement</th>\n",
       "      <th>engine_power</th>\n",
       "      <th>stk_year</th>\n",
       "      <th>door_count</th>\n",
       "      <th>seat_count</th>\n",
       "      <th>price_eur</th>\n",
       "    </tr>\n",
       "  </thead>\n",
       "  <tbody>\n",
       "    <tr>\n",
       "      <th>mileage</th>\n",
       "      <td>1.000000</td>\n",
       "      <td>-0.695236</td>\n",
       "      <td>0.216322</td>\n",
       "      <td>0.000369</td>\n",
       "      <td>-0.486847</td>\n",
       "      <td>-0.024099</td>\n",
       "      <td>0.052112</td>\n",
       "      <td>-0.505467</td>\n",
       "    </tr>\n",
       "    <tr>\n",
       "      <th>manufacture_year</th>\n",
       "      <td>-0.695236</td>\n",
       "      <td>1.000000</td>\n",
       "      <td>-0.133607</td>\n",
       "      <td>0.067660</td>\n",
       "      <td>0.391681</td>\n",
       "      <td>0.154124</td>\n",
       "      <td>0.032830</td>\n",
       "      <td>0.541981</td>\n",
       "    </tr>\n",
       "    <tr>\n",
       "      <th>engine_displacement</th>\n",
       "      <td>0.216322</td>\n",
       "      <td>-0.133607</td>\n",
       "      <td>1.000000</td>\n",
       "      <td>0.780909</td>\n",
       "      <td>-0.071904</td>\n",
       "      <td>-0.022409</td>\n",
       "      <td>0.042308</td>\n",
       "      <td>0.392190</td>\n",
       "    </tr>\n",
       "    <tr>\n",
       "      <th>engine_power</th>\n",
       "      <td>0.000369</td>\n",
       "      <td>0.067660</td>\n",
       "      <td>0.780909</td>\n",
       "      <td>1.000000</td>\n",
       "      <td>0.064030</td>\n",
       "      <td>-0.045531</td>\n",
       "      <td>0.011943</td>\n",
       "      <td>0.613308</td>\n",
       "    </tr>\n",
       "    <tr>\n",
       "      <th>stk_year</th>\n",
       "      <td>-0.486847</td>\n",
       "      <td>0.391681</td>\n",
       "      <td>-0.071904</td>\n",
       "      <td>0.064030</td>\n",
       "      <td>1.000000</td>\n",
       "      <td>-0.000888</td>\n",
       "      <td>0.017060</td>\n",
       "      <td>0.361007</td>\n",
       "    </tr>\n",
       "    <tr>\n",
       "      <th>door_count</th>\n",
       "      <td>-0.024099</td>\n",
       "      <td>0.154124</td>\n",
       "      <td>-0.022409</td>\n",
       "      <td>-0.045531</td>\n",
       "      <td>-0.000888</td>\n",
       "      <td>1.000000</td>\n",
       "      <td>0.395099</td>\n",
       "      <td>0.039982</td>\n",
       "    </tr>\n",
       "    <tr>\n",
       "      <th>seat_count</th>\n",
       "      <td>0.052112</td>\n",
       "      <td>0.032830</td>\n",
       "      <td>0.042308</td>\n",
       "      <td>0.011943</td>\n",
       "      <td>0.017060</td>\n",
       "      <td>0.395099</td>\n",
       "      <td>1.000000</td>\n",
       "      <td>0.022842</td>\n",
       "    </tr>\n",
       "    <tr>\n",
       "      <th>price_eur</th>\n",
       "      <td>-0.505467</td>\n",
       "      <td>0.541981</td>\n",
       "      <td>0.392190</td>\n",
       "      <td>0.613308</td>\n",
       "      <td>0.361007</td>\n",
       "      <td>0.039982</td>\n",
       "      <td>0.022842</td>\n",
       "      <td>1.000000</td>\n",
       "    </tr>\n",
       "  </tbody>\n",
       "</table>\n",
       "</div>"
      ],
      "text/plain": [
       "                      mileage  manufacture_year  engine_displacement  \\\n",
       "mileage              1.000000         -0.695236             0.216322   \n",
       "manufacture_year    -0.695236          1.000000            -0.133607   \n",
       "engine_displacement  0.216322         -0.133607             1.000000   \n",
       "engine_power         0.000369          0.067660             0.780909   \n",
       "stk_year            -0.486847          0.391681            -0.071904   \n",
       "door_count          -0.024099          0.154124            -0.022409   \n",
       "seat_count           0.052112          0.032830             0.042308   \n",
       "price_eur           -0.505467          0.541981             0.392190   \n",
       "\n",
       "                     engine_power  stk_year  door_count  seat_count  price_eur  \n",
       "mileage                  0.000369 -0.486847   -0.024099    0.052112  -0.505467  \n",
       "manufacture_year         0.067660  0.391681    0.154124    0.032830   0.541981  \n",
       "engine_displacement      0.780909 -0.071904   -0.022409    0.042308   0.392190  \n",
       "engine_power             1.000000  0.064030   -0.045531    0.011943   0.613308  \n",
       "stk_year                 0.064030  1.000000   -0.000888    0.017060   0.361007  \n",
       "door_count              -0.045531 -0.000888    1.000000    0.395099   0.039982  \n",
       "seat_count               0.011943  0.017060    0.395099    1.000000   0.022842  \n",
       "price_eur                0.613308  0.361007    0.039982    0.022842   1.000000  "
      ]
     },
     "execution_count": 52,
     "metadata": {},
     "output_type": "execute_result"
    }
   ],
   "source": [
    "df.corr()"
   ]
  },
  {
   "cell_type": "markdown",
   "metadata": {},
   "source": [
    "### Create man_period, stk_period"
   ]
  },
  {
   "cell_type": "code",
   "execution_count": 53,
   "metadata": {},
   "outputs": [
    {
     "data": {
      "text/html": [
       "<div>\n",
       "<style scoped>\n",
       "    .dataframe tbody tr th:only-of-type {\n",
       "        vertical-align: middle;\n",
       "    }\n",
       "\n",
       "    .dataframe tbody tr th {\n",
       "        vertical-align: top;\n",
       "    }\n",
       "\n",
       "    .dataframe thead th {\n",
       "        text-align: right;\n",
       "    }\n",
       "</style>\n",
       "<table border=\"1\" class=\"dataframe\">\n",
       "  <thead>\n",
       "    <tr style=\"text-align: right;\">\n",
       "      <th></th>\n",
       "      <th>maker</th>\n",
       "      <th>model</th>\n",
       "      <th>mileage</th>\n",
       "      <th>manufacture_year</th>\n",
       "      <th>engine_displacement</th>\n",
       "      <th>engine_power</th>\n",
       "      <th>body_type</th>\n",
       "      <th>stk_year</th>\n",
       "      <th>transmission</th>\n",
       "      <th>door_count</th>\n",
       "      <th>seat_count</th>\n",
       "      <th>fuel_type</th>\n",
       "      <th>date_created</th>\n",
       "      <th>date_last_seen</th>\n",
       "      <th>price_eur</th>\n",
       "    </tr>\n",
       "  </thead>\n",
       "  <tbody>\n",
       "    <tr>\n",
       "      <th>0</th>\n",
       "      <td>ford</td>\n",
       "      <td>galaxy</td>\n",
       "      <td>151000.0</td>\n",
       "      <td>2011.0</td>\n",
       "      <td>2000.0</td>\n",
       "      <td>138.12506</td>\n",
       "      <td>compact</td>\n",
       "      <td>NaN</td>\n",
       "      <td>man</td>\n",
       "      <td>5.0</td>\n",
       "      <td>7.0</td>\n",
       "      <td>diesel</td>\n",
       "      <td>2015-11-14 18:10:06.838319+00</td>\n",
       "      <td>2016-01-27 20:40:15.46361+00</td>\n",
       "      <td>10584.75</td>\n",
       "    </tr>\n",
       "    <tr>\n",
       "      <th>1</th>\n",
       "      <td>skoda</td>\n",
       "      <td>octavia</td>\n",
       "      <td>143476.0</td>\n",
       "      <td>2012.0</td>\n",
       "      <td>2000.0</td>\n",
       "      <td>108.62262</td>\n",
       "      <td>compact</td>\n",
       "      <td>NaN</td>\n",
       "      <td>man</td>\n",
       "      <td>5.0</td>\n",
       "      <td>5.0</td>\n",
       "      <td>diesel</td>\n",
       "      <td>2015-11-14 18:10:06.853411+00</td>\n",
       "      <td>2016-01-27 20:40:15.46361+00</td>\n",
       "      <td>8882.31</td>\n",
       "    </tr>\n",
       "    <tr>\n",
       "      <th>2</th>\n",
       "      <td>bmw</td>\n",
       "      <td>NaN</td>\n",
       "      <td>97676.0</td>\n",
       "      <td>2010.0</td>\n",
       "      <td>1995.0</td>\n",
       "      <td>113.98670</td>\n",
       "      <td>compact</td>\n",
       "      <td>NaN</td>\n",
       "      <td>man</td>\n",
       "      <td>5.0</td>\n",
       "      <td>5.0</td>\n",
       "      <td>diesel</td>\n",
       "      <td>2015-11-14 18:10:06.861792+00</td>\n",
       "      <td>2016-01-27 20:40:15.46361+00</td>\n",
       "      <td>12065.06</td>\n",
       "    </tr>\n",
       "    <tr>\n",
       "      <th>3</th>\n",
       "      <td>skoda</td>\n",
       "      <td>fabia</td>\n",
       "      <td>111970.0</td>\n",
       "      <td>2004.0</td>\n",
       "      <td>1200.0</td>\n",
       "      <td>84.48426</td>\n",
       "      <td>compact</td>\n",
       "      <td>NaN</td>\n",
       "      <td>man</td>\n",
       "      <td>5.0</td>\n",
       "      <td>5.0</td>\n",
       "      <td>gasoline</td>\n",
       "      <td>2015-11-14 18:10:06.872313+00</td>\n",
       "      <td>2016-01-27 20:40:15.46361+00</td>\n",
       "      <td>2960.77</td>\n",
       "    </tr>\n",
       "    <tr>\n",
       "      <th>4</th>\n",
       "      <td>skoda</td>\n",
       "      <td>fabia</td>\n",
       "      <td>128886.0</td>\n",
       "      <td>2004.0</td>\n",
       "      <td>1200.0</td>\n",
       "      <td>84.48426</td>\n",
       "      <td>compact</td>\n",
       "      <td>NaN</td>\n",
       "      <td>man</td>\n",
       "      <td>5.0</td>\n",
       "      <td>5.0</td>\n",
       "      <td>gasoline</td>\n",
       "      <td>2015-11-14 18:10:06.880335+00</td>\n",
       "      <td>2016-01-27 20:40:15.46361+00</td>\n",
       "      <td>2738.71</td>\n",
       "    </tr>\n",
       "  </tbody>\n",
       "</table>\n",
       "</div>"
      ],
      "text/plain": [
       "   maker    model   mileage  manufacture_year  engine_displacement  \\\n",
       "0   ford   galaxy  151000.0            2011.0               2000.0   \n",
       "1  skoda  octavia  143476.0            2012.0               2000.0   \n",
       "2    bmw      NaN   97676.0            2010.0               1995.0   \n",
       "3  skoda    fabia  111970.0            2004.0               1200.0   \n",
       "4  skoda    fabia  128886.0            2004.0               1200.0   \n",
       "\n",
       "   engine_power body_type  stk_year transmission  door_count  seat_count  \\\n",
       "0     138.12506   compact       NaN          man         5.0         7.0   \n",
       "1     108.62262   compact       NaN          man         5.0         5.0   \n",
       "2     113.98670   compact       NaN          man         5.0         5.0   \n",
       "3      84.48426   compact       NaN          man         5.0         5.0   \n",
       "4      84.48426   compact       NaN          man         5.0         5.0   \n",
       "\n",
       "  fuel_type                   date_created                date_last_seen  \\\n",
       "0    diesel  2015-11-14 18:10:06.838319+00  2016-01-27 20:40:15.46361+00   \n",
       "1    diesel  2015-11-14 18:10:06.853411+00  2016-01-27 20:40:15.46361+00   \n",
       "2    diesel  2015-11-14 18:10:06.861792+00  2016-01-27 20:40:15.46361+00   \n",
       "3  gasoline  2015-11-14 18:10:06.872313+00  2016-01-27 20:40:15.46361+00   \n",
       "4  gasoline  2015-11-14 18:10:06.880335+00  2016-01-27 20:40:15.46361+00   \n",
       "\n",
       "   price_eur  \n",
       "0   10584.75  \n",
       "1    8882.31  \n",
       "2   12065.06  \n",
       "3    2960.77  \n",
       "4    2738.71  "
      ]
     },
     "execution_count": 53,
     "metadata": {},
     "output_type": "execute_result"
    }
   ],
   "source": [
    "df.head()"
   ]
  },
  {
   "cell_type": "code",
   "execution_count": 54,
   "metadata": {},
   "outputs": [],
   "source": [
    "df['date_created'] = pd.to_datetime(df['date_created'])\n",
    "df['year_created'] = df['date_created'].dt.year\n",
    "\n",
    "df['man_period'] = df['year_created'] - df['manufacture_year']\n",
    "df['stk_period'] = df['year_created'] - df['stk_year']"
   ]
  },
  {
   "cell_type": "code",
   "execution_count": 55,
   "metadata": {},
   "outputs": [],
   "source": [
    "df = df.drop(['manufacture_year', 'stk_year', 'date_created', 'date_last_seen', 'year_created'], axis=1)"
   ]
  },
  {
   "cell_type": "markdown",
   "metadata": {},
   "source": [
    "# Feature processing"
   ]
  },
  {
   "cell_type": "code",
   "execution_count": 56,
   "metadata": {},
   "outputs": [],
   "source": [
    "X = df.drop('price_eur', axis=1).to_numpy()\n",
    "y = df['price_eur'].to_numpy()"
   ]
  },
  {
   "cell_type": "code",
   "execution_count": 93,
   "metadata": {},
   "outputs": [],
   "source": [
    "class Indicator(BaseEstimator, TransformerMixin):\n",
    "    def __init__(self):\n",
    "        pass\n",
    "\n",
    "    def fit(self, X, y=None):\n",
    "        return self\n",
    "    \n",
    "    def transform(self, X, y=None):\n",
    "        # nonnull_X = X.copy()\n",
    "        # nonnull_X = nonnull_X.astype(float)\n",
    "        # nonnull_X[np.isnan(nonnull_X )] = 0\n",
    "        nonnull_X = np.nan_to_num(X.astype(float), nan=0).astype(int)\n",
    "\n",
    "        missing_indicator = MissingIndicator()\n",
    "        indicator_values = missing_indicator.fit_transform(X).astype(int)\n",
    "\n",
    "        return np.c_[nonnull_X, indicator_values]"
   ]
  },
  {
   "cell_type": "code",
   "execution_count": 91,
   "metadata": {},
   "outputs": [
    {
     "data": {
      "text/plain": [
       "array([151000., 143476.,  97676., ...,  86000., 123000., 190240.])"
      ]
     },
     "execution_count": 91,
     "metadata": {},
     "output_type": "execute_result"
    }
   ],
   "source": [
    "arr = np.array([1.0, 2.0, np.nan, 4.0, np.nan, 6.0])\n",
    "arr = X[:,2].astype(float)\n",
    "fill_value = 0\n",
    "arr_filled = np.nan_to_num(arr, nan=fill_value)\n",
    "arr_filled"
   ]
  },
  {
   "cell_type": "code",
   "execution_count": null,
   "metadata": {},
   "outputs": [],
   "source": []
  },
  {
   "cell_type": "code",
   "execution_count": 92,
   "metadata": {},
   "outputs": [
    {
     "data": {
      "text/plain": [
       "array([151000, 143476,  97676, ...,  86000, 123000, 190240])"
      ]
     },
     "execution_count": 92,
     "metadata": {},
     "output_type": "execute_result"
    }
   ],
   "source": [
    "arr_filled.astype(int)"
   ]
  },
  {
   "cell_type": "code",
   "execution_count": null,
   "metadata": {},
   "outputs": [],
   "source": []
  },
  {
   "cell_type": "code",
   "execution_count": null,
   "metadata": {},
   "outputs": [],
   "source": []
  },
  {
   "cell_type": "code",
   "execution_count": null,
   "metadata": {},
   "outputs": [],
   "source": []
  },
  {
   "cell_type": "code",
   "execution_count": 94,
   "metadata": {},
   "outputs": [],
   "source": [
    "num_cols = [2,3,4,7,8,10,11]\n",
    "cat_cols = [0,1,5,6,7,9]\n",
    "\n",
    "one_hot_encoder = OneHotEncoder(handle_unknown='error')\n",
    "indicator = Indicator()\n",
    "\n",
    "full_pipeline = ColumnTransformer([\n",
    "    (\"num\", indicator, num_cols),\n",
    "    (\"cat\", one_hot_encoder, cat_cols),\n",
    "])"
   ]
  },
  {
   "cell_type": "code",
   "execution_count": 95,
   "metadata": {},
   "outputs": [
    {
     "data": {
      "text/html": [
       "<style>#sk-container-id-2 {color: black;}#sk-container-id-2 pre{padding: 0;}#sk-container-id-2 div.sk-toggleable {background-color: white;}#sk-container-id-2 label.sk-toggleable__label {cursor: pointer;display: block;width: 100%;margin-bottom: 0;padding: 0.3em;box-sizing: border-box;text-align: center;}#sk-container-id-2 label.sk-toggleable__label-arrow:before {content: \"▸\";float: left;margin-right: 0.25em;color: #696969;}#sk-container-id-2 label.sk-toggleable__label-arrow:hover:before {color: black;}#sk-container-id-2 div.sk-estimator:hover label.sk-toggleable__label-arrow:before {color: black;}#sk-container-id-2 div.sk-toggleable__content {max-height: 0;max-width: 0;overflow: hidden;text-align: left;background-color: #f0f8ff;}#sk-container-id-2 div.sk-toggleable__content pre {margin: 0.2em;color: black;border-radius: 0.25em;background-color: #f0f8ff;}#sk-container-id-2 input.sk-toggleable__control:checked~div.sk-toggleable__content {max-height: 200px;max-width: 100%;overflow: auto;}#sk-container-id-2 input.sk-toggleable__control:checked~label.sk-toggleable__label-arrow:before {content: \"▾\";}#sk-container-id-2 div.sk-estimator input.sk-toggleable__control:checked~label.sk-toggleable__label {background-color: #d4ebff;}#sk-container-id-2 div.sk-label input.sk-toggleable__control:checked~label.sk-toggleable__label {background-color: #d4ebff;}#sk-container-id-2 input.sk-hidden--visually {border: 0;clip: rect(1px 1px 1px 1px);clip: rect(1px, 1px, 1px, 1px);height: 1px;margin: -1px;overflow: hidden;padding: 0;position: absolute;width: 1px;}#sk-container-id-2 div.sk-estimator {font-family: monospace;background-color: #f0f8ff;border: 1px dotted black;border-radius: 0.25em;box-sizing: border-box;margin-bottom: 0.5em;}#sk-container-id-2 div.sk-estimator:hover {background-color: #d4ebff;}#sk-container-id-2 div.sk-parallel-item::after {content: \"\";width: 100%;border-bottom: 1px solid gray;flex-grow: 1;}#sk-container-id-2 div.sk-label:hover label.sk-toggleable__label {background-color: #d4ebff;}#sk-container-id-2 div.sk-serial::before {content: \"\";position: absolute;border-left: 1px solid gray;box-sizing: border-box;top: 0;bottom: 0;left: 50%;z-index: 0;}#sk-container-id-2 div.sk-serial {display: flex;flex-direction: column;align-items: center;background-color: white;padding-right: 0.2em;padding-left: 0.2em;position: relative;}#sk-container-id-2 div.sk-item {position: relative;z-index: 1;}#sk-container-id-2 div.sk-parallel {display: flex;align-items: stretch;justify-content: center;background-color: white;position: relative;}#sk-container-id-2 div.sk-item::before, #sk-container-id-2 div.sk-parallel-item::before {content: \"\";position: absolute;border-left: 1px solid gray;box-sizing: border-box;top: 0;bottom: 0;left: 50%;z-index: -1;}#sk-container-id-2 div.sk-parallel-item {display: flex;flex-direction: column;z-index: 1;position: relative;background-color: white;}#sk-container-id-2 div.sk-parallel-item:first-child::after {align-self: flex-end;width: 50%;}#sk-container-id-2 div.sk-parallel-item:last-child::after {align-self: flex-start;width: 50%;}#sk-container-id-2 div.sk-parallel-item:only-child::after {width: 0;}#sk-container-id-2 div.sk-dashed-wrapped {border: 1px dashed gray;margin: 0 0.4em 0.5em 0.4em;box-sizing: border-box;padding-bottom: 0.4em;background-color: white;}#sk-container-id-2 div.sk-label label {font-family: monospace;font-weight: bold;display: inline-block;line-height: 1.2em;}#sk-container-id-2 div.sk-label-container {text-align: center;}#sk-container-id-2 div.sk-container {/* jupyter's `normalize.less` sets `[hidden] { display: none; }` but bootstrap.min.css set `[hidden] { display: none !important; }` so we also need the `!important` here to be able to override the default hidden behavior on the sphinx rendered scikit-learn.org. See: https://github.com/scikit-learn/scikit-learn/issues/21755 */display: inline-block !important;position: relative;}#sk-container-id-2 div.sk-text-repr-fallback {display: none;}</style><div id=\"sk-container-id-2\" class=\"sk-top-container\"><div class=\"sk-text-repr-fallback\"><pre>ColumnTransformer(transformers=[(&#x27;num&#x27;, Indicator(), [2, 3, 4, 7, 8, 10, 11]),\n",
       "                                (&#x27;cat&#x27;, OneHotEncoder(), [0, 1, 5, 6, 7, 9])])</pre><b>In a Jupyter environment, please rerun this cell to show the HTML representation or trust the notebook. <br />On GitHub, the HTML representation is unable to render, please try loading this page with nbviewer.org.</b></div><div class=\"sk-container\" hidden><div class=\"sk-item sk-dashed-wrapped\"><div class=\"sk-label-container\"><div class=\"sk-label sk-toggleable\"><input class=\"sk-toggleable__control sk-hidden--visually\" id=\"sk-estimator-id-6\" type=\"checkbox\" ><label for=\"sk-estimator-id-6\" class=\"sk-toggleable__label sk-toggleable__label-arrow\">ColumnTransformer</label><div class=\"sk-toggleable__content\"><pre>ColumnTransformer(transformers=[(&#x27;num&#x27;, Indicator(), [2, 3, 4, 7, 8, 10, 11]),\n",
       "                                (&#x27;cat&#x27;, OneHotEncoder(), [0, 1, 5, 6, 7, 9])])</pre></div></div></div><div class=\"sk-parallel\"><div class=\"sk-parallel-item\"><div class=\"sk-item\"><div class=\"sk-label-container\"><div class=\"sk-label sk-toggleable\"><input class=\"sk-toggleable__control sk-hidden--visually\" id=\"sk-estimator-id-7\" type=\"checkbox\" ><label for=\"sk-estimator-id-7\" class=\"sk-toggleable__label sk-toggleable__label-arrow\">num</label><div class=\"sk-toggleable__content\"><pre>[2, 3, 4, 7, 8, 10, 11]</pre></div></div></div><div class=\"sk-serial\"><div class=\"sk-item\"><div class=\"sk-estimator sk-toggleable\"><input class=\"sk-toggleable__control sk-hidden--visually\" id=\"sk-estimator-id-8\" type=\"checkbox\" ><label for=\"sk-estimator-id-8\" class=\"sk-toggleable__label sk-toggleable__label-arrow\">Indicator</label><div class=\"sk-toggleable__content\"><pre>Indicator()</pre></div></div></div></div></div></div><div class=\"sk-parallel-item\"><div class=\"sk-item\"><div class=\"sk-label-container\"><div class=\"sk-label sk-toggleable\"><input class=\"sk-toggleable__control sk-hidden--visually\" id=\"sk-estimator-id-9\" type=\"checkbox\" ><label for=\"sk-estimator-id-9\" class=\"sk-toggleable__label sk-toggleable__label-arrow\">cat</label><div class=\"sk-toggleable__content\"><pre>[0, 1, 5, 6, 7, 9]</pre></div></div></div><div class=\"sk-serial\"><div class=\"sk-item\"><div class=\"sk-estimator sk-toggleable\"><input class=\"sk-toggleable__control sk-hidden--visually\" id=\"sk-estimator-id-10\" type=\"checkbox\" ><label for=\"sk-estimator-id-10\" class=\"sk-toggleable__label sk-toggleable__label-arrow\">OneHotEncoder</label><div class=\"sk-toggleable__content\"><pre>OneHotEncoder()</pre></div></div></div></div></div></div></div></div></div></div>"
      ],
      "text/plain": [
       "ColumnTransformer(transformers=[('num', Indicator(), [2, 3, 4, 7, 8, 10, 11]),\n",
       "                                ('cat', OneHotEncoder(), [0, 1, 5, 6, 7, 9])])"
      ]
     },
     "execution_count": 95,
     "metadata": {},
     "output_type": "execute_result"
    }
   ],
   "source": [
    "full_pipeline.fit(X)\n",
    "X_trans = full_pipeline.transform(X)"
   ]
  },
  {
   "cell_type": "code",
   "execution_count": 97,
   "metadata": {},
   "outputs": [
    {
     "data": {
      "text/html": [
       "<style>#sk-container-id-3 {color: black;}#sk-container-id-3 pre{padding: 0;}#sk-container-id-3 div.sk-toggleable {background-color: white;}#sk-container-id-3 label.sk-toggleable__label {cursor: pointer;display: block;width: 100%;margin-bottom: 0;padding: 0.3em;box-sizing: border-box;text-align: center;}#sk-container-id-3 label.sk-toggleable__label-arrow:before {content: \"▸\";float: left;margin-right: 0.25em;color: #696969;}#sk-container-id-3 label.sk-toggleable__label-arrow:hover:before {color: black;}#sk-container-id-3 div.sk-estimator:hover label.sk-toggleable__label-arrow:before {color: black;}#sk-container-id-3 div.sk-toggleable__content {max-height: 0;max-width: 0;overflow: hidden;text-align: left;background-color: #f0f8ff;}#sk-container-id-3 div.sk-toggleable__content pre {margin: 0.2em;color: black;border-radius: 0.25em;background-color: #f0f8ff;}#sk-container-id-3 input.sk-toggleable__control:checked~div.sk-toggleable__content {max-height: 200px;max-width: 100%;overflow: auto;}#sk-container-id-3 input.sk-toggleable__control:checked~label.sk-toggleable__label-arrow:before {content: \"▾\";}#sk-container-id-3 div.sk-estimator input.sk-toggleable__control:checked~label.sk-toggleable__label {background-color: #d4ebff;}#sk-container-id-3 div.sk-label input.sk-toggleable__control:checked~label.sk-toggleable__label {background-color: #d4ebff;}#sk-container-id-3 input.sk-hidden--visually {border: 0;clip: rect(1px 1px 1px 1px);clip: rect(1px, 1px, 1px, 1px);height: 1px;margin: -1px;overflow: hidden;padding: 0;position: absolute;width: 1px;}#sk-container-id-3 div.sk-estimator {font-family: monospace;background-color: #f0f8ff;border: 1px dotted black;border-radius: 0.25em;box-sizing: border-box;margin-bottom: 0.5em;}#sk-container-id-3 div.sk-estimator:hover {background-color: #d4ebff;}#sk-container-id-3 div.sk-parallel-item::after {content: \"\";width: 100%;border-bottom: 1px solid gray;flex-grow: 1;}#sk-container-id-3 div.sk-label:hover label.sk-toggleable__label {background-color: #d4ebff;}#sk-container-id-3 div.sk-serial::before {content: \"\";position: absolute;border-left: 1px solid gray;box-sizing: border-box;top: 0;bottom: 0;left: 50%;z-index: 0;}#sk-container-id-3 div.sk-serial {display: flex;flex-direction: column;align-items: center;background-color: white;padding-right: 0.2em;padding-left: 0.2em;position: relative;}#sk-container-id-3 div.sk-item {position: relative;z-index: 1;}#sk-container-id-3 div.sk-parallel {display: flex;align-items: stretch;justify-content: center;background-color: white;position: relative;}#sk-container-id-3 div.sk-item::before, #sk-container-id-3 div.sk-parallel-item::before {content: \"\";position: absolute;border-left: 1px solid gray;box-sizing: border-box;top: 0;bottom: 0;left: 50%;z-index: -1;}#sk-container-id-3 div.sk-parallel-item {display: flex;flex-direction: column;z-index: 1;position: relative;background-color: white;}#sk-container-id-3 div.sk-parallel-item:first-child::after {align-self: flex-end;width: 50%;}#sk-container-id-3 div.sk-parallel-item:last-child::after {align-self: flex-start;width: 50%;}#sk-container-id-3 div.sk-parallel-item:only-child::after {width: 0;}#sk-container-id-3 div.sk-dashed-wrapped {border: 1px dashed gray;margin: 0 0.4em 0.5em 0.4em;box-sizing: border-box;padding-bottom: 0.4em;background-color: white;}#sk-container-id-3 div.sk-label label {font-family: monospace;font-weight: bold;display: inline-block;line-height: 1.2em;}#sk-container-id-3 div.sk-label-container {text-align: center;}#sk-container-id-3 div.sk-container {/* jupyter's `normalize.less` sets `[hidden] { display: none; }` but bootstrap.min.css set `[hidden] { display: none !important; }` so we also need the `!important` here to be able to override the default hidden behavior on the sphinx rendered scikit-learn.org. See: https://github.com/scikit-learn/scikit-learn/issues/21755 */display: inline-block !important;position: relative;}#sk-container-id-3 div.sk-text-repr-fallback {display: none;}</style><div id=\"sk-container-id-3\" class=\"sk-top-container\"><div class=\"sk-text-repr-fallback\"><pre>LinearRegression()</pre><b>In a Jupyter environment, please rerun this cell to show the HTML representation or trust the notebook. <br />On GitHub, the HTML representation is unable to render, please try loading this page with nbviewer.org.</b></div><div class=\"sk-container\" hidden><div class=\"sk-item\"><div class=\"sk-estimator sk-toggleable\"><input class=\"sk-toggleable__control sk-hidden--visually\" id=\"sk-estimator-id-11\" type=\"checkbox\" checked><label for=\"sk-estimator-id-11\" class=\"sk-toggleable__label sk-toggleable__label-arrow\">LinearRegression</label><div class=\"sk-toggleable__content\"><pre>LinearRegression()</pre></div></div></div></div></div>"
      ],
      "text/plain": [
       "LinearRegression()"
      ]
     },
     "execution_count": 97,
     "metadata": {},
     "output_type": "execute_result"
    }
   ],
   "source": [
    "lin_reg = LinearRegression(fit_intercept=True)\n",
    "lin_reg.fit(X_trans,y)"
   ]
  },
  {
   "cell_type": "code",
   "execution_count": 99,
   "metadata": {},
   "outputs": [],
   "source": [
    "y_pred = lin_reg.predict(X_trans)"
   ]
  },
  {
   "cell_type": "code",
   "execution_count": 102,
   "metadata": {},
   "outputs": [
    {
     "data": {
      "text/plain": [
       "0.518197511717302"
      ]
     },
     "execution_count": 102,
     "metadata": {},
     "output_type": "execute_result"
    }
   ],
   "source": [
    "r2_score(y_pred, y)"
   ]
  },
  {
   "cell_type": "code",
   "execution_count": 103,
   "metadata": {},
   "outputs": [
    {
     "data": {
      "text/plain": [
       "<matplotlib.collections.PathCollection at 0x21ae56d5b90>"
      ]
     },
     "execution_count": 103,
     "metadata": {},
     "output_type": "execute_result"
    },
    {
     "data": {
      "image/png": "[encoded data removed]",
      "text/plain": [
       "<Figure size 640x480 with 1 Axes>"
      ]
     },
     "metadata": {},
     "output_type": "display_data"
    }
   ],
   "source": [
    "plt.scatter(y, y_pred)"
   ]
  },
  {
   "cell_type": "code",
   "execution_count": null,
   "metadata": {},
   "outputs": [],
   "source": []
  },
  {
   "cell_type": "code",
   "execution_count": null,
   "metadata": {},
   "outputs": [],
   "source": []
  },
  {
   "cell_type": "code",
   "execution_count": null,
   "metadata": {},
   "outputs": [],
   "source": []
  },
  {
   "cell_type": "code",
   "execution_count": null,
   "metadata": {},
   "outputs": [],
   "source": []
  },
  {
   "cell_type": "code",
   "execution_count": null,
   "metadata": {},
   "outputs": [],
   "source": []
  }
 ],
 "metadata": {
  "kernelspec": {
   "display_name": "base",
   "language": "python",
   "name": "python3"
  },
  "language_info": {
   "codemirror_mode": {
    "name": "ipython",
    "version": 3
   },
   "file_extension": ".py",
   "mimetype": "text/x-python",
   "name": "python",
   "nbconvert_exporter": "python",
   "pygments_lexer": "ipython3",
   "version": "3.11.4"
  }
 },
 "nbformat": 4,
 "nbformat_minor": 2
}
