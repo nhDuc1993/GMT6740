{
 "cells": [
  {
   "cell_type": "code",
   "execution_count": 17,
   "metadata": {},
   "outputs": [],
   "source": [
    "import pandas as pd\n",
    "import numpy as np\n",
    "\n",
    "import matplotlib.pyplot as plt\n",
    "import seaborn as sns\n",
    "\n",
    "from sklearn.impute import SimpleImputer, MissingIndicator\n",
    "from sklearn.base import BaseEstimator, TransformerMixin\n",
    "from sklearn.compose import ColumnTransformer\n",
    "from sklearn.pipeline import Pipeline\n",
    "from sklearn.preprocessing import OneHotEncoder\n",
    "from sklearn.linear_model import LinearRegression, Lasso, Ridge\n",
    "from sklearn.model_selection import train_test_split, KFold, cross_validate, GridSearchCV\n",
    "from sklearn.decomposition import PCA\n",
    "from sklearn.metrics import r2_score, mean_squared_error, mean_absolute_error\n",
    "\n",
    "import joblib\n",
    "\n",
    "import os \n",
    "\n",
    "import warnings\n",
    "warnings.filterwarnings(\"ignore\")"
   ]
  },
  {
   "cell_type": "markdown",
   "metadata": {},
   "source": [
    "### Import data"
   ]
  },
  {
   "cell_type": "code",
   "execution_count": 18,
   "metadata": {},
   "outputs": [
    {
     "data": {
      "text/html": [
       "<div>\n",
       "<style scoped>\n",
       "    .dataframe tbody tr th:only-of-type {\n",
       "        vertical-align: middle;\n",
       "    }\n",
       "\n",
       "    .dataframe tbody tr th {\n",
       "        vertical-align: top;\n",
       "    }\n",
       "\n",
       "    .dataframe thead th {\n",
       "        text-align: right;\n",
       "    }\n",
       "</style>\n",
       "<table border=\"1\" class=\"dataframe\">\n",
       "  <thead>\n",
       "    <tr style=\"text-align: right;\">\n",
       "      <th></th>\n",
       "      <th>maker</th>\n",
       "      <th>model</th>\n",
       "      <th>mileage</th>\n",
       "      <th>manufacture_year</th>\n",
       "      <th>engine_displacement</th>\n",
       "      <th>engine_power</th>\n",
       "      <th>body_type</th>\n",
       "      <th>stk_year</th>\n",
       "      <th>transmission</th>\n",
       "      <th>door_count</th>\n",
       "      <th>seat_count</th>\n",
       "      <th>fuel_type</th>\n",
       "      <th>date_created</th>\n",
       "      <th>date_last_seen</th>\n",
       "      <th>price_eur</th>\n",
       "    </tr>\n",
       "  </thead>\n",
       "  <tbody>\n",
       "    <tr>\n",
       "      <th>0</th>\n",
       "      <td>ford</td>\n",
       "      <td>galaxy</td>\n",
       "      <td>151000.0</td>\n",
       "      <td>2011.0</td>\n",
       "      <td>2000.0</td>\n",
       "      <td>138.12506</td>\n",
       "      <td>compact</td>\n",
       "      <td>NaN</td>\n",
       "      <td>man</td>\n",
       "      <td>5.0</td>\n",
       "      <td>7.0</td>\n",
       "      <td>diesel</td>\n",
       "      <td>2015-11-14 18:10:06.838319+00</td>\n",
       "      <td>2016-01-27 20:40:15.46361+00</td>\n",
       "      <td>10584.75</td>\n",
       "    </tr>\n",
       "    <tr>\n",
       "      <th>1</th>\n",
       "      <td>skoda</td>\n",
       "      <td>octavia</td>\n",
       "      <td>143476.0</td>\n",
       "      <td>2012.0</td>\n",
       "      <td>2000.0</td>\n",
       "      <td>108.62262</td>\n",
       "      <td>compact</td>\n",
       "      <td>NaN</td>\n",
       "      <td>man</td>\n",
       "      <td>5.0</td>\n",
       "      <td>5.0</td>\n",
       "      <td>diesel</td>\n",
       "      <td>2015-11-14 18:10:06.853411+00</td>\n",
       "      <td>2016-01-27 20:40:15.46361+00</td>\n",
       "      <td>8882.31</td>\n",
       "    </tr>\n",
       "    <tr>\n",
       "      <th>2</th>\n",
       "      <td>bmw</td>\n",
       "      <td>NaN</td>\n",
       "      <td>97676.0</td>\n",
       "      <td>2010.0</td>\n",
       "      <td>1995.0</td>\n",
       "      <td>113.98670</td>\n",
       "      <td>compact</td>\n",
       "      <td>NaN</td>\n",
       "      <td>man</td>\n",
       "      <td>5.0</td>\n",
       "      <td>5.0</td>\n",
       "      <td>diesel</td>\n",
       "      <td>2015-11-14 18:10:06.861792+00</td>\n",
       "      <td>2016-01-27 20:40:15.46361+00</td>\n",
       "      <td>12065.06</td>\n",
       "    </tr>\n",
       "    <tr>\n",
       "      <th>3</th>\n",
       "      <td>skoda</td>\n",
       "      <td>fabia</td>\n",
       "      <td>111970.0</td>\n",
       "      <td>2004.0</td>\n",
       "      <td>1200.0</td>\n",
       "      <td>84.48426</td>\n",
       "      <td>compact</td>\n",
       "      <td>NaN</td>\n",
       "      <td>man</td>\n",
       "      <td>5.0</td>\n",
       "      <td>5.0</td>\n",
       "      <td>gasoline</td>\n",
       "      <td>2015-11-14 18:10:06.872313+00</td>\n",
       "      <td>2016-01-27 20:40:15.46361+00</td>\n",
       "      <td>2960.77</td>\n",
       "    </tr>\n",
       "    <tr>\n",
       "      <th>4</th>\n",
       "      <td>skoda</td>\n",
       "      <td>fabia</td>\n",
       "      <td>128886.0</td>\n",
       "      <td>2004.0</td>\n",
       "      <td>1200.0</td>\n",
       "      <td>84.48426</td>\n",
       "      <td>compact</td>\n",
       "      <td>NaN</td>\n",
       "      <td>man</td>\n",
       "      <td>5.0</td>\n",
       "      <td>5.0</td>\n",
       "      <td>gasoline</td>\n",
       "      <td>2015-11-14 18:10:06.880335+00</td>\n",
       "      <td>2016-01-27 20:40:15.46361+00</td>\n",
       "      <td>2738.71</td>\n",
       "    </tr>\n",
       "  </tbody>\n",
       "</table>\n",
       "</div>"
      ],
      "text/plain": [
       "   maker    model   mileage  manufacture_year  engine_displacement  \\\n",
       "0   ford   galaxy  151000.0            2011.0               2000.0   \n",
       "1  skoda  octavia  143476.0            2012.0               2000.0   \n",
       "2    bmw      NaN   97676.0            2010.0               1995.0   \n",
       "3  skoda    fabia  111970.0            2004.0               1200.0   \n",
       "4  skoda    fabia  128886.0            2004.0               1200.0   \n",
       "\n",
       "   engine_power body_type  stk_year transmission  door_count  seat_count  \\\n",
       "0     138.12506   compact       NaN          man         5.0         7.0   \n",
       "1     108.62262   compact       NaN          man         5.0         5.0   \n",
       "2     113.98670   compact       NaN          man         5.0         5.0   \n",
       "3      84.48426   compact       NaN          man         5.0         5.0   \n",
       "4      84.48426   compact       NaN          man         5.0         5.0   \n",
       "\n",
       "  fuel_type                   date_created                date_last_seen  \\\n",
       "0    diesel  2015-11-14 18:10:06.838319+00  2016-01-27 20:40:15.46361+00   \n",
       "1    diesel  2015-11-14 18:10:06.853411+00  2016-01-27 20:40:15.46361+00   \n",
       "2    diesel  2015-11-14 18:10:06.861792+00  2016-01-27 20:40:15.46361+00   \n",
       "3  gasoline  2015-11-14 18:10:06.872313+00  2016-01-27 20:40:15.46361+00   \n",
       "4  gasoline  2015-11-14 18:10:06.880335+00  2016-01-27 20:40:15.46361+00   \n",
       "\n",
       "   price_eur  \n",
       "0   10584.75  \n",
       "1    8882.31  \n",
       "2   12065.06  \n",
       "3    2960.77  \n",
       "4    2738.71  "
      ]
     },
     "execution_count": 18,
     "metadata": {},
     "output_type": "execute_result"
    }
   ],
   "source": [
    "link = r\"D:/clean_df.csv\"\n",
    "df = pd.read_csv(link)\n",
    "\n",
    "df.head()"
   ]
  },
  {
   "cell_type": "markdown",
   "metadata": {},
   "source": [
    "### Create man_period, stk_period"
   ]
  },
  {
   "cell_type": "code",
   "execution_count": 19,
   "metadata": {},
   "outputs": [],
   "source": [
    "df['date_created'] = pd.to_datetime(df['date_created'])\n",
    "df['year_created'] = df['date_created'].dt.year\n",
    "\n",
    "df['man_period'] = df['year_created'] - df['manufacture_year']\n",
    "df['stk_period'] = df['year_created'] - df['stk_year']"
   ]
  },
  {
   "cell_type": "markdown",
   "metadata": {},
   "source": [
    "### Drop and impute column for faster one hot encoding"
   ]
  },
  {
   "cell_type": "code",
   "execution_count": 20,
   "metadata": {},
   "outputs": [],
   "source": [
    "df = df.drop(['manufacture_year', 'stk_year', 'date_created', 'date_last_seen', 'year_created'], axis=1)\n",
    "df.iloc[:,[0,1,5,6,9]] = df.iloc[:,[0,1,5,6,9]].fillna('unknown')"
   ]
  },
  {
   "cell_type": "markdown",
   "metadata": {},
   "source": [
    "### Split"
   ]
  },
  {
   "cell_type": "code",
   "execution_count": 21,
   "metadata": {},
   "outputs": [],
   "source": [
    "X = df.drop('price_eur', axis=1).to_numpy()\n",
    "y = df['price_eur'].to_numpy()"
   ]
  },
  {
   "cell_type": "markdown",
   "metadata": {},
   "source": [
    "### Feature processing"
   ]
  },
  {
   "cell_type": "code",
   "execution_count": 22,
   "metadata": {},
   "outputs": [],
   "source": [
    "class Indicator(BaseEstimator, TransformerMixin):\n",
    "    def __init__(self):\n",
    "        pass\n",
    "\n",
    "    def fit(self, X, y=None):\n",
    "        return self\n",
    "    \n",
    "    def transform(self, X, y=None):\n",
    "        nonnull_X = np.nan_to_num(X.astype(float), nan=0).astype(int)\n",
    "\n",
    "        missing_indicator = MissingIndicator()\n",
    "        indicator_values = missing_indicator.fit_transform(X).astype(int)\n",
    "\n",
    "        return np.c_[nonnull_X, indicator_values]"
   ]
  },
  {
   "cell_type": "code",
   "execution_count": 23,
   "metadata": {},
   "outputs": [],
   "source": [
    "num_cols = [2,3,4,7,8,10,11]\n",
    "cat_cols = [0,1,5,6,9]\n",
    "\n",
    "one_hot_encoder = OneHotEncoder(handle_unknown='ignore')\n",
    "indicator = Indicator()\n",
    "\n",
    "full_pipeline = ColumnTransformer([\n",
    "    (\"num\", indicator, num_cols),\n",
    "    (\"cat\", one_hot_encoder , cat_cols),\n",
    "])"
   ]
  },
  {
   "cell_type": "code",
   "execution_count": 24,
   "metadata": {},
   "outputs": [],
   "source": [
    "full_pipeline.fit(X)\n",
    "X_trans = full_pipeline.transform(X)"
   ]
  },
  {
   "cell_type": "code",
   "execution_count": 25,
   "metadata": {},
   "outputs": [],
   "source": [
    "X_train_val, X_test, y_train_val, y_test = train_test_split(X_trans, y, test_size=0.2, random_state=42)\n",
    "\n",
    "X_train, X_val, y_train, y_val = train_test_split(X_train_val, y_train_val, test_size=0.2, random_state=42)"
   ]
  },
  {
   "cell_type": "markdown",
   "metadata": {},
   "source": [
    "## Model"
   ]
  },
  {
   "cell_type": "code",
   "execution_count": 26,
   "metadata": {},
   "outputs": [],
   "source": [
    "eva_df = pd.DataFrame(columns = [\"Model\", \"RMSE\", \"MAE\", \"R2\" ])     "
   ]
  },
  {
   "cell_type": "markdown",
   "metadata": {},
   "source": [
    "### Linear regression"
   ]
  },
  {
   "cell_type": "code",
   "execution_count": 27,
   "metadata": {},
   "outputs": [],
   "source": [
    "# lin_reg = LinearRegression(fit_intercept=True)\n",
    "\n",
    "# # K-fold cross validation with k=5\n",
    "# kfold = KFold(n_splits=5, shuffle=True, random_state=42)\n",
    "# scores = cross_validate(lin_reg, X_trans, y, cv=kfold, scoring = ['neg_mean_squared_error', 'neg_mean_absolute_error','r2'] )\n",
    "\n",
    "# mse = -scores['test_neg_mean_squared_error'].mean()\n",
    "# mae = -scores['test_neg_mean_absolute_error'].mean()\n",
    "# R2 = scores['test_r2'].mean()\n",
    "\n",
    "# eva_df = eva_df.append({\"Model\": \"Linear Regression\", \"RMSE\" : mse**0.5, \"MAE\":mae ,\"R2\" : R2},ignore_index=True)\n",
    "# eva_df"
   ]
  },
  {
   "cell_type": "code",
   "execution_count": 28,
   "metadata": {},
   "outputs": [
    {
     "data": {
      "text/html": [
       "<div>\n",
       "<style scoped>\n",
       "    .dataframe tbody tr th:only-of-type {\n",
       "        vertical-align: middle;\n",
       "    }\n",
       "\n",
       "    .dataframe tbody tr th {\n",
       "        vertical-align: top;\n",
       "    }\n",
       "\n",
       "    .dataframe thead th {\n",
       "        text-align: right;\n",
       "    }\n",
       "</style>\n",
       "<table border=\"1\" class=\"dataframe\">\n",
       "  <thead>\n",
       "    <tr style=\"text-align: right;\">\n",
       "      <th></th>\n",
       "      <th>Model</th>\n",
       "      <th>RMSE</th>\n",
       "      <th>MAE</th>\n",
       "      <th>R2</th>\n",
       "    </tr>\n",
       "  </thead>\n",
       "  <tbody>\n",
       "    <tr>\n",
       "      <th>0</th>\n",
       "      <td>Linear Regression</td>\n",
       "      <td>6418.692939</td>\n",
       "      <td>4005.508958</td>\n",
       "      <td>0.743824</td>\n",
       "    </tr>\n",
       "  </tbody>\n",
       "</table>\n",
       "</div>"
      ],
      "text/plain": [
       "               Model         RMSE          MAE        R2\n",
       "0  Linear Regression  6418.692939  4005.508958  0.743824"
      ]
     },
     "execution_count": 28,
     "metadata": {},
     "output_type": "execute_result"
    }
   ],
   "source": [
    "lin_reg = LinearRegression(fit_intercept=True)\n",
    "lin_reg.fit(X_train_val, y_train_val)\n",
    "\n",
    "y_pred = lin_reg.predict(X_test)\n",
    "\n",
    "mse = mean_squared_error(y_test,y_pred)\n",
    "mae = mean_absolute_error(y_test,y_pred)\n",
    "R2 = r2_score(y_test,y_pred)\n",
    "\n",
    "eva_df = eva_df.append({\"Model\": \"Linear Regression\", \"RMSE\" : mse**0.5, \"MAE\":mae ,\"R2\" : R2},ignore_index=True)\n",
    "eva_df"
   ]
  },
  {
   "cell_type": "code",
   "execution_count": 29,
   "metadata": {},
   "outputs": [
    {
     "data": {
      "text/plain": [
       "['linear_regression.joblib']"
      ]
     },
     "execution_count": 29,
     "metadata": {},
     "output_type": "execute_result"
    }
   ],
   "source": [
    "joblib.dump(lin_reg, './model/linear_regression.joblib')"
   ]
  },
  {
   "cell_type": "markdown",
   "metadata": {},
   "source": [
    "### Lasso"
   ]
  },
  {
   "cell_type": "code",
   "execution_count": 30,
   "metadata": {},
   "outputs": [],
   "source": [
    "# # Create a model instance\n",
    "# lasso_reg = Lasso()\n",
    "\n",
    "# # Define the alpha values to be tested\n",
    "# alphas = [0.001, 0.01, 0.1, 1, 10, 100, 1000]\n",
    "\n",
    "# # GridSearchCV\n",
    "# kfold = KFold(n_splits=5, shuffle=True, random_state=42)\n",
    "# lasso_grid = GridSearchCV(estimator=lasso_reg, param_grid={'alpha': alphas}, cv=kfold, return_train_score=True)\n",
    "\n",
    "# # Fit\n",
    "# lasso_grid.fit(X_trans,y)\n",
    "\n",
    "# # Alpha\n",
    "# alpha = lasso_grid.best_params_['alpha']\n",
    "# alpha = 0.1"
   ]
  },
  {
   "cell_type": "code",
   "execution_count": 31,
   "metadata": {},
   "outputs": [],
   "source": [
    "# alpha = 0.1\n",
    "# # K-fold cross validation with k=10\n",
    "# lasso_reg = Lasso(alpha=alpha)\n",
    "\n",
    "# kfold = KFold(n_splits=5, shuffle=True, random_state=42)\n",
    "# scores = cross_validate(lasso_reg, X_trans, y, cv=kfold, scoring = ['neg_mean_squared_error','neg_mean_absolute_error', 'r2'] )\n",
    "\n",
    "# # Adding metrics to the evaluation dataframe\n",
    "# mse = -scores['test_neg_mean_squared_error'].mean()\n",
    "# mae = -scores['test_neg_mean_absolute_error'].mean()\n",
    "# R2 = scores['test_r2'].mean()\n",
    "\n",
    "# eva_df = eva_df.append({\"Model\": \"LASSO regression\", \"RMSE\" : mse**0.5, \"MAE\":mae, \"R2\" : R2},ignore_index=True)\n",
    "# eva_df"
   ]
  },
  {
   "cell_type": "code",
   "execution_count": 32,
   "metadata": {},
   "outputs": [],
   "source": [
    "lasso_reg = Lasso(fit_intercept=True, alpha = 0.1)\n",
    "lasso_reg.fit(X_train_val, y_train_val)\n",
    "\n",
    "y_pred = lasso_reg.predict(X_test)\n",
    "\n",
    "mse = mean_squared_error(y_test,y_pred)\n",
    "mae = mean_absolute_error(y_test,y_pred)\n",
    "R2 = r2_score(y_test,y_pred)\n",
    "\n",
    "eva_df = eva_df.append({\"Model\": \"LASSO regression\", \"RMSE\" : mse**0.5, \"MAE\":mae ,\"R2\" : R2},ignore_index=True)\n",
    "eva_df"
   ]
  },
  {
   "cell_type": "code",
   "execution_count": null,
   "metadata": {},
   "outputs": [],
   "source": [
    "joblib.dump(lasso_reg, './model/LASSO.joblib')"
   ]
  },
  {
   "cell_type": "markdown",
   "metadata": {},
   "source": [
    "### Ridge"
   ]
  },
  {
   "cell_type": "code",
   "execution_count": null,
   "metadata": {},
   "outputs": [],
   "source": [
    "# # Create a model instance\n",
    "# ridge_reg = Ridge()\n",
    "\n",
    "# # Define the alpha values to be tested\n",
    "# alphas = [0.001, 0.01, 0.1, 1, 10, 100, 1000]\n",
    "\n",
    "# # GridSearchCV for alpha\n",
    "# kfold = KFold(n_splits=5, shuffle=True, random_state=42)\n",
    "# ridge_grid = GridSearchCV(estimator=ridge_reg, param_grid={'alpha': alphas}, cv=kfold, return_train_score=True)\n",
    "\n",
    "# # Fit\n",
    "# ridge_grid.fit(X_trans,y)\n",
    "\n",
    "# # Best alpha\n",
    "# alpha = ridge_grid.best_params_['alpha']\n",
    "# alpha"
   ]
  },
  {
   "cell_type": "code",
   "execution_count": null,
   "metadata": {},
   "outputs": [
    {
     "data": {
      "text/html": [
       "<div>\n",
       "<style scoped>\n",
       "    .dataframe tbody tr th:only-of-type {\n",
       "        vertical-align: middle;\n",
       "    }\n",
       "\n",
       "    .dataframe tbody tr th {\n",
       "        vertical-align: top;\n",
       "    }\n",
       "\n",
       "    .dataframe thead th {\n",
       "        text-align: right;\n",
       "    }\n",
       "</style>\n",
       "<table border=\"1\" class=\"dataframe\">\n",
       "  <thead>\n",
       "    <tr style=\"text-align: right;\">\n",
       "      <th></th>\n",
       "      <th>Model</th>\n",
       "      <th>RMSE</th>\n",
       "      <th>MAE</th>\n",
       "      <th>R2</th>\n",
       "    </tr>\n",
       "  </thead>\n",
       "  <tbody>\n",
       "    <tr>\n",
       "      <th>0</th>\n",
       "      <td>Linear Regression</td>\n",
       "      <td>6697.777555</td>\n",
       "      <td>4215.4448</td>\n",
       "      <td>0.722627</td>\n",
       "    </tr>\n",
       "    <tr>\n",
       "      <th>1</th>\n",
       "      <td>LASSO regression</td>\n",
       "      <td>6697.431707</td>\n",
       "      <td>4215.383759</td>\n",
       "      <td>0.722656</td>\n",
       "    </tr>\n",
       "    <tr>\n",
       "      <th>2</th>\n",
       "      <td>Ridge regression</td>\n",
       "      <td>6697.496975</td>\n",
       "      <td>4215.592141</td>\n",
       "      <td>0.722651</td>\n",
       "    </tr>\n",
       "  </tbody>\n",
       "</table>\n",
       "</div>"
      ],
      "text/plain": [
       "               Model         RMSE          MAE        R2\n",
       "0  Linear Regression  6697.777555    4215.4448  0.722627\n",
       "1   LASSO regression  6697.431707  4215.383759  0.722656\n",
       "2   Ridge regression  6697.496975  4215.592141  0.722651"
      ]
     },
     "execution_count": 15,
     "metadata": {},
     "output_type": "execute_result"
    }
   ],
   "source": [
    "# alpha=10\n",
    "# # K-fold cross validation with k=10\n",
    "# ridge_reg = Ridge(alpha=alpha)\n",
    "\n",
    "# kfold = KFold(n_splits=5, shuffle=True, random_state=42)\n",
    "# scores = cross_validate(ridge_reg, X_trans, y, cv=kfold, scoring = ['neg_mean_squared_error','neg_mean_absolute_error', 'r2'] )\n",
    "# # Adding metrics to the evaluation dataframe\n",
    "# mse = -scores['test_neg_mean_squared_error'].mean()\n",
    "# mae = -scores['test_neg_mean_absolute_error'].mean()\n",
    "# R2 = scores['test_r2'].mean()\n",
    "\n",
    "# eva_df = eva_df.append({\"Model\": \"Ridge regression\", \"RMSE\" : mse**0.5, \"MAE\":mae, \"R2\" : R2},ignore_index=True)\n",
    "# eva_df"
   ]
  },
  {
   "cell_type": "code",
   "execution_count": null,
   "metadata": {},
   "outputs": [
    {
     "data": {
      "text/html": [
       "<div>\n",
       "<style scoped>\n",
       "    .dataframe tbody tr th:only-of-type {\n",
       "        vertical-align: middle;\n",
       "    }\n",
       "\n",
       "    .dataframe tbody tr th {\n",
       "        vertical-align: top;\n",
       "    }\n",
       "\n",
       "    .dataframe thead th {\n",
       "        text-align: right;\n",
       "    }\n",
       "</style>\n",
       "<table border=\"1\" class=\"dataframe\">\n",
       "  <thead>\n",
       "    <tr style=\"text-align: right;\">\n",
       "      <th></th>\n",
       "      <th>Model</th>\n",
       "      <th>RMSE</th>\n",
       "      <th>MAE</th>\n",
       "      <th>R2</th>\n",
       "    </tr>\n",
       "  </thead>\n",
       "  <tbody>\n",
       "    <tr>\n",
       "      <th>0</th>\n",
       "      <td>Linear Regression</td>\n",
       "      <td>6691.190191</td>\n",
       "      <td>4213.63101</td>\n",
       "      <td>0.721611</td>\n",
       "    </tr>\n",
       "    <tr>\n",
       "      <th>1</th>\n",
       "      <td>LASSO regression</td>\n",
       "      <td>6690.413671</td>\n",
       "      <td>4213.44705</td>\n",
       "      <td>0.721676</td>\n",
       "    </tr>\n",
       "    <tr>\n",
       "      <th>2</th>\n",
       "      <td>Ridge regression</td>\n",
       "      <td>6690.620707</td>\n",
       "      <td>4213.699945</td>\n",
       "      <td>0.721659</td>\n",
       "    </tr>\n",
       "  </tbody>\n",
       "</table>\n",
       "</div>"
      ],
      "text/plain": [
       "               Model         RMSE          MAE        R2\n",
       "0  Linear Regression  6691.190191   4213.63101  0.721611\n",
       "1   LASSO regression  6690.413671   4213.44705  0.721676\n",
       "2   Ridge regression  6690.620707  4213.699945  0.721659"
      ]
     },
     "execution_count": 16,
     "metadata": {},
     "output_type": "execute_result"
    }
   ],
   "source": [
    "ridge_reg = Ridge(fit_intercept=True, alpha = 10)\n",
    "ridge_reg.fit(X_train_val, y_train_val)\n",
    "\n",
    "y_pred = ridge_reg.predict(X_test)\n",
    "\n",
    "mse = mean_squared_error(y_test,y_pred)\n",
    "mae = mean_absolute_error(y_test,y_pred)\n",
    "R2 = r2_score(y_test,y_pred)\n",
    "\n",
    "eva_df = eva_df.append({\"Model\": \"Ridge regression\", \"RMSE\" : mse**0.5, \"MAE\":mae ,\"R2\" : R2},ignore_index=True)\n",
    "eva_df"
   ]
  },
  {
   "cell_type": "code",
   "execution_count": null,
   "metadata": {},
   "outputs": [],
   "source": [
    "joblib.dump(ridge_reg, './model/ridge_regression.joblib')"
   ]
  },
  {
   "cell_type": "markdown",
   "metadata": {},
   "source": [
    "### PCA"
   ]
  },
  {
   "cell_type": "code",
   "execution_count": null,
   "metadata": {},
   "outputs": [],
   "source": [
    "pca = PCA(n_components=10)\n",
    "pca.fit(X_train_val)\n",
    "X_train_pca = pca.transform(X_train_val)"
   ]
  },
  {
   "cell_type": "code",
   "execution_count": null,
   "metadata": {},
   "outputs": [
    {
     "data": {
      "text/plain": [
       "(449643, 10)"
      ]
     },
     "execution_count": 21,
     "metadata": {},
     "output_type": "execute_result"
    }
   ],
   "source": [
    "pca.transform(X_test).shape"
   ]
  },
  {
   "cell_type": "code",
   "execution_count": null,
   "metadata": {},
   "outputs": [
    {
     "data": {
      "text/html": [
       "<div>\n",
       "<style scoped>\n",
       "    .dataframe tbody tr th:only-of-type {\n",
       "        vertical-align: middle;\n",
       "    }\n",
       "\n",
       "    .dataframe tbody tr th {\n",
       "        vertical-align: top;\n",
       "    }\n",
       "\n",
       "    .dataframe thead th {\n",
       "        text-align: right;\n",
       "    }\n",
       "</style>\n",
       "<table border=\"1\" class=\"dataframe\">\n",
       "  <thead>\n",
       "    <tr style=\"text-align: right;\">\n",
       "      <th></th>\n",
       "      <th>Model</th>\n",
       "      <th>RMSE</th>\n",
       "      <th>MAE</th>\n",
       "      <th>R2</th>\n",
       "    </tr>\n",
       "  </thead>\n",
       "  <tbody>\n",
       "    <tr>\n",
       "      <th>0</th>\n",
       "      <td>Linear Regression</td>\n",
       "      <td>6691.190191</td>\n",
       "      <td>4213.63101</td>\n",
       "      <td>0.721611</td>\n",
       "    </tr>\n",
       "    <tr>\n",
       "      <th>1</th>\n",
       "      <td>LASSO regression</td>\n",
       "      <td>6690.413671</td>\n",
       "      <td>4213.44705</td>\n",
       "      <td>0.721676</td>\n",
       "    </tr>\n",
       "    <tr>\n",
       "      <th>2</th>\n",
       "      <td>Ridge regression</td>\n",
       "      <td>6690.620707</td>\n",
       "      <td>4213.699945</td>\n",
       "      <td>0.721659</td>\n",
       "    </tr>\n",
       "    <tr>\n",
       "      <th>3</th>\n",
       "      <td>Linear regression with PCA</td>\n",
       "      <td>7369.2715</td>\n",
       "      <td>4661.315633</td>\n",
       "      <td>0.662329</td>\n",
       "    </tr>\n",
       "  </tbody>\n",
       "</table>\n",
       "</div>"
      ],
      "text/plain": [
       "                        Model         RMSE          MAE        R2\n",
       "0           Linear Regression  6691.190191   4213.63101  0.721611\n",
       "1            LASSO regression  6690.413671   4213.44705  0.721676\n",
       "2            Ridge regression  6690.620707  4213.699945  0.721659\n",
       "3  Linear regression with PCA    7369.2715  4661.315633  0.662329"
      ]
     },
     "execution_count": 22,
     "metadata": {},
     "output_type": "execute_result"
    }
   ],
   "source": [
    "pca_lin_reg = LinearRegression(fit_intercept=True)\n",
    "pca_lin_reg.fit(X_train_pca, y_train_val)\n",
    "\n",
    "X_test_pca = pca.transform(X_test)\n",
    "y_pred = pca_lin_reg.predict(X_test_pca)\n",
    "\n",
    "mse = mean_squared_error(y_test,y_pred)\n",
    "mae = mean_absolute_error(y_test,y_pred)\n",
    "R2 = r2_score(y_test,y_pred)\n",
    "\n",
    "eva_df = eva_df.append({\"Model\": \"Linear regression with PCA\", \"RMSE\" : mse**0.5, \"MAE\":mae ,\"R2\" : R2},ignore_index=True)\n",
    "eva_df"
   ]
  },
  {
   "cell_type": "code",
   "execution_count": null,
   "metadata": {},
   "outputs": [],
   "source": [
    "joblib.dump(pca_lin_reg, './model/pca_linear_regression.joblib')"
   ]
  }
 ],
 "metadata": {
  "kernelspec": {
   "display_name": "base",
   "language": "python",
   "name": "python3"
  },
  "language_info": {
   "codemirror_mode": {
    "name": "ipython",
    "version": 3
   },
   "file_extension": ".py",
   "mimetype": "text/x-python",
   "name": "python",
   "nbconvert_exporter": "python",
   "pygments_lexer": "ipython3",
   "version": "3.9.12"
  }
 },
 "nbformat": 4,
 "nbformat_minor": 2
}
