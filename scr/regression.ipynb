{
 "cells": [
  {
   "cell_type": "code",
   "execution_count": 13,
   "metadata": {},
   "outputs": [],
   "source": [
    "import pandas as pd\n",
    "import numpy as np\n",
    "from scipy.sparse import load_npz\n",
    "\n",
    "import matplotlib.pyplot as plt\n",
    "import seaborn as sns\n",
    "\n",
    "from sklearn.linear_model import LinearRegression, Lasso, Ridge\n",
    "from sklearn.model_selection import train_test_split, KFold, cross_validate, GridSearchCV\n",
    "from sklearn.decomposition import TruncatedSVD\n",
    "from sklearn.metrics import r2_score, mean_squared_error, mean_absolute_error\n",
    "\n",
    "import joblib\n",
    "import os \n",
    "import warnings\n",
    "warnings.filterwarnings(\"ignore\")"
   ]
  },
  {
   "cell_type": "markdown",
   "metadata": {},
   "source": [
    "### Import data"
   ]
  },
  {
   "cell_type": "code",
   "execution_count": 14,
   "metadata": {},
   "outputs": [],
   "source": [
    "X_trans = load_npz(\"../data/X_trans.npz\")\n",
    "y = np.loadtxt(\"../data/y.txt\")"
   ]
  },
  {
   "cell_type": "markdown",
   "metadata": {},
   "source": [
    "### Split"
   ]
  },
  {
   "cell_type": "code",
   "execution_count": 15,
   "metadata": {},
   "outputs": [],
   "source": [
    "X_train_val, X_test, y_train_val, y_test = train_test_split(X_trans, y, test_size=0.2, random_state=42)\n",
    "X_train, X_val, y_train, y_val = train_test_split(X_train_val, y_train_val, test_size=0.2, random_state=42)"
   ]
  },
  {
   "cell_type": "markdown",
   "metadata": {},
   "source": [
    "## Model"
   ]
  },
  {
   "cell_type": "code",
   "execution_count": 16,
   "metadata": {},
   "outputs": [],
   "source": [
    "eva_df = pd.DataFrame(columns = [\"Model\", \"RMSE\", \"MAE\", \"R2\" ])     "
   ]
  },
  {
   "cell_type": "markdown",
   "metadata": {},
   "source": [
    "### Linear regression"
   ]
  },
  {
   "cell_type": "code",
   "execution_count": 17,
   "metadata": {},
   "outputs": [],
   "source": [
    "# lin_reg = LinearRegression(fit_intercept=True)\n",
    "\n",
    "# # K-fold cross validation with k=5\n",
    "# kfold = KFold(n_splits=5, shuffle=True, random_state=42)\n",
    "# scores = cross_validate(lin_reg, X_trans, y, cv=kfold, scoring = ['neg_mean_squared_error', 'neg_mean_absolute_error','r2'] )\n",
    "\n",
    "# mse = -scores['test_neg_mean_squared_error'].mean()\n",
    "# mae = -scores['test_neg_mean_absolute_error'].mean()\n",
    "# R2 = scores['test_r2'].mean()\n",
    "\n",
    "# eva_df = eva_df.append({\"Model\": \"Linear Regression\", \"RMSE\" : mse**0.5, \"MAE\":mae ,\"R2\" : R2},ignore_index=True)\n",
    "# eva_df"
   ]
  },
  {
   "cell_type": "code",
   "execution_count": 18,
   "metadata": {},
   "outputs": [
    {
     "data": {
      "text/html": [
       "<div>\n",
       "<style scoped>\n",
       "    .dataframe tbody tr th:only-of-type {\n",
       "        vertical-align: middle;\n",
       "    }\n",
       "\n",
       "    .dataframe tbody tr th {\n",
       "        vertical-align: top;\n",
       "    }\n",
       "\n",
       "    .dataframe thead th {\n",
       "        text-align: right;\n",
       "    }\n",
       "</style>\n",
       "<table border=\"1\" class=\"dataframe\">\n",
       "  <thead>\n",
       "    <tr style=\"text-align: right;\">\n",
       "      <th></th>\n",
       "      <th>Model</th>\n",
       "      <th>RMSE</th>\n",
       "      <th>MAE</th>\n",
       "      <th>R2</th>\n",
       "    </tr>\n",
       "  </thead>\n",
       "  <tbody>\n",
       "    <tr>\n",
       "      <th>0</th>\n",
       "      <td>Linear Regression</td>\n",
       "      <td>6418.692939</td>\n",
       "      <td>4005.508958</td>\n",
       "      <td>0.743824</td>\n",
       "    </tr>\n",
       "  </tbody>\n",
       "</table>\n",
       "</div>"
      ],
      "text/plain": [
       "               Model         RMSE          MAE        R2\n",
       "0  Linear Regression  6418.692939  4005.508958  0.743824"
      ]
     },
     "execution_count": 18,
     "metadata": {},
     "output_type": "execute_result"
    }
   ],
   "source": [
    "lin_reg = LinearRegression(fit_intercept=True)\n",
    "lin_reg.fit(X_train_val, y_train_val)\n",
    "\n",
    "y_pred = lin_reg.predict(X_test)\n",
    "\n",
    "mse = mean_squared_error(y_test,y_pred)\n",
    "mae = mean_absolute_error(y_test,y_pred)\n",
    "R2 = r2_score(y_test,y_pred)\n",
    "\n",
    "eva_df = eva_df.append({\"Model\": \"Linear Regression\", \"RMSE\" : mse**0.5, \"MAE\":mae ,\"R2\" : R2},ignore_index=True)\n",
    "eva_df"
   ]
  },
  {
   "cell_type": "code",
   "execution_count": 19,
   "metadata": {},
   "outputs": [
    {
     "data": {
      "text/plain": [
       "['./model/linear_regression.joblib']"
      ]
     },
     "execution_count": 19,
     "metadata": {},
     "output_type": "execute_result"
    }
   ],
   "source": [
    "joblib.dump(lin_reg, './model/linear_regression.joblib')"
   ]
  },
  {
   "cell_type": "markdown",
   "metadata": {},
   "source": [
    "### Lasso"
   ]
  },
  {
   "cell_type": "code",
   "execution_count": 20,
   "metadata": {},
   "outputs": [],
   "source": [
    "# # Create a model instance\n",
    "# lasso_reg = Lasso()\n",
    "\n",
    "# # Define the alpha values to be tested\n",
    "# alphas = [0.001, 0.01, 0.1, 1, 10, 100, 1000]\n",
    "\n",
    "# # GridSearchCV\n",
    "# kfold = KFold(n_splits=5, shuffle=True, random_state=42)\n",
    "# lasso_grid = GridSearchCV(estimator=lasso_reg, param_grid={'alpha': alphas}, cv=kfold, return_train_score=True)\n",
    "\n",
    "# # Fit\n",
    "# lasso_grid.fit(X_trans,y)\n",
    "\n",
    "# # Alpha\n",
    "# alpha = lasso_grid.best_params_['alpha']\n",
    "# alpha = 0.1"
   ]
  },
  {
   "cell_type": "code",
   "execution_count": 21,
   "metadata": {},
   "outputs": [],
   "source": [
    "# alpha = 0.1\n",
    "# # K-fold cross validation with k=10\n",
    "# lasso_reg = Lasso(alpha=alpha)\n",
    "\n",
    "# kfold = KFold(n_splits=5, shuffle=True, random_state=42)\n",
    "# scores = cross_validate(lasso_reg, X_trans, y, cv=kfold, scoring = ['neg_mean_squared_error','neg_mean_absolute_error', 'r2'] )\n",
    "\n",
    "# # Adding metrics to the evaluation dataframe\n",
    "# mse = -scores['test_neg_mean_squared_error'].mean()\n",
    "# mae = -scores['test_neg_mean_absolute_error'].mean()\n",
    "# R2 = scores['test_r2'].mean()\n",
    "\n",
    "# eva_df = eva_df.append({\"Model\": \"LASSO regression\", \"RMSE\" : mse**0.5, \"MAE\":mae, \"R2\" : R2},ignore_index=True)\n",
    "# eva_df"
   ]
  },
  {
   "cell_type": "code",
   "execution_count": 22,
   "metadata": {},
   "outputs": [],
   "source": [
    "lasso_reg = Lasso(fit_intercept=True, alpha = 0.1)\n",
    "lasso_reg.fit(X_train_val, y_train_val)\n",
    "\n",
    "y_pred = lasso_reg.predict(X_test)\n",
    "\n",
    "mse = mean_squared_error(y_test,y_pred)\n",
    "mae = mean_absolute_error(y_test,y_pred)\n",
    "R2 = r2_score(y_test,y_pred)\n",
    "\n",
    "eva_df = eva_df.append({\"Model\": \"LASSO regression\", \"RMSE\" : mse**0.5, \"MAE\":mae ,\"R2\" : R2},ignore_index=True)\n",
    "eva_df"
   ]
  },
  {
   "cell_type": "code",
   "execution_count": null,
   "metadata": {},
   "outputs": [
    {
     "data": {
      "text/plain": [
       "['./model/LASSO.joblib']"
      ]
     },
     "execution_count": 33,
     "metadata": {},
     "output_type": "execute_result"
    }
   ],
   "source": [
    "joblib.dump(lasso_reg, './model/LASSO.joblib')"
   ]
  },
  {
   "cell_type": "markdown",
   "metadata": {},
   "source": [
    "### Ridge"
   ]
  },
  {
   "cell_type": "code",
   "execution_count": null,
   "metadata": {},
   "outputs": [
    {
     "data": {
      "text/plain": [
       "1000"
      ]
     },
     "execution_count": 48,
     "metadata": {},
     "output_type": "execute_result"
    }
   ],
   "source": [
    "# # Create a model instance\n",
    "# ridge_reg = Ridge(fit_intercept=True)\n",
    "\n",
    "# # Define the alpha values to be tested\n",
    "# alphas = [0.001, 0.01, 0.1, 1, 10, 100, 1000]\n",
    "\n",
    "# # GridSearchCV for alpha\n",
    "# kfold = KFold(n_splits=5, shuffle=True, random_state=42)\n",
    "# ridge_grid = GridSearchCV(estimator=ridge_reg, param_grid={'alpha': alphas}, cv=kfold, return_train_score=True)\n",
    "\n",
    "# # Fit\n",
    "# ridge_grid.fit(X_trans,y)\n",
    "\n",
    "# # Best alpha\n",
    "# alpha = ridge_grid.best_params_['alpha']\n",
    "# alpha"
   ]
  },
  {
   "cell_type": "code",
   "execution_count": null,
   "metadata": {},
   "outputs": [],
   "source": [
    "# alpha=1000\n",
    "# # K-fold cross validation with k=10\n",
    "# ridge_reg = Ridge(alpha=alpha)\n",
    "\n",
    "# kfold = KFold(n_splits=5, shuffle=True, random_state=42)\n",
    "# scores = cross_validate(ridge_reg, X_trans, y, cv=kfold, scoring = ['neg_mean_squared_error','neg_mean_absolute_error', 'r2'] )\n",
    "# # Adding metrics to the evaluation dataframe\n",
    "# mse = -scores['test_neg_mean_squared_error'].mean()\n",
    "# mae = -scores['test_neg_mean_absolute_error'].mean()\n",
    "# R2 = scores['test_r2'].mean()\n",
    "\n",
    "# eva_df = eva_df.append({\"Model\": \"Ridge regression\", \"RMSE\" : mse**0.5, \"MAE\":mae, \"R2\" : R2},ignore_index=True)\n",
    "# eva_df"
   ]
  },
  {
   "cell_type": "code",
   "execution_count": null,
   "metadata": {},
   "outputs": [
    {
     "data": {
      "text/html": [
       "<div>\n",
       "<style scoped>\n",
       "    .dataframe tbody tr th:only-of-type {\n",
       "        vertical-align: middle;\n",
       "    }\n",
       "\n",
       "    .dataframe tbody tr th {\n",
       "        vertical-align: top;\n",
       "    }\n",
       "\n",
       "    .dataframe thead th {\n",
       "        text-align: right;\n",
       "    }\n",
       "</style>\n",
       "<table border=\"1\" class=\"dataframe\">\n",
       "  <thead>\n",
       "    <tr style=\"text-align: right;\">\n",
       "      <th></th>\n",
       "      <th>Model</th>\n",
       "      <th>RMSE</th>\n",
       "      <th>MAE</th>\n",
       "      <th>R2</th>\n",
       "    </tr>\n",
       "  </thead>\n",
       "  <tbody>\n",
       "    <tr>\n",
       "      <th>0</th>\n",
       "      <td>Linear Regression</td>\n",
       "      <td>6418.692939</td>\n",
       "      <td>4005.508958</td>\n",
       "      <td>0.743824</td>\n",
       "    </tr>\n",
       "    <tr>\n",
       "      <th>1</th>\n",
       "      <td>LASSO regression</td>\n",
       "      <td>6366.597865</td>\n",
       "      <td>3967.095069</td>\n",
       "      <td>0.747966</td>\n",
       "    </tr>\n",
       "    <tr>\n",
       "      <th>2</th>\n",
       "      <td>Ridge regression</td>\n",
       "      <td>9436.608577</td>\n",
       "      <td>6095.569341</td>\n",
       "      <td>0.446297</td>\n",
       "    </tr>\n",
       "    <tr>\n",
       "      <th>3</th>\n",
       "      <td>Ridge regression</td>\n",
       "      <td>9436.608577</td>\n",
       "      <td>6095.569341</td>\n",
       "      <td>0.446297</td>\n",
       "    </tr>\n",
       "    <tr>\n",
       "      <th>4</th>\n",
       "      <td>Linear regression with PCA</td>\n",
       "      <td>7384.199288</td>\n",
       "      <td>4695.310673</td>\n",
       "      <td>0.660959</td>\n",
       "    </tr>\n",
       "    <tr>\n",
       "      <th>5</th>\n",
       "      <td>Ridge regression</td>\n",
       "      <td>9436.608577</td>\n",
       "      <td>6095.569341</td>\n",
       "      <td>0.446297</td>\n",
       "    </tr>\n",
       "    <tr>\n",
       "      <th>6</th>\n",
       "      <td>Ridge regression</td>\n",
       "      <td>9436.60857</td>\n",
       "      <td>6095.569386</td>\n",
       "      <td>0.446297</td>\n",
       "    </tr>\n",
       "  </tbody>\n",
       "</table>\n",
       "</div>"
      ],
      "text/plain": [
       "                        Model         RMSE          MAE        R2\n",
       "0           Linear Regression  6418.692939  4005.508958  0.743824\n",
       "1            LASSO regression  6366.597865  3967.095069  0.747966\n",
       "2            Ridge regression  9436.608577  6095.569341  0.446297\n",
       "3            Ridge regression  9436.608577  6095.569341  0.446297\n",
       "4  Linear regression with PCA  7384.199288  4695.310673  0.660959\n",
       "5            Ridge regression  9436.608577  6095.569341  0.446297\n",
       "6            Ridge regression   9436.60857  6095.569386  0.446297"
      ]
     },
     "execution_count": 49,
     "metadata": {},
     "output_type": "execute_result"
    }
   ],
   "source": [
    "ridge_reg = Ridge(fit_intercept=True, alpha = 1000)\n",
    "ridge_reg.fit(X_train_val, y_train_val)\n",
    "\n",
    "y_pred = ridge_reg.predict(X_test)\n",
    "\n",
    "mse = mean_squared_error(y_test,y_pred)\n",
    "mae = mean_absolute_error(y_test,y_pred)\n",
    "R2 = r2_score(y_test,y_pred)\n",
    "\n",
    "eva_df = eva_df.append({\"Model\": \"Ridge regression\", \"RMSE\" : mse**0.5, \"MAE\":mae ,\"R2\" : R2},ignore_index=True)\n",
    "eva_df"
   ]
  },
  {
   "cell_type": "code",
   "execution_count": null,
   "metadata": {},
   "outputs": [
    {
     "data": {
      "text/plain": [
       "['./model/ridge_regression.joblib']"
      ]
     },
     "execution_count": 37,
     "metadata": {},
     "output_type": "execute_result"
    }
   ],
   "source": [
    "joblib.dump(ridge_reg, './model/ridge_regression.joblib')"
   ]
  },
  {
   "cell_type": "markdown",
   "metadata": {},
   "source": [
    "### PCA"
   ]
  },
  {
   "cell_type": "code",
   "execution_count": null,
   "metadata": {},
   "outputs": [],
   "source": [
    "svd = TruncatedSVD(n_components=10)\n",
    "svd.fit(X_train_val)\n",
    "X_train_svd = svd.transform(X_train_val)"
   ]
  },
  {
   "cell_type": "code",
   "execution_count": null,
   "metadata": {},
   "outputs": [
    {
     "data": {
      "text/html": [
       "<div>\n",
       "<style scoped>\n",
       "    .dataframe tbody tr th:only-of-type {\n",
       "        vertical-align: middle;\n",
       "    }\n",
       "\n",
       "    .dataframe tbody tr th {\n",
       "        vertical-align: top;\n",
       "    }\n",
       "\n",
       "    .dataframe thead th {\n",
       "        text-align: right;\n",
       "    }\n",
       "</style>\n",
       "<table border=\"1\" class=\"dataframe\">\n",
       "  <thead>\n",
       "    <tr style=\"text-align: right;\">\n",
       "      <th></th>\n",
       "      <th>Model</th>\n",
       "      <th>RMSE</th>\n",
       "      <th>MAE</th>\n",
       "      <th>R2</th>\n",
       "    </tr>\n",
       "  </thead>\n",
       "  <tbody>\n",
       "    <tr>\n",
       "      <th>0</th>\n",
       "      <td>Linear Regression</td>\n",
       "      <td>6418.692939</td>\n",
       "      <td>4005.508958</td>\n",
       "      <td>0.743824</td>\n",
       "    </tr>\n",
       "    <tr>\n",
       "      <th>1</th>\n",
       "      <td>LASSO regression</td>\n",
       "      <td>6366.597865</td>\n",
       "      <td>3967.095069</td>\n",
       "      <td>0.747966</td>\n",
       "    </tr>\n",
       "    <tr>\n",
       "      <th>2</th>\n",
       "      <td>Ridge regression</td>\n",
       "      <td>9436.608577</td>\n",
       "      <td>6095.569341</td>\n",
       "      <td>0.446297</td>\n",
       "    </tr>\n",
       "    <tr>\n",
       "      <th>3</th>\n",
       "      <td>Ridge regression</td>\n",
       "      <td>9436.608577</td>\n",
       "      <td>6095.569341</td>\n",
       "      <td>0.446297</td>\n",
       "    </tr>\n",
       "    <tr>\n",
       "      <th>4</th>\n",
       "      <td>Linear regression with PCA</td>\n",
       "      <td>7384.199288</td>\n",
       "      <td>4695.310673</td>\n",
       "      <td>0.660959</td>\n",
       "    </tr>\n",
       "  </tbody>\n",
       "</table>\n",
       "</div>"
      ],
      "text/plain": [
       "                        Model         RMSE          MAE        R2\n",
       "0           Linear Regression  6418.692939  4005.508958  0.743824\n",
       "1            LASSO regression  6366.597865  3967.095069  0.747966\n",
       "2            Ridge regression  9436.608577  6095.569341  0.446297\n",
       "3            Ridge regression  9436.608577  6095.569341  0.446297\n",
       "4  Linear regression with PCA  7384.199288  4695.310673  0.660959"
      ]
     },
     "execution_count": 43,
     "metadata": {},
     "output_type": "execute_result"
    }
   ],
   "source": [
    "pca_lin_reg = LinearRegression(fit_intercept=True)\n",
    "pca_lin_reg.fit(X_train_svd, y_train_val)\n",
    "\n",
    "X_test_pca = svd.transform(X_test)\n",
    "y_pred = pca_lin_reg.predict(X_test_pca)\n",
    "\n",
    "mse = mean_squared_error(y_test,y_pred)\n",
    "mae = mean_absolute_error(y_test,y_pred)\n",
    "R2 = r2_score(y_test,y_pred)\n",
    "\n",
    "eva_df = eva_df.append({\"Model\": \"Linear regression with SVD\", \"RMSE\" : mse**0.5, \"MAE\":mae ,\"R2\" : R2},ignore_index=True)\n",
    "eva_df"
   ]
  },
  {
   "cell_type": "code",
   "execution_count": null,
   "metadata": {},
   "outputs": [
    {
     "data": {
      "text/plain": [
       "['./model/svd_linear_regression.joblib']"
      ]
     },
     "execution_count": 45,
     "metadata": {},
     "output_type": "execute_result"
    }
   ],
   "source": [
    "joblib.dump(pca_lin_reg, './model/svd_linear_regression.joblib')"
   ]
  }
 ],
 "metadata": {
  "kernelspec": {
   "display_name": "base",
   "language": "python",
   "name": "python3"
  },
  "language_info": {
   "codemirror_mode": {
    "name": "ipython",
    "version": 3
   },
   "file_extension": ".py",
   "mimetype": "text/x-python",
   "name": "python",
   "nbconvert_exporter": "python",
   "pygments_lexer": "ipython3",
   "version": "3.9.12"
  }
 },
 "nbformat": 4,
 "nbformat_minor": 2
}
