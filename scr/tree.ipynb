{
 "cells": [
  {
   "cell_type": "code",
   "execution_count": 12,
   "metadata": {},
   "outputs": [],
   "source": [
    "import pandas as pd\n",
    "import numpy as np\n",
    "\n",
    "import matplotlib.pyplot as plt\n",
    "import seaborn as sns\n",
    "\n",
    "from sklearn.impute import  MissingIndicator\n",
    "from sklearn.base import BaseEstimator, TransformerMixin\n",
    "from sklearn.compose import ColumnTransformer\n",
    "from sklearn.preprocessing import OneHotEncoder\n",
    "from sklearn.ensemble import RandomForestRegressor\n",
    "from sklearn.tree import DecisionTreeRegressor\n",
    "from sklearn.model_selection import train_test_split, RandomizedSearchCV\n",
    "from sklearn.metrics import r2_score, mean_squared_error, mean_absolute_error\n",
    "\n",
    "import joblib\n",
    "\n",
    "import os\n",
    "import warnings\n",
    "\n",
    "warnings.filterwarnings(\"ignore\")"
   ]
  },
  {
   "cell_type": "markdown",
   "metadata": {},
   "source": [
    "### Import data"
   ]
  },
  {
   "cell_type": "code",
   "execution_count": 13,
   "metadata": {},
   "outputs": [
    {
     "data": {
      "text/html": [
       "<div>\n",
       "<style scoped>\n",
       "    .dataframe tbody tr th:only-of-type {\n",
       "        vertical-align: middle;\n",
       "    }\n",
       "\n",
       "    .dataframe tbody tr th {\n",
       "        vertical-align: top;\n",
       "    }\n",
       "\n",
       "    .dataframe thead th {\n",
       "        text-align: right;\n",
       "    }\n",
       "</style>\n",
       "<table border=\"1\" class=\"dataframe\">\n",
       "  <thead>\n",
       "    <tr style=\"text-align: right;\">\n",
       "      <th></th>\n",
       "      <th>maker</th>\n",
       "      <th>model</th>\n",
       "      <th>mileage</th>\n",
       "      <th>manufacture_year</th>\n",
       "      <th>engine_displacement</th>\n",
       "      <th>engine_power</th>\n",
       "      <th>body_type</th>\n",
       "      <th>stk_year</th>\n",
       "      <th>transmission</th>\n",
       "      <th>door_count</th>\n",
       "      <th>seat_count</th>\n",
       "      <th>fuel_type</th>\n",
       "      <th>date_created</th>\n",
       "      <th>date_last_seen</th>\n",
       "      <th>price_eur</th>\n",
       "    </tr>\n",
       "  </thead>\n",
       "  <tbody>\n",
       "    <tr>\n",
       "      <th>0</th>\n",
       "      <td>ford</td>\n",
       "      <td>galaxy</td>\n",
       "      <td>151000.0</td>\n",
       "      <td>2011.0</td>\n",
       "      <td>2000.0</td>\n",
       "      <td>138.12506</td>\n",
       "      <td>compact</td>\n",
       "      <td>NaN</td>\n",
       "      <td>man</td>\n",
       "      <td>5.0</td>\n",
       "      <td>7.0</td>\n",
       "      <td>diesel</td>\n",
       "      <td>2015-11-14 18:10:06.838319+00</td>\n",
       "      <td>2016-01-27 20:40:15.46361+00</td>\n",
       "      <td>10584.75</td>\n",
       "    </tr>\n",
       "    <tr>\n",
       "      <th>1</th>\n",
       "      <td>skoda</td>\n",
       "      <td>octavia</td>\n",
       "      <td>143476.0</td>\n",
       "      <td>2012.0</td>\n",
       "      <td>2000.0</td>\n",
       "      <td>108.62262</td>\n",
       "      <td>compact</td>\n",
       "      <td>NaN</td>\n",
       "      <td>man</td>\n",
       "      <td>5.0</td>\n",
       "      <td>5.0</td>\n",
       "      <td>diesel</td>\n",
       "      <td>2015-11-14 18:10:06.853411+00</td>\n",
       "      <td>2016-01-27 20:40:15.46361+00</td>\n",
       "      <td>8882.31</td>\n",
       "    </tr>\n",
       "    <tr>\n",
       "      <th>2</th>\n",
       "      <td>bmw</td>\n",
       "      <td>NaN</td>\n",
       "      <td>97676.0</td>\n",
       "      <td>2010.0</td>\n",
       "      <td>1995.0</td>\n",
       "      <td>113.98670</td>\n",
       "      <td>compact</td>\n",
       "      <td>NaN</td>\n",
       "      <td>man</td>\n",
       "      <td>5.0</td>\n",
       "      <td>5.0</td>\n",
       "      <td>diesel</td>\n",
       "      <td>2015-11-14 18:10:06.861792+00</td>\n",
       "      <td>2016-01-27 20:40:15.46361+00</td>\n",
       "      <td>12065.06</td>\n",
       "    </tr>\n",
       "    <tr>\n",
       "      <th>3</th>\n",
       "      <td>skoda</td>\n",
       "      <td>fabia</td>\n",
       "      <td>111970.0</td>\n",
       "      <td>2004.0</td>\n",
       "      <td>1200.0</td>\n",
       "      <td>84.48426</td>\n",
       "      <td>compact</td>\n",
       "      <td>NaN</td>\n",
       "      <td>man</td>\n",
       "      <td>5.0</td>\n",
       "      <td>5.0</td>\n",
       "      <td>gasoline</td>\n",
       "      <td>2015-11-14 18:10:06.872313+00</td>\n",
       "      <td>2016-01-27 20:40:15.46361+00</td>\n",
       "      <td>2960.77</td>\n",
       "    </tr>\n",
       "    <tr>\n",
       "      <th>4</th>\n",
       "      <td>skoda</td>\n",
       "      <td>fabia</td>\n",
       "      <td>128886.0</td>\n",
       "      <td>2004.0</td>\n",
       "      <td>1200.0</td>\n",
       "      <td>84.48426</td>\n",
       "      <td>compact</td>\n",
       "      <td>NaN</td>\n",
       "      <td>man</td>\n",
       "      <td>5.0</td>\n",
       "      <td>5.0</td>\n",
       "      <td>gasoline</td>\n",
       "      <td>2015-11-14 18:10:06.880335+00</td>\n",
       "      <td>2016-01-27 20:40:15.46361+00</td>\n",
       "      <td>2738.71</td>\n",
       "    </tr>\n",
       "  </tbody>\n",
       "</table>\n",
       "</div>"
      ],
      "text/plain": [
       "   maker    model   mileage  manufacture_year  engine_displacement  \\\n",
       "0   ford   galaxy  151000.0            2011.0               2000.0   \n",
       "1  skoda  octavia  143476.0            2012.0               2000.0   \n",
       "2    bmw      NaN   97676.0            2010.0               1995.0   \n",
       "3  skoda    fabia  111970.0            2004.0               1200.0   \n",
       "4  skoda    fabia  128886.0            2004.0               1200.0   \n",
       "\n",
       "   engine_power body_type  stk_year transmission  door_count  seat_count  \\\n",
       "0     138.12506   compact       NaN          man         5.0         7.0   \n",
       "1     108.62262   compact       NaN          man         5.0         5.0   \n",
       "2     113.98670   compact       NaN          man         5.0         5.0   \n",
       "3      84.48426   compact       NaN          man         5.0         5.0   \n",
       "4      84.48426   compact       NaN          man         5.0         5.0   \n",
       "\n",
       "  fuel_type                   date_created                date_last_seen  \\\n",
       "0    diesel  2015-11-14 18:10:06.838319+00  2016-01-27 20:40:15.46361+00   \n",
       "1    diesel  2015-11-14 18:10:06.853411+00  2016-01-27 20:40:15.46361+00   \n",
       "2    diesel  2015-11-14 18:10:06.861792+00  2016-01-27 20:40:15.46361+00   \n",
       "3  gasoline  2015-11-14 18:10:06.872313+00  2016-01-27 20:40:15.46361+00   \n",
       "4  gasoline  2015-11-14 18:10:06.880335+00  2016-01-27 20:40:15.46361+00   \n",
       "\n",
       "   price_eur  \n",
       "0   10584.75  \n",
       "1    8882.31  \n",
       "2   12065.06  \n",
       "3    2960.77  \n",
       "4    2738.71  "
      ]
     },
     "execution_count": 13,
     "metadata": {},
     "output_type": "execute_result"
    }
   ],
   "source": [
    "link = r\"../data/clean_df.csv\"\n",
    "df = pd.read_csv(link)\n",
    "\n",
    "df.head()"
   ]
  },
  {
   "cell_type": "markdown",
   "metadata": {},
   "source": [
    "### Create man_period, stk_period"
   ]
  },
  {
   "cell_type": "code",
   "execution_count": 14,
   "metadata": {},
   "outputs": [],
   "source": [
    "df['date_created'] = pd.to_datetime(df['date_created'])\n",
    "df['year_created'] = df['date_created'].dt.year\n",
    "\n",
    "df['man_period'] = df['year_created'] - df['manufacture_year']\n",
    "df['stk_period'] = df['year_created'] - df['stk_year']"
   ]
  },
  {
   "cell_type": "markdown",
   "metadata": {},
   "source": [
    "### Convert columns"
   ]
  },
  {
   "cell_type": "code",
   "execution_count": 15,
   "metadata": {},
   "outputs": [],
   "source": [
    "numerical_columns = ['engine_power', 'mileage', 'engine_displacement']\n",
    "conv_to_string_columns = ['door_count', 'seat_count', 'man_period', 'stk_period']\n",
    "categorical_columns = ['maker', 'model', 'body_type', 'transmission', 'fuel_type']+conv_to_string_columns"
   ]
  },
  {
   "cell_type": "code",
   "execution_count": 16,
   "metadata": {},
   "outputs": [],
   "source": [
    "def datatype_converter(x):\n",
    "    for i in conv_to_string_columns:\n",
    "        x[i] = x[i].apply(str)\n",
    "    \n",
    "    for i in categorical_columns:\n",
    "        x[i] = x[i].astype('category')\n",
    "    \n",
    "    x[numerical_columns] = x[numerical_columns].apply(pd.to_numeric, downcast=\"float\")\n",
    "    x['price_eur'] = x['price_eur'].apply(pd.to_numeric, downcast='float')\n",
    "\n",
    "    return x\n",
    "\n",
    "df[categorical_columns] = df[categorical_columns].fillna('unknown')\n",
    "df = datatype_converter(df)"
   ]
  },
  {
   "cell_type": "code",
   "execution_count": 17,
   "metadata": {},
   "outputs": [],
   "source": [
    "class Indicator(BaseEstimator, TransformerMixin):\n",
    "    def __init__(self):\n",
    "        pass\n",
    "\n",
    "    def fit(self, X, y=None):\n",
    "        return self\n",
    "    \n",
    "    def transform(self, X, y=None):\n",
    "        nonnull_X = np.nan_to_num(X.astype(float), nan=0).astype(int)\n",
    "\n",
    "        missing_indicator = MissingIndicator()\n",
    "        indicator_values = missing_indicator.fit_transform(X).astype(int)\n",
    "\n",
    "        return np.c_[nonnull_X, indicator_values]"
   ]
  },
  {
   "cell_type": "code",
   "execution_count": 18,
   "metadata": {},
   "outputs": [],
   "source": [
    "one_hot_encoder = OneHotEncoder(handle_unknown='ignore')\n",
    "indicator = Indicator()\n",
    "\n",
    "full_pipeline = ColumnTransformer([\n",
    "    (\"num\", indicator, numerical_columns),\n",
    "    (\"cat\", one_hot_encoder , categorical_columns),\n",
    "])"
   ]
  },
  {
   "cell_type": "markdown",
   "metadata": {},
   "source": [
    "### Split into train, val, test sets"
   ]
  },
  {
   "cell_type": "code",
   "execution_count": 19,
   "metadata": {},
   "outputs": [],
   "source": [
    "X = df.drop('price_eur', axis=1)\n",
    "y = df['price_eur']\n",
    "\n",
    "full_pipeline.fit(X)\n",
    "X_trans = full_pipeline.transform(X)"
   ]
  },
  {
   "cell_type": "code",
   "execution_count": 20,
   "metadata": {},
   "outputs": [],
   "source": [
    "X_train, X_test, y_train, y_test = train_test_split(X_trans, y, test_size=0.2, random_state=42)"
   ]
  },
  {
   "cell_type": "markdown",
   "metadata": {},
   "source": [
    "## Model"
   ]
  },
  {
   "cell_type": "code",
   "execution_count": 31,
   "metadata": {},
   "outputs": [],
   "source": [
    "eva_df = pd.DataFrame(columns = [\"Model\", \"RMSE\", \"MAE\", \"R2\" ])     "
   ]
  },
  {
   "cell_type": "markdown",
   "metadata": {},
   "source": [
    "### Decision tree"
   ]
  },
  {
   "cell_type": "code",
   "execution_count": 29,
   "metadata": {},
   "outputs": [],
   "source": [
    "dt_reg = DecisionTreeRegressor(random_state=42)\n",
    "\n",
    "dt_param_grid = {\n",
    "    'splitter': ['best', 'random'],     # Strategy for choosing splits\n",
    "    'max_depth': [10, 20, 30],     # Maximum depth of the tree\n",
    "    'min_weight_fraction_leaf': [0.01, 0.05, 0.1],      # Minimum number of samples required to be at a leaf node\n",
    "    'max_features': ['auto', 'sqrt', 'log2']  # Number of features to consider for the best split\n",
    "}\n",
    "\n",
    "dt_rs = RandomizedSearchCV(\n",
    "    estimator=dt_reg,\n",
    "    param_distributions=dt_param_grid,\n",
    "    scoring = 'neg_mean_squared_error',\n",
    "    n_iter=10,  # Number of parameter candidate settings to sample\n",
    "    verbose=2,  # The higher this is, the more messages are outputed\n",
    "    random_state=42,\n",
    "    refit = True,\n",
    "    return_train_score=True\n",
    ")"
   ]
  },
  {
   "cell_type": "code",
   "execution_count": 30,
   "metadata": {},
   "outputs": [
    {
     "name": "stdout",
     "output_type": "stream",
     "text": [
      "Fitting 5 folds for each of 10 candidates, totalling 50 fits\n",
      "[CV] END max_depth=20, max_features=auto, min_weight_fraction_leaf=0.01, splitter=random; total time=  10.2s\n",
      "[CV] END max_depth=20, max_features=auto, min_weight_fraction_leaf=0.01, splitter=random; total time=  10.4s\n",
      "[CV] END max_depth=20, max_features=auto, min_weight_fraction_leaf=0.01, splitter=random; total time=  10.5s\n",
      "[CV] END max_depth=20, max_features=auto, min_weight_fraction_leaf=0.01, splitter=random; total time=  10.7s\n",
      "[CV] END max_depth=20, max_features=auto, min_weight_fraction_leaf=0.01, splitter=random; total time=  10.7s\n",
      "[CV] END max_depth=30, max_features=log2, min_weight_fraction_leaf=0.01, splitter=random; total time=   0.3s\n",
      "[CV] END max_depth=30, max_features=log2, min_weight_fraction_leaf=0.01, splitter=random; total time=   0.3s\n",
      "[CV] END max_depth=30, max_features=log2, min_weight_fraction_leaf=0.01, splitter=random; total time=   0.3s\n",
      "[CV] END max_depth=30, max_features=log2, min_weight_fraction_leaf=0.01, splitter=random; total time=   0.6s\n",
      "[CV] END max_depth=30, max_features=log2, min_weight_fraction_leaf=0.01, splitter=random; total time=   0.3s\n",
      "[CV] END max_depth=30, max_features=log2, min_weight_fraction_leaf=0.01, splitter=best; total time=   0.4s\n",
      "[CV] END max_depth=30, max_features=log2, min_weight_fraction_leaf=0.01, splitter=best; total time=   0.4s\n",
      "[CV] END max_depth=30, max_features=log2, min_weight_fraction_leaf=0.01, splitter=best; total time=   0.4s\n",
      "[CV] END max_depth=30, max_features=log2, min_weight_fraction_leaf=0.01, splitter=best; total time=   0.4s\n",
      "[CV] END max_depth=30, max_features=log2, min_weight_fraction_leaf=0.01, splitter=best; total time=   0.4s\n",
      "[CV] END max_depth=10, max_features=log2, min_weight_fraction_leaf=0.01, splitter=best; total time=   0.4s\n",
      "[CV] END max_depth=10, max_features=log2, min_weight_fraction_leaf=0.01, splitter=best; total time=   0.4s\n",
      "[CV] END max_depth=10, max_features=log2, min_weight_fraction_leaf=0.01, splitter=best; total time=   0.3s\n",
      "[CV] END max_depth=10, max_features=log2, min_weight_fraction_leaf=0.01, splitter=best; total time=   0.3s\n",
      "[CV] END max_depth=10, max_features=log2, min_weight_fraction_leaf=0.01, splitter=best; total time=   0.3s\n",
      "[CV] END max_depth=30, max_features=sqrt, min_weight_fraction_leaf=0.05, splitter=best; total time=   0.8s\n",
      "[CV] END max_depth=30, max_features=sqrt, min_weight_fraction_leaf=0.05, splitter=best; total time=   0.5s\n",
      "[CV] END max_depth=30, max_features=sqrt, min_weight_fraction_leaf=0.05, splitter=best; total time=   0.4s\n",
      "[CV] END max_depth=30, max_features=sqrt, min_weight_fraction_leaf=0.05, splitter=best; total time=   0.6s\n",
      "[CV] END max_depth=30, max_features=sqrt, min_weight_fraction_leaf=0.05, splitter=best; total time=   0.7s\n",
      "[CV] END max_depth=10, max_features=auto, min_weight_fraction_leaf=0.1, splitter=random; total time=   2.5s\n",
      "[CV] END max_depth=10, max_features=auto, min_weight_fraction_leaf=0.1, splitter=random; total time=   2.5s\n",
      "[CV] END max_depth=10, max_features=auto, min_weight_fraction_leaf=0.1, splitter=random; total time=   2.3s\n",
      "[CV] END max_depth=10, max_features=auto, min_weight_fraction_leaf=0.1, splitter=random; total time=   2.3s\n",
      "[CV] END max_depth=10, max_features=auto, min_weight_fraction_leaf=0.1, splitter=random; total time=   2.2s\n",
      "[CV] END max_depth=10, max_features=log2, min_weight_fraction_leaf=0.1, splitter=random; total time=   0.2s\n",
      "[CV] END max_depth=10, max_features=log2, min_weight_fraction_leaf=0.1, splitter=random; total time=   0.2s\n",
      "[CV] END max_depth=10, max_features=log2, min_weight_fraction_leaf=0.1, splitter=random; total time=   0.2s\n",
      "[CV] END max_depth=10, max_features=log2, min_weight_fraction_leaf=0.1, splitter=random; total time=   0.2s\n",
      "[CV] END max_depth=10, max_features=log2, min_weight_fraction_leaf=0.1, splitter=random; total time=   0.2s\n",
      "[CV] END max_depth=30, max_features=log2, min_weight_fraction_leaf=0.1, splitter=best; total time=   0.2s\n",
      "[CV] END max_depth=30, max_features=log2, min_weight_fraction_leaf=0.1, splitter=best; total time=   0.2s\n",
      "[CV] END max_depth=30, max_features=log2, min_weight_fraction_leaf=0.1, splitter=best; total time=   0.2s\n",
      "[CV] END max_depth=30, max_features=log2, min_weight_fraction_leaf=0.1, splitter=best; total time=   0.2s\n",
      "[CV] END max_depth=30, max_features=log2, min_weight_fraction_leaf=0.1, splitter=best; total time=   0.2s\n",
      "[CV] END max_depth=10, max_features=auto, min_weight_fraction_leaf=0.05, splitter=random; total time=   3.5s\n",
      "[CV] END max_depth=10, max_features=auto, min_weight_fraction_leaf=0.05, splitter=random; total time=   3.5s\n",
      "[CV] END max_depth=10, max_features=auto, min_weight_fraction_leaf=0.05, splitter=random; total time=   4.1s\n",
      "[CV] END max_depth=10, max_features=auto, min_weight_fraction_leaf=0.05, splitter=random; total time=   4.6s\n",
      "[CV] END max_depth=10, max_features=auto, min_weight_fraction_leaf=0.05, splitter=random; total time=   4.5s\n",
      "[CV] END max_depth=20, max_features=log2, min_weight_fraction_leaf=0.05, splitter=best; total time=   0.4s\n",
      "[CV] END max_depth=20, max_features=log2, min_weight_fraction_leaf=0.05, splitter=best; total time=   0.4s\n",
      "[CV] END max_depth=20, max_features=log2, min_weight_fraction_leaf=0.05, splitter=best; total time=   0.4s\n",
      "[CV] END max_depth=20, max_features=log2, min_weight_fraction_leaf=0.05, splitter=best; total time=   0.3s\n",
      "[CV] END max_depth=20, max_features=log2, min_weight_fraction_leaf=0.05, splitter=best; total time=   0.3s\n"
     ]
    },
    {
     "data": {
      "text/plain": [
       "RandomizedSearchCV(estimator=DecisionTreeRegressor(random_state=42),\n",
       "                   param_distributions={'max_depth': [10, 20, 30],\n",
       "                                        'max_features': ['auto', 'sqrt',\n",
       "                                                         'log2'],\n",
       "                                        'min_weight_fraction_leaf': [0.01, 0.05,\n",
       "                                                                     0.1],\n",
       "                                        'splitter': ['best', 'random']},\n",
       "                   random_state=42, return_train_score=True,\n",
       "                   scoring='neg_mean_squared_error', verbose=2)"
      ]
     },
     "execution_count": 30,
     "metadata": {},
     "output_type": "execute_result"
    }
   ],
   "source": [
    "# Fit\n",
    "dt_rs.fit(X_train, y_train)"
   ]
  },
  {
   "cell_type": "code",
   "execution_count": 53,
   "metadata": {},
   "outputs": [
    {
     "data": {
      "text/plain": [
       "{'splitter': 'random',\n",
       " 'min_weight_fraction_leaf': 0.01,\n",
       " 'max_features': 'auto',\n",
       " 'max_depth': 20}"
      ]
     },
     "execution_count": 53,
     "metadata": {},
     "output_type": "execute_result"
    }
   ],
   "source": [
    "dt_rs.best_params_"
   ]
  },
  {
   "cell_type": "code",
   "execution_count": 35,
   "metadata": {},
   "outputs": [
    {
     "data": {
      "text/html": [
       "<div>\n",
       "<style scoped>\n",
       "    .dataframe tbody tr th:only-of-type {\n",
       "        vertical-align: middle;\n",
       "    }\n",
       "\n",
       "    .dataframe tbody tr th {\n",
       "        vertical-align: top;\n",
       "    }\n",
       "\n",
       "    .dataframe thead th {\n",
       "        text-align: right;\n",
       "    }\n",
       "</style>\n",
       "<table border=\"1\" class=\"dataframe\">\n",
       "  <thead>\n",
       "    <tr style=\"text-align: right;\">\n",
       "      <th></th>\n",
       "      <th>Model</th>\n",
       "      <th>RMSE</th>\n",
       "      <th>MAE</th>\n",
       "      <th>R2</th>\n",
       "    </tr>\n",
       "  </thead>\n",
       "  <tbody>\n",
       "    <tr>\n",
       "      <th>0</th>\n",
       "      <td>Linear regression with SVD</td>\n",
       "      <td>7751.070399</td>\n",
       "      <td>4893.32651</td>\n",
       "      <td>0.626433</td>\n",
       "    </tr>\n",
       "  </tbody>\n",
       "</table>\n",
       "</div>"
      ],
      "text/plain": [
       "                        Model         RMSE         MAE        R2\n",
       "0  Linear regression with SVD  7751.070399  4893.32651  0.626433"
      ]
     },
     "execution_count": 35,
     "metadata": {},
     "output_type": "execute_result"
    }
   ],
   "source": [
    "best_dt_reg = dt_rs.best_estimator_\n",
    "y_pred = best_dt_reg.predict(X_test)\n",
    "\n",
    "mse = mean_squared_error(y_test,y_pred)\n",
    "mae = mean_absolute_error(y_test,y_pred)\n",
    "R2 = r2_score(y_test,y_pred)\n",
    "\n",
    "eva_df = eva_df.append({\"Model\": \"Decision Tree\", \"RMSE\" : mse**0.5, \"MAE\":mae ,\"R2\" : R2},ignore_index=True)\n",
    "eva_df"
   ]
  },
  {
   "cell_type": "code",
   "execution_count": 37,
   "metadata": {},
   "outputs": [
    {
     "data": {
      "text/plain": [
       "['./model/decision_tree.joblib']"
      ]
     },
     "execution_count": 37,
     "metadata": {},
     "output_type": "execute_result"
    }
   ],
   "source": [
    "joblib.dump(best_dt_reg, './model/decision_tree.joblib')"
   ]
  },
  {
   "cell_type": "markdown",
   "metadata": {},
   "source": [
    "### Random forest"
   ]
  },
  {
   "cell_type": "code",
   "execution_count": 27,
   "metadata": {},
   "outputs": [],
   "source": [
    "rf_reg = RandomForestRegressor()\n",
    "\n",
    "rf_param_grid = {\n",
    "    \"n_estimators\": [10, 15, 20, 40],\n",
    "    \"max_depth\": [10, 15, 20, 25],\n",
    "    'min_samples_split': [5,7,10, 12, 15],\n",
    "    'min_samples_leaf': [5,7,10, 12, 15],\n",
    "    \"ccp_alpha\": [0, 0.1, 0.01, 0.001],\n",
    "    \"max_samples\": [0.1, 0.2]\n",
    "}\n",
    "\n",
    "rf_rs = RandomizedSearchCV(\n",
    "    estimator=rf_reg,\n",
    "    param_distributions=rf_param_grid,\n",
    "    scoring = 'neg_mean_squared_error',\n",
    "    n_iter=30,  # Number of parameter candidate settings to sample\n",
    "    verbose=2,  # The higher this is, the more messages are outputed\n",
    "    random_state=42,\n",
    "    refit = True,\n",
    "    return_train_score=True\n",
    ")"
   ]
  },
  {
   "cell_type": "code",
   "execution_count": 28,
   "metadata": {},
   "outputs": [
    {
     "name": "stdout",
     "output_type": "stream",
     "text": [
      "Fitting 5 folds for each of 30 candidates, totalling 150 fits\n",
      "[CV] END ccp_alpha=0.001, max_depth=25, max_samples=0.2, min_samples_leaf=12, min_samples_split=12, n_estimators=20; total time=  11.1s\n",
      "[CV] END ccp_alpha=0.001, max_depth=25, max_samples=0.2, min_samples_leaf=12, min_samples_split=12, n_estimators=20; total time=  11.3s\n",
      "[CV] END ccp_alpha=0.001, max_depth=25, max_samples=0.2, min_samples_leaf=12, min_samples_split=12, n_estimators=20; total time=  10.5s\n",
      "[CV] END ccp_alpha=0.001, max_depth=25, max_samples=0.2, min_samples_leaf=12, min_samples_split=12, n_estimators=20; total time=  10.5s\n",
      "[CV] END ccp_alpha=0.001, max_depth=25, max_samples=0.2, min_samples_leaf=12, min_samples_split=12, n_estimators=20; total time=  10.6s\n",
      "[CV] END ccp_alpha=0.1, max_depth=10, max_samples=0.1, min_samples_leaf=12, min_samples_split=5, n_estimators=10; total time=   1.6s\n",
      "[CV] END ccp_alpha=0.1, max_depth=10, max_samples=0.1, min_samples_leaf=12, min_samples_split=5, n_estimators=10; total time=   1.6s\n",
      "[CV] END ccp_alpha=0.1, max_depth=10, max_samples=0.1, min_samples_leaf=12, min_samples_split=5, n_estimators=10; total time=   1.6s\n",
      "[CV] END ccp_alpha=0.1, max_depth=10, max_samples=0.1, min_samples_leaf=12, min_samples_split=5, n_estimators=10; total time=   1.6s\n",
      "[CV] END ccp_alpha=0.1, max_depth=10, max_samples=0.1, min_samples_leaf=12, min_samples_split=5, n_estimators=10; total time=   1.6s\n",
      "[CV] END ccp_alpha=0.1, max_depth=20, max_samples=0.1, min_samples_leaf=15, min_samples_split=12, n_estimators=20; total time=   4.2s\n",
      "[CV] END ccp_alpha=0.1, max_depth=20, max_samples=0.1, min_samples_leaf=15, min_samples_split=12, n_estimators=20; total time=   4.1s\n",
      "[CV] END ccp_alpha=0.1, max_depth=20, max_samples=0.1, min_samples_leaf=15, min_samples_split=12, n_estimators=20; total time=   4.2s\n",
      "[CV] END ccp_alpha=0.1, max_depth=20, max_samples=0.1, min_samples_leaf=15, min_samples_split=12, n_estimators=20; total time=   3.9s\n",
      "[CV] END ccp_alpha=0.1, max_depth=20, max_samples=0.1, min_samples_leaf=15, min_samples_split=12, n_estimators=20; total time=   3.9s\n",
      "[CV] END ccp_alpha=0.1, max_depth=15, max_samples=0.2, min_samples_leaf=7, min_samples_split=10, n_estimators=20; total time=  10.7s\n",
      "[CV] END ccp_alpha=0.1, max_depth=15, max_samples=0.2, min_samples_leaf=7, min_samples_split=10, n_estimators=20; total time=  10.7s\n",
      "[CV] END ccp_alpha=0.1, max_depth=15, max_samples=0.2, min_samples_leaf=7, min_samples_split=10, n_estimators=20; total time=  10.6s\n",
      "[CV] END ccp_alpha=0.1, max_depth=15, max_samples=0.2, min_samples_leaf=7, min_samples_split=10, n_estimators=20; total time=  10.8s\n",
      "[CV] END ccp_alpha=0.1, max_depth=15, max_samples=0.2, min_samples_leaf=7, min_samples_split=10, n_estimators=20; total time=  10.6s\n",
      "[CV] END ccp_alpha=0.1, max_depth=15, max_samples=0.1, min_samples_leaf=15, min_samples_split=12, n_estimators=40; total time=   7.7s\n",
      "[CV] END ccp_alpha=0.1, max_depth=15, max_samples=0.1, min_samples_leaf=15, min_samples_split=12, n_estimators=40; total time=   7.6s\n",
      "[CV] END ccp_alpha=0.1, max_depth=15, max_samples=0.1, min_samples_leaf=15, min_samples_split=12, n_estimators=40; total time=   7.7s\n",
      "[CV] END ccp_alpha=0.1, max_depth=15, max_samples=0.1, min_samples_leaf=15, min_samples_split=12, n_estimators=40; total time=   7.8s\n",
      "[CV] END ccp_alpha=0.1, max_depth=15, max_samples=0.1, min_samples_leaf=15, min_samples_split=12, n_estimators=40; total time=   7.8s\n",
      "[CV] END ccp_alpha=0.001, max_depth=25, max_samples=0.1, min_samples_leaf=15, min_samples_split=12, n_estimators=10; total time=   1.9s\n",
      "[CV] END ccp_alpha=0.001, max_depth=25, max_samples=0.1, min_samples_leaf=15, min_samples_split=12, n_estimators=10; total time=   1.9s\n",
      "[CV] END ccp_alpha=0.001, max_depth=25, max_samples=0.1, min_samples_leaf=15, min_samples_split=12, n_estimators=10; total time=   1.9s\n",
      "[CV] END ccp_alpha=0.001, max_depth=25, max_samples=0.1, min_samples_leaf=15, min_samples_split=12, n_estimators=10; total time=   1.9s\n",
      "[CV] END ccp_alpha=0.001, max_depth=25, max_samples=0.1, min_samples_leaf=15, min_samples_split=12, n_estimators=10; total time=   1.9s\n",
      "[CV] END ccp_alpha=0.01, max_depth=10, max_samples=0.1, min_samples_leaf=7, min_samples_split=15, n_estimators=20; total time=   3.3s\n",
      "[CV] END ccp_alpha=0.01, max_depth=10, max_samples=0.1, min_samples_leaf=7, min_samples_split=15, n_estimators=20; total time=   3.3s\n",
      "[CV] END ccp_alpha=0.01, max_depth=10, max_samples=0.1, min_samples_leaf=7, min_samples_split=15, n_estimators=20; total time=   3.3s\n",
      "[CV] END ccp_alpha=0.01, max_depth=10, max_samples=0.1, min_samples_leaf=7, min_samples_split=15, n_estimators=20; total time=   3.3s\n",
      "[CV] END ccp_alpha=0.01, max_depth=10, max_samples=0.1, min_samples_leaf=7, min_samples_split=15, n_estimators=20; total time=   3.3s\n",
      "[CV] END ccp_alpha=0.01, max_depth=20, max_samples=0.2, min_samples_leaf=12, min_samples_split=10, n_estimators=15; total time=   7.4s\n",
      "[CV] END ccp_alpha=0.01, max_depth=20, max_samples=0.2, min_samples_leaf=12, min_samples_split=10, n_estimators=15; total time=   7.4s\n",
      "[CV] END ccp_alpha=0.01, max_depth=20, max_samples=0.2, min_samples_leaf=12, min_samples_split=10, n_estimators=15; total time=   7.4s\n",
      "[CV] END ccp_alpha=0.01, max_depth=20, max_samples=0.2, min_samples_leaf=12, min_samples_split=10, n_estimators=15; total time=   7.5s\n",
      "[CV] END ccp_alpha=0.01, max_depth=20, max_samples=0.2, min_samples_leaf=12, min_samples_split=10, n_estimators=15; total time=   7.4s\n",
      "[CV] END ccp_alpha=0, max_depth=20, max_samples=0.1, min_samples_leaf=12, min_samples_split=7, n_estimators=20; total time=   4.3s\n",
      "[CV] END ccp_alpha=0, max_depth=20, max_samples=0.1, min_samples_leaf=12, min_samples_split=7, n_estimators=20; total time=   4.4s\n",
      "[CV] END ccp_alpha=0, max_depth=20, max_samples=0.1, min_samples_leaf=12, min_samples_split=7, n_estimators=20; total time=   4.3s\n",
      "[CV] END ccp_alpha=0, max_depth=20, max_samples=0.1, min_samples_leaf=12, min_samples_split=7, n_estimators=20; total time=   4.3s\n",
      "[CV] END ccp_alpha=0, max_depth=20, max_samples=0.1, min_samples_leaf=12, min_samples_split=7, n_estimators=20; total time=   4.3s\n",
      "[CV] END ccp_alpha=0.1, max_depth=20, max_samples=0.1, min_samples_leaf=7, min_samples_split=15, n_estimators=20; total time=   5.3s\n",
      "[CV] END ccp_alpha=0.1, max_depth=20, max_samples=0.1, min_samples_leaf=7, min_samples_split=15, n_estimators=20; total time=   5.3s\n",
      "[CV] END ccp_alpha=0.1, max_depth=20, max_samples=0.1, min_samples_leaf=7, min_samples_split=15, n_estimators=20; total time=   5.3s\n",
      "[CV] END ccp_alpha=0.1, max_depth=20, max_samples=0.1, min_samples_leaf=7, min_samples_split=15, n_estimators=20; total time=   5.3s\n",
      "[CV] END ccp_alpha=0.1, max_depth=20, max_samples=0.1, min_samples_leaf=7, min_samples_split=15, n_estimators=20; total time=   5.3s\n",
      "[CV] END ccp_alpha=0, max_depth=15, max_samples=0.2, min_samples_leaf=7, min_samples_split=10, n_estimators=20; total time=  10.9s\n",
      "[CV] END ccp_alpha=0, max_depth=15, max_samples=0.2, min_samples_leaf=7, min_samples_split=10, n_estimators=20; total time=  10.5s\n",
      "[CV] END ccp_alpha=0, max_depth=15, max_samples=0.2, min_samples_leaf=7, min_samples_split=10, n_estimators=20; total time=  11.2s\n",
      "[CV] END ccp_alpha=0, max_depth=15, max_samples=0.2, min_samples_leaf=7, min_samples_split=10, n_estimators=20; total time=  11.1s\n",
      "[CV] END ccp_alpha=0, max_depth=15, max_samples=0.2, min_samples_leaf=7, min_samples_split=10, n_estimators=20; total time=  10.6s\n",
      "[CV] END ccp_alpha=0.1, max_depth=25, max_samples=0.1, min_samples_leaf=15, min_samples_split=5, n_estimators=20; total time=   3.8s\n",
      "[CV] END ccp_alpha=0.1, max_depth=25, max_samples=0.1, min_samples_leaf=15, min_samples_split=5, n_estimators=20; total time=   4.0s\n",
      "[CV] END ccp_alpha=0.1, max_depth=25, max_samples=0.1, min_samples_leaf=15, min_samples_split=5, n_estimators=20; total time=   4.1s\n",
      "[CV] END ccp_alpha=0.1, max_depth=25, max_samples=0.1, min_samples_leaf=15, min_samples_split=5, n_estimators=20; total time=   4.1s\n",
      "[CV] END ccp_alpha=0.1, max_depth=25, max_samples=0.1, min_samples_leaf=15, min_samples_split=5, n_estimators=20; total time=   3.8s\n",
      "[CV] END ccp_alpha=0.01, max_depth=20, max_samples=0.2, min_samples_leaf=7, min_samples_split=12, n_estimators=40; total time=  26.3s\n",
      "[CV] END ccp_alpha=0.01, max_depth=20, max_samples=0.2, min_samples_leaf=7, min_samples_split=12, n_estimators=40; total time=  24.7s\n",
      "[CV] END ccp_alpha=0.01, max_depth=20, max_samples=0.2, min_samples_leaf=7, min_samples_split=12, n_estimators=40; total time=  24.1s\n",
      "[CV] END ccp_alpha=0.01, max_depth=20, max_samples=0.2, min_samples_leaf=7, min_samples_split=12, n_estimators=40; total time=  24.2s\n",
      "[CV] END ccp_alpha=0.01, max_depth=20, max_samples=0.2, min_samples_leaf=7, min_samples_split=12, n_estimators=40; total time=  24.0s\n",
      "[CV] END ccp_alpha=0.001, max_depth=25, max_samples=0.2, min_samples_leaf=12, min_samples_split=10, n_estimators=40; total time=  20.0s\n",
      "[CV] END ccp_alpha=0.001, max_depth=25, max_samples=0.2, min_samples_leaf=12, min_samples_split=10, n_estimators=40; total time=  20.3s\n",
      "[CV] END ccp_alpha=0.001, max_depth=25, max_samples=0.2, min_samples_leaf=12, min_samples_split=10, n_estimators=40; total time=  20.0s\n",
      "[CV] END ccp_alpha=0.001, max_depth=25, max_samples=0.2, min_samples_leaf=12, min_samples_split=10, n_estimators=40; total time=  20.0s\n",
      "[CV] END ccp_alpha=0.001, max_depth=25, max_samples=0.2, min_samples_leaf=12, min_samples_split=10, n_estimators=40; total time=  20.1s\n",
      "[CV] END ccp_alpha=0.001, max_depth=20, max_samples=0.2, min_samples_leaf=5, min_samples_split=15, n_estimators=40; total time=  24.9s\n",
      "[CV] END ccp_alpha=0.001, max_depth=20, max_samples=0.2, min_samples_leaf=5, min_samples_split=15, n_estimators=40; total time=  24.9s\n",
      "[CV] END ccp_alpha=0.001, max_depth=20, max_samples=0.2, min_samples_leaf=5, min_samples_split=15, n_estimators=40; total time=  25.0s\n",
      "[CV] END ccp_alpha=0.001, max_depth=20, max_samples=0.2, min_samples_leaf=5, min_samples_split=15, n_estimators=40; total time=  24.9s\n",
      "[CV] END ccp_alpha=0.001, max_depth=20, max_samples=0.2, min_samples_leaf=5, min_samples_split=15, n_estimators=40; total time=  25.1s\n",
      "[CV] END ccp_alpha=0, max_depth=10, max_samples=0.2, min_samples_leaf=7, min_samples_split=10, n_estimators=20; total time=   6.1s\n",
      "[CV] END ccp_alpha=0, max_depth=10, max_samples=0.2, min_samples_leaf=7, min_samples_split=10, n_estimators=20; total time=   6.0s\n",
      "[CV] END ccp_alpha=0, max_depth=10, max_samples=0.2, min_samples_leaf=7, min_samples_split=10, n_estimators=20; total time=   6.1s\n",
      "[CV] END ccp_alpha=0, max_depth=10, max_samples=0.2, min_samples_leaf=7, min_samples_split=10, n_estimators=20; total time=   6.0s\n",
      "[CV] END ccp_alpha=0, max_depth=10, max_samples=0.2, min_samples_leaf=7, min_samples_split=10, n_estimators=20; total time=   7.0s\n",
      "[CV] END ccp_alpha=0.01, max_depth=10, max_samples=0.1, min_samples_leaf=15, min_samples_split=7, n_estimators=15; total time=   2.4s\n",
      "[CV] END ccp_alpha=0.01, max_depth=10, max_samples=0.1, min_samples_leaf=15, min_samples_split=7, n_estimators=15; total time=   2.5s\n",
      "[CV] END ccp_alpha=0.01, max_depth=10, max_samples=0.1, min_samples_leaf=15, min_samples_split=7, n_estimators=15; total time=   2.5s\n",
      "[CV] END ccp_alpha=0.01, max_depth=10, max_samples=0.1, min_samples_leaf=15, min_samples_split=7, n_estimators=15; total time=   2.5s\n",
      "[CV] END ccp_alpha=0.01, max_depth=10, max_samples=0.1, min_samples_leaf=15, min_samples_split=7, n_estimators=15; total time=   2.4s\n",
      "[CV] END ccp_alpha=0, max_depth=25, max_samples=0.2, min_samples_leaf=12, min_samples_split=10, n_estimators=15; total time=   8.6s\n",
      "[CV] END ccp_alpha=0, max_depth=25, max_samples=0.2, min_samples_leaf=12, min_samples_split=10, n_estimators=15; total time=   8.6s\n",
      "[CV] END ccp_alpha=0, max_depth=25, max_samples=0.2, min_samples_leaf=12, min_samples_split=10, n_estimators=15; total time=   9.0s\n",
      "[CV] END ccp_alpha=0, max_depth=25, max_samples=0.2, min_samples_leaf=12, min_samples_split=10, n_estimators=15; total time=   8.9s\n",
      "[CV] END ccp_alpha=0, max_depth=25, max_samples=0.2, min_samples_leaf=12, min_samples_split=10, n_estimators=15; total time=   8.6s\n",
      "[CV] END ccp_alpha=0.01, max_depth=25, max_samples=0.2, min_samples_leaf=15, min_samples_split=10, n_estimators=40; total time=  18.7s\n",
      "[CV] END ccp_alpha=0.01, max_depth=25, max_samples=0.2, min_samples_leaf=15, min_samples_split=10, n_estimators=40; total time=  18.6s\n",
      "[CV] END ccp_alpha=0.01, max_depth=25, max_samples=0.2, min_samples_leaf=15, min_samples_split=10, n_estimators=40; total time=  18.7s\n",
      "[CV] END ccp_alpha=0.01, max_depth=25, max_samples=0.2, min_samples_leaf=15, min_samples_split=10, n_estimators=40; total time=  21.5s\n",
      "[CV] END ccp_alpha=0.01, max_depth=25, max_samples=0.2, min_samples_leaf=15, min_samples_split=10, n_estimators=40; total time=  20.1s\n",
      "[CV] END ccp_alpha=0.1, max_depth=25, max_samples=0.2, min_samples_leaf=5, min_samples_split=12, n_estimators=40; total time=  28.1s\n",
      "[CV] END ccp_alpha=0.1, max_depth=25, max_samples=0.2, min_samples_leaf=5, min_samples_split=12, n_estimators=40; total time=  28.0s\n",
      "[CV] END ccp_alpha=0.1, max_depth=25, max_samples=0.2, min_samples_leaf=5, min_samples_split=12, n_estimators=40; total time=  28.3s\n",
      "[CV] END ccp_alpha=0.1, max_depth=25, max_samples=0.2, min_samples_leaf=5, min_samples_split=12, n_estimators=40; total time=  29.4s\n",
      "[CV] END ccp_alpha=0.1, max_depth=25, max_samples=0.2, min_samples_leaf=5, min_samples_split=12, n_estimators=40; total time=  31.5s\n",
      "[CV] END ccp_alpha=0.001, max_depth=20, max_samples=0.1, min_samples_leaf=10, min_samples_split=12, n_estimators=15; total time=   4.4s\n",
      "[CV] END ccp_alpha=0.001, max_depth=20, max_samples=0.1, min_samples_leaf=10, min_samples_split=12, n_estimators=15; total time=   4.2s\n",
      "[CV] END ccp_alpha=0.001, max_depth=20, max_samples=0.1, min_samples_leaf=10, min_samples_split=12, n_estimators=15; total time=   4.2s\n",
      "[CV] END ccp_alpha=0.001, max_depth=20, max_samples=0.1, min_samples_leaf=10, min_samples_split=12, n_estimators=15; total time=   3.8s\n",
      "[CV] END ccp_alpha=0.001, max_depth=20, max_samples=0.1, min_samples_leaf=10, min_samples_split=12, n_estimators=15; total time=   3.9s\n",
      "[CV] END ccp_alpha=0.001, max_depth=10, max_samples=0.1, min_samples_leaf=7, min_samples_split=12, n_estimators=15; total time=   2.7s\n",
      "[CV] END ccp_alpha=0.001, max_depth=10, max_samples=0.1, min_samples_leaf=7, min_samples_split=12, n_estimators=15; total time=   2.7s\n",
      "[CV] END ccp_alpha=0.001, max_depth=10, max_samples=0.1, min_samples_leaf=7, min_samples_split=12, n_estimators=15; total time=   3.0s\n",
      "[CV] END ccp_alpha=0.001, max_depth=10, max_samples=0.1, min_samples_leaf=7, min_samples_split=12, n_estimators=15; total time=   2.7s\n",
      "[CV] END ccp_alpha=0.001, max_depth=10, max_samples=0.1, min_samples_leaf=7, min_samples_split=12, n_estimators=15; total time=   2.7s\n",
      "[CV] END ccp_alpha=0.1, max_depth=20, max_samples=0.1, min_samples_leaf=5, min_samples_split=12, n_estimators=40; total time=  12.5s\n",
      "[CV] END ccp_alpha=0.1, max_depth=20, max_samples=0.1, min_samples_leaf=5, min_samples_split=12, n_estimators=40; total time=  13.4s\n",
      "[CV] END ccp_alpha=0.1, max_depth=20, max_samples=0.1, min_samples_leaf=5, min_samples_split=12, n_estimators=40; total time=  11.8s\n",
      "[CV] END ccp_alpha=0.1, max_depth=20, max_samples=0.1, min_samples_leaf=5, min_samples_split=12, n_estimators=40; total time=  11.5s\n",
      "[CV] END ccp_alpha=0.1, max_depth=20, max_samples=0.1, min_samples_leaf=5, min_samples_split=12, n_estimators=40; total time=  11.3s\n",
      "[CV] END ccp_alpha=0.1, max_depth=10, max_samples=0.2, min_samples_leaf=10, min_samples_split=12, n_estimators=40; total time=  11.5s\n",
      "[CV] END ccp_alpha=0.1, max_depth=10, max_samples=0.2, min_samples_leaf=10, min_samples_split=12, n_estimators=40; total time=  11.4s\n",
      "[CV] END ccp_alpha=0.1, max_depth=10, max_samples=0.2, min_samples_leaf=10, min_samples_split=12, n_estimators=40; total time=  11.6s\n",
      "[CV] END ccp_alpha=0.1, max_depth=10, max_samples=0.2, min_samples_leaf=10, min_samples_split=12, n_estimators=40; total time=  11.4s\n",
      "[CV] END ccp_alpha=0.1, max_depth=10, max_samples=0.2, min_samples_leaf=10, min_samples_split=12, n_estimators=40; total time=  11.4s\n",
      "[CV] END ccp_alpha=0.01, max_depth=25, max_samples=0.2, min_samples_leaf=7, min_samples_split=7, n_estimators=10; total time=   5.8s\n",
      "[CV] END ccp_alpha=0.01, max_depth=25, max_samples=0.2, min_samples_leaf=7, min_samples_split=7, n_estimators=10; total time=   5.9s\n",
      "[CV] END ccp_alpha=0.01, max_depth=25, max_samples=0.2, min_samples_leaf=7, min_samples_split=7, n_estimators=10; total time=   5.8s\n",
      "[CV] END ccp_alpha=0.01, max_depth=25, max_samples=0.2, min_samples_leaf=7, min_samples_split=7, n_estimators=10; total time=   5.8s\n",
      "[CV] END ccp_alpha=0.01, max_depth=25, max_samples=0.2, min_samples_leaf=7, min_samples_split=7, n_estimators=10; total time=   5.9s\n",
      "[CV] END ccp_alpha=0.1, max_depth=15, max_samples=0.2, min_samples_leaf=15, min_samples_split=7, n_estimators=10; total time=   4.1s\n",
      "[CV] END ccp_alpha=0.1, max_depth=15, max_samples=0.2, min_samples_leaf=15, min_samples_split=7, n_estimators=10; total time=   4.1s\n",
      "[CV] END ccp_alpha=0.1, max_depth=15, max_samples=0.2, min_samples_leaf=15, min_samples_split=7, n_estimators=10; total time=   4.2s\n",
      "[CV] END ccp_alpha=0.1, max_depth=15, max_samples=0.2, min_samples_leaf=15, min_samples_split=7, n_estimators=10; total time=   4.1s\n",
      "[CV] END ccp_alpha=0.1, max_depth=15, max_samples=0.2, min_samples_leaf=15, min_samples_split=7, n_estimators=10; total time=   4.1s\n",
      "[CV] END ccp_alpha=0, max_depth=20, max_samples=0.1, min_samples_leaf=10, min_samples_split=15, n_estimators=40; total time=   9.0s\n",
      "[CV] END ccp_alpha=0, max_depth=20, max_samples=0.1, min_samples_leaf=10, min_samples_split=15, n_estimators=40; total time=   8.9s\n",
      "[CV] END ccp_alpha=0, max_depth=20, max_samples=0.1, min_samples_leaf=10, min_samples_split=15, n_estimators=40; total time=   8.9s\n",
      "[CV] END ccp_alpha=0, max_depth=20, max_samples=0.1, min_samples_leaf=10, min_samples_split=15, n_estimators=40; total time=   8.9s\n",
      "[CV] END ccp_alpha=0, max_depth=20, max_samples=0.1, min_samples_leaf=10, min_samples_split=15, n_estimators=40; total time=   8.9s\n",
      "[CV] END ccp_alpha=0, max_depth=10, max_samples=0.1, min_samples_leaf=7, min_samples_split=5, n_estimators=15; total time=   2.4s\n",
      "[CV] END ccp_alpha=0, max_depth=10, max_samples=0.1, min_samples_leaf=7, min_samples_split=5, n_estimators=15; total time=   2.4s\n",
      "[CV] END ccp_alpha=0, max_depth=10, max_samples=0.1, min_samples_leaf=7, min_samples_split=5, n_estimators=15; total time=   2.4s\n",
      "[CV] END ccp_alpha=0, max_depth=10, max_samples=0.1, min_samples_leaf=7, min_samples_split=5, n_estimators=15; total time=   2.3s\n",
      "[CV] END ccp_alpha=0, max_depth=10, max_samples=0.1, min_samples_leaf=7, min_samples_split=5, n_estimators=15; total time=   2.4s\n",
      "[CV] END ccp_alpha=0.01, max_depth=25, max_samples=0.2, min_samples_leaf=5, min_samples_split=5, n_estimators=10; total time=   6.6s\n",
      "[CV] END ccp_alpha=0.01, max_depth=25, max_samples=0.2, min_samples_leaf=5, min_samples_split=5, n_estimators=10; total time=   6.6s\n",
      "[CV] END ccp_alpha=0.01, max_depth=25, max_samples=0.2, min_samples_leaf=5, min_samples_split=5, n_estimators=10; total time=   6.6s\n",
      "[CV] END ccp_alpha=0.01, max_depth=25, max_samples=0.2, min_samples_leaf=5, min_samples_split=5, n_estimators=10; total time=   6.7s\n",
      "[CV] END ccp_alpha=0.01, max_depth=25, max_samples=0.2, min_samples_leaf=5, min_samples_split=5, n_estimators=10; total time=   6.7s\n",
      "[CV] END ccp_alpha=0, max_depth=25, max_samples=0.2, min_samples_leaf=10, min_samples_split=7, n_estimators=40; total time=  20.5s\n",
      "[CV] END ccp_alpha=0, max_depth=25, max_samples=0.2, min_samples_leaf=10, min_samples_split=7, n_estimators=40; total time=  20.7s\n",
      "[CV] END ccp_alpha=0, max_depth=25, max_samples=0.2, min_samples_leaf=10, min_samples_split=7, n_estimators=40; total time=  20.5s\n",
      "[CV] END ccp_alpha=0, max_depth=25, max_samples=0.2, min_samples_leaf=10, min_samples_split=7, n_estimators=40; total time=  20.5s\n",
      "[CV] END ccp_alpha=0, max_depth=25, max_samples=0.2, min_samples_leaf=10, min_samples_split=7, n_estimators=40; total time=  20.7s\n"
     ]
    },
    {
     "data": {
      "text/plain": [
       "RandomizedSearchCV(estimator=RandomForestRegressor(), n_iter=30,\n",
       "                   param_distributions={'ccp_alpha': [0, 0.1, 0.01, 0.001],\n",
       "                                        'max_depth': [10, 15, 20, 25],\n",
       "                                        'max_samples': [0.1, 0.2],\n",
       "                                        'min_samples_leaf': [5, 7, 10, 12, 15],\n",
       "                                        'min_samples_split': [5, 7, 10, 12, 15],\n",
       "                                        'n_estimators': [10, 15, 20, 40]},\n",
       "                   random_state=42, return_train_score=True,\n",
       "                   scoring='neg_mean_squared_error', verbose=2)"
      ]
     },
     "execution_count": 28,
     "metadata": {},
     "output_type": "execute_result"
    }
   ],
   "source": [
    "# Fit\n",
    "X_sample, _, y_sample, _ = train_test_split(X_train, y_train, test_size=0.95)\n",
    "rf_rs.fit(X_sample, y_sample)"
   ]
  },
  {
   "cell_type": "code",
   "execution_count": 32,
   "metadata": {},
   "outputs": [
    {
     "data": {
      "text/plain": [
       "{'n_estimators': 40,\n",
       " 'min_samples_split': 12,\n",
       " 'min_samples_leaf': 5,\n",
       " 'max_samples': 0.2,\n",
       " 'max_depth': 25,\n",
       " 'ccp_alpha': 0.1}"
      ]
     },
     "execution_count": 32,
     "metadata": {},
     "output_type": "execute_result"
    }
   ],
   "source": [
    "rf_rs.best_params_"
   ]
  },
  {
   "cell_type": "code",
   "execution_count": 33,
   "metadata": {},
   "outputs": [
    {
     "data": {
      "text/html": [
       "<div>\n",
       "<style scoped>\n",
       "    .dataframe tbody tr th:only-of-type {\n",
       "        vertical-align: middle;\n",
       "    }\n",
       "\n",
       "    .dataframe tbody tr th {\n",
       "        vertical-align: top;\n",
       "    }\n",
       "\n",
       "    .dataframe thead th {\n",
       "        text-align: right;\n",
       "    }\n",
       "</style>\n",
       "<table border=\"1\" class=\"dataframe\">\n",
       "  <thead>\n",
       "    <tr style=\"text-align: right;\">\n",
       "      <th></th>\n",
       "      <th>Model</th>\n",
       "      <th>RMSE</th>\n",
       "      <th>MAE</th>\n",
       "      <th>R2</th>\n",
       "    </tr>\n",
       "  </thead>\n",
       "  <tbody>\n",
       "    <tr>\n",
       "      <th>0</th>\n",
       "      <td>Random Forest</td>\n",
       "      <td>5164.351175</td>\n",
       "      <td>2872.686599</td>\n",
       "      <td>0.834165</td>\n",
       "    </tr>\n",
       "  </tbody>\n",
       "</table>\n",
       "</div>"
      ],
      "text/plain": [
       "           Model         RMSE          MAE        R2\n",
       "0  Random Forest  5164.351175  2872.686599  0.834165"
      ]
     },
     "execution_count": 33,
     "metadata": {},
     "output_type": "execute_result"
    }
   ],
   "source": [
    "best_rf_reg = rf_rs.best_estimator_\n",
    "y_pred = best_rf_reg.predict(X_test)\n",
    "\n",
    "mse = mean_squared_error(y_test,y_pred)\n",
    "mae = mean_absolute_error(y_test,y_pred)\n",
    "R2 = r2_score(y_test,y_pred)\n",
    "\n",
    "eva_df = eva_df.append({\"Model\": \"Random Forest\", \"RMSE\" : mse**0.5, \"MAE\":mae ,\"R2\" : R2},ignore_index=True)\n",
    "eva_df"
   ]
  },
  {
   "cell_type": "code",
   "execution_count": 34,
   "metadata": {},
   "outputs": [
    {
     "data": {
      "text/plain": [
       "['./model/random_forest.joblib']"
      ]
     },
     "execution_count": 34,
     "metadata": {},
     "output_type": "execute_result"
    }
   ],
   "source": [
    "joblib.dump(best_rf_reg, './model/random_forest.joblib')"
   ]
  },
  {
   "cell_type": "code",
   "execution_count": null,
   "metadata": {},
   "outputs": [],
   "source": []
  },
  {
   "cell_type": "code",
   "execution_count": null,
   "metadata": {},
   "outputs": [],
   "source": []
  },
  {
   "cell_type": "code",
   "execution_count": null,
   "metadata": {},
   "outputs": [],
   "source": []
  },
  {
   "cell_type": "code",
   "execution_count": null,
   "metadata": {},
   "outputs": [],
   "source": []
  },
  {
   "cell_type": "code",
   "execution_count": null,
   "metadata": {},
   "outputs": [],
   "source": []
  },
  {
   "cell_type": "code",
   "execution_count": 63,
   "metadata": {},
   "outputs": [],
   "source": [
    "params = {\n",
    "    'n_estimators': 18,\n",
    "    'min_samples_split': 6,\n",
    "    'min_samples_leaf': 6,\n",
    "    'max_samples': 0.1,\n",
    "    'max_depth': 11,\n",
    "    'ccp_alpha': 0.1,\n",
    "    \"random_state\": 10,\n",
    "    \"n_jobs\": -1,\n",
    "    \"bootstrap\": True,\n",
    "}\n",
    "\n",
    "rf = RandomForestRegressor(**params)\n",
    "\n",
    "rf = rf.fit(X_train, y_train)"
   ]
  },
  {
   "cell_type": "code",
   "execution_count": 64,
   "metadata": {},
   "outputs": [
    {
     "data": {
      "text/plain": [
       "5227.843560670883"
      ]
     },
     "execution_count": 64,
     "metadata": {},
     "output_type": "execute_result"
    }
   ],
   "source": [
    "y_pred = rf.predict(X_test)\n",
    "\n",
    "mse = mean_squared_error(y_test,y_pred)\n",
    "mae = mean_absolute_error(y_test,y_pred)\n",
    "R2 = r2_score(y_test,y_pred)\n",
    "\n",
    "mse**0.5"
   ]
  },
  {
   "cell_type": "code",
   "execution_count": 65,
   "metadata": {},
   "outputs": [
    {
     "data": {
      "text/plain": [
       "0.8300621727565209"
      ]
     },
     "execution_count": 65,
     "metadata": {},
     "output_type": "execute_result"
    }
   ],
   "source": [
    "R2"
   ]
  },
  {
   "cell_type": "code",
   "execution_count": null,
   "metadata": {},
   "outputs": [],
   "source": []
  },
  {
   "cell_type": "code",
   "execution_count": null,
   "metadata": {},
   "outputs": [],
   "source": []
  },
  {
   "cell_type": "code",
   "execution_count": null,
   "metadata": {},
   "outputs": [],
   "source": []
  },
  {
   "cell_type": "code",
   "execution_count": null,
   "metadata": {},
   "outputs": [],
   "source": []
  },
  {
   "cell_type": "code",
   "execution_count": null,
   "metadata": {},
   "outputs": [],
   "source": []
  },
  {
   "cell_type": "code",
   "execution_count": null,
   "metadata": {},
   "outputs": [],
   "source": []
  },
  {
   "cell_type": "code",
   "execution_count": null,
   "metadata": {},
   "outputs": [],
   "source": []
  },
  {
   "cell_type": "code",
   "execution_count": null,
   "metadata": {},
   "outputs": [],
   "source": []
  }
 ],
 "metadata": {
  "kernelspec": {
   "display_name": "base",
   "language": "python",
   "name": "python3"
  },
  "language_info": {
   "codemirror_mode": {
    "name": "ipython",
    "version": 3
   },
   "file_extension": ".py",
   "mimetype": "text/x-python",
   "name": "python",
   "nbconvert_exporter": "python",
   "pygments_lexer": "ipython3",
   "version": "3.9.12"
  }
 },
 "nbformat": 4,
 "nbformat_minor": 2
}
