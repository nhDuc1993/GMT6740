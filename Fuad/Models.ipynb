{
 "cells": [
  {
   "cell_type": "markdown",
   "metadata": {},
   "source": [
    "#### Importing, Preprocessing"
   ]
  },
  {
   "cell_type": "code",
   "execution_count": 81,
   "metadata": {},
   "outputs": [],
   "source": [
    "import pandas as pd\n",
    "import numpy as np\n",
    "\n",
    "import matplotlib.pyplot as plt\n",
    "import seaborn as sns\n",
    "\n",
    "import warnings\n",
    "import os \n",
    "\n",
    "from sklearn.ensemble import RandomForestRegressor\n",
    "from sklearn.model_selection import train_test_split\n",
    "from sklearn.model_selection import RandomizedSearchCV, GridSearchCV\n",
    "from sklearn import metrics\n",
    "from sklearn.model_selection import cross_validate, cross_val_score\n",
    "from scipy import sparse\n",
    "from scipy.sparse import hstack, vstack\n",
    "\n",
    "warnings.filterwarnings(\"ignore\")"
   ]
  },
  {
   "cell_type": "code",
   "execution_count": 2,
   "metadata": {},
   "outputs": [],
   "source": [
    "df = pd.read_csv('../scr/clean_df.csv', header=0)"
   ]
  },
  {
   "cell_type": "code",
   "execution_count": 3,
   "metadata": {},
   "outputs": [],
   "source": [
    "df['date_created'] = pd.to_datetime(df['date_created'],format=\"%Y-%m-%d %H:%M:%S.%f%z\", errors='coerce')\n",
    "df['year_created'] = df['date_created'].dt.year\n",
    "\n",
    "df['man_period'] = df['year_created'] - df['manufacture_year']\n",
    "df['stk_period'] = df['year_created'] - df['stk_year']\n",
    "\n",
    "df = df.drop(['manufacture_year', 'stk_year', 'date_created', 'date_last_seen', 'year_created'], axis=1)"
   ]
  },
  {
   "cell_type": "code",
   "execution_count": 4,
   "metadata": {},
   "outputs": [
    {
     "data": {
      "text/html": [
       "<div>\n",
       "<style scoped>\n",
       "    .dataframe tbody tr th:only-of-type {\n",
       "        vertical-align: middle;\n",
       "    }\n",
       "\n",
       "    .dataframe tbody tr th {\n",
       "        vertical-align: top;\n",
       "    }\n",
       "\n",
       "    .dataframe thead th {\n",
       "        text-align: right;\n",
       "    }\n",
       "</style>\n",
       "<table border=\"1\" class=\"dataframe\">\n",
       "  <thead>\n",
       "    <tr style=\"text-align: right;\">\n",
       "      <th></th>\n",
       "      <th>maker</th>\n",
       "      <th>model</th>\n",
       "      <th>mileage</th>\n",
       "      <th>engine_displacement</th>\n",
       "      <th>engine_power</th>\n",
       "      <th>body_type</th>\n",
       "      <th>transmission</th>\n",
       "      <th>door_count</th>\n",
       "      <th>seat_count</th>\n",
       "      <th>fuel_type</th>\n",
       "      <th>price_eur</th>\n",
       "      <th>man_period</th>\n",
       "      <th>stk_period</th>\n",
       "    </tr>\n",
       "  </thead>\n",
       "  <tbody>\n",
       "    <tr>\n",
       "      <th>0</th>\n",
       "      <td>ford</td>\n",
       "      <td>galaxy</td>\n",
       "      <td>151000.0</td>\n",
       "      <td>2000.0</td>\n",
       "      <td>138.12506</td>\n",
       "      <td>compact</td>\n",
       "      <td>man</td>\n",
       "      <td>5.0</td>\n",
       "      <td>7.0</td>\n",
       "      <td>diesel</td>\n",
       "      <td>10584.75</td>\n",
       "      <td>4.0</td>\n",
       "      <td>NaN</td>\n",
       "    </tr>\n",
       "    <tr>\n",
       "      <th>1</th>\n",
       "      <td>skoda</td>\n",
       "      <td>octavia</td>\n",
       "      <td>143476.0</td>\n",
       "      <td>2000.0</td>\n",
       "      <td>108.62262</td>\n",
       "      <td>compact</td>\n",
       "      <td>man</td>\n",
       "      <td>5.0</td>\n",
       "      <td>5.0</td>\n",
       "      <td>diesel</td>\n",
       "      <td>8882.31</td>\n",
       "      <td>3.0</td>\n",
       "      <td>NaN</td>\n",
       "    </tr>\n",
       "    <tr>\n",
       "      <th>2</th>\n",
       "      <td>bmw</td>\n",
       "      <td>NaN</td>\n",
       "      <td>97676.0</td>\n",
       "      <td>1995.0</td>\n",
       "      <td>113.98670</td>\n",
       "      <td>compact</td>\n",
       "      <td>man</td>\n",
       "      <td>5.0</td>\n",
       "      <td>5.0</td>\n",
       "      <td>diesel</td>\n",
       "      <td>12065.06</td>\n",
       "      <td>5.0</td>\n",
       "      <td>NaN</td>\n",
       "    </tr>\n",
       "    <tr>\n",
       "      <th>3</th>\n",
       "      <td>skoda</td>\n",
       "      <td>fabia</td>\n",
       "      <td>111970.0</td>\n",
       "      <td>1200.0</td>\n",
       "      <td>84.48426</td>\n",
       "      <td>compact</td>\n",
       "      <td>man</td>\n",
       "      <td>5.0</td>\n",
       "      <td>5.0</td>\n",
       "      <td>gasoline</td>\n",
       "      <td>2960.77</td>\n",
       "      <td>11.0</td>\n",
       "      <td>NaN</td>\n",
       "    </tr>\n",
       "    <tr>\n",
       "      <th>4</th>\n",
       "      <td>skoda</td>\n",
       "      <td>fabia</td>\n",
       "      <td>128886.0</td>\n",
       "      <td>1200.0</td>\n",
       "      <td>84.48426</td>\n",
       "      <td>compact</td>\n",
       "      <td>man</td>\n",
       "      <td>5.0</td>\n",
       "      <td>5.0</td>\n",
       "      <td>gasoline</td>\n",
       "      <td>2738.71</td>\n",
       "      <td>11.0</td>\n",
       "      <td>NaN</td>\n",
       "    </tr>\n",
       "    <tr>\n",
       "      <th>...</th>\n",
       "      <td>...</td>\n",
       "      <td>...</td>\n",
       "      <td>...</td>\n",
       "      <td>...</td>\n",
       "      <td>...</td>\n",
       "      <td>...</td>\n",
       "      <td>...</td>\n",
       "      <td>...</td>\n",
       "      <td>...</td>\n",
       "      <td>...</td>\n",
       "      <td>...</td>\n",
       "      <td>...</td>\n",
       "      <td>...</td>\n",
       "    </tr>\n",
       "    <tr>\n",
       "      <th>2834466</th>\n",
       "      <td>skoda</td>\n",
       "      <td>yeti</td>\n",
       "      <td>69267.0</td>\n",
       "      <td>1197.0</td>\n",
       "      <td>103.25854</td>\n",
       "      <td>offroad</td>\n",
       "      <td>auto</td>\n",
       "      <td>5.0</td>\n",
       "      <td>5.0</td>\n",
       "      <td>NaN</td>\n",
       "      <td>24981.50</td>\n",
       "      <td>2.0</td>\n",
       "      <td>NaN</td>\n",
       "    </tr>\n",
       "    <tr>\n",
       "      <th>2834467</th>\n",
       "      <td>chevrolet</td>\n",
       "      <td>matiz</td>\n",
       "      <td>59000.0</td>\n",
       "      <td>995.0</td>\n",
       "      <td>65.70998</td>\n",
       "      <td>compact</td>\n",
       "      <td>man</td>\n",
       "      <td>5.0</td>\n",
       "      <td>5.0</td>\n",
       "      <td>NaN</td>\n",
       "      <td>24981.50</td>\n",
       "      <td>10.0</td>\n",
       "      <td>NaN</td>\n",
       "    </tr>\n",
       "    <tr>\n",
       "      <th>2834468</th>\n",
       "      <td>chevrolet</td>\n",
       "      <td>aveo</td>\n",
       "      <td>86000.0</td>\n",
       "      <td>1200.0</td>\n",
       "      <td>71.07406</td>\n",
       "      <td>sedan</td>\n",
       "      <td>man</td>\n",
       "      <td>5.0</td>\n",
       "      <td>5.0</td>\n",
       "      <td>NaN</td>\n",
       "      <td>24981.50</td>\n",
       "      <td>6.0</td>\n",
       "      <td>NaN</td>\n",
       "    </tr>\n",
       "    <tr>\n",
       "      <th>2834469</th>\n",
       "      <td>ford</td>\n",
       "      <td>ka</td>\n",
       "      <td>123000.0</td>\n",
       "      <td>1299.0</td>\n",
       "      <td>68.39202</td>\n",
       "      <td>compact</td>\n",
       "      <td>man</td>\n",
       "      <td>3.0</td>\n",
       "      <td>4.0</td>\n",
       "      <td>NaN</td>\n",
       "      <td>24981.50</td>\n",
       "      <td>11.0</td>\n",
       "      <td>NaN</td>\n",
       "    </tr>\n",
       "    <tr>\n",
       "      <th>2834470</th>\n",
       "      <td>hyundai</td>\n",
       "      <td>santa-fe</td>\n",
       "      <td>190240.0</td>\n",
       "      <td>2200.0</td>\n",
       "      <td>147.51220</td>\n",
       "      <td>offroad</td>\n",
       "      <td>auto</td>\n",
       "      <td>5.0</td>\n",
       "      <td>5.0</td>\n",
       "      <td>NaN</td>\n",
       "      <td>24981.50</td>\n",
       "      <td>10.0</td>\n",
       "      <td>NaN</td>\n",
       "    </tr>\n",
       "  </tbody>\n",
       "</table>\n",
       "<p>2834471 rows × 13 columns</p>\n",
       "</div>"
      ],
      "text/plain": [
       "             maker     model   mileage  engine_displacement  engine_power  \\\n",
       "0             ford    galaxy  151000.0               2000.0     138.12506   \n",
       "1            skoda   octavia  143476.0               2000.0     108.62262   \n",
       "2              bmw       NaN   97676.0               1995.0     113.98670   \n",
       "3            skoda     fabia  111970.0               1200.0      84.48426   \n",
       "4            skoda     fabia  128886.0               1200.0      84.48426   \n",
       "...            ...       ...       ...                  ...           ...   \n",
       "2834466      skoda      yeti   69267.0               1197.0     103.25854   \n",
       "2834467  chevrolet     matiz   59000.0                995.0      65.70998   \n",
       "2834468  chevrolet      aveo   86000.0               1200.0      71.07406   \n",
       "2834469       ford        ka  123000.0               1299.0      68.39202   \n",
       "2834470    hyundai  santa-fe  190240.0               2200.0     147.51220   \n",
       "\n",
       "        body_type transmission  door_count  seat_count fuel_type  price_eur  \\\n",
       "0         compact          man         5.0         7.0    diesel   10584.75   \n",
       "1         compact          man         5.0         5.0    diesel    8882.31   \n",
       "2         compact          man         5.0         5.0    diesel   12065.06   \n",
       "3         compact          man         5.0         5.0  gasoline    2960.77   \n",
       "4         compact          man         5.0         5.0  gasoline    2738.71   \n",
       "...           ...          ...         ...         ...       ...        ...   \n",
       "2834466   offroad         auto         5.0         5.0       NaN   24981.50   \n",
       "2834467   compact          man         5.0         5.0       NaN   24981.50   \n",
       "2834468     sedan          man         5.0         5.0       NaN   24981.50   \n",
       "2834469   compact          man         3.0         4.0       NaN   24981.50   \n",
       "2834470   offroad         auto         5.0         5.0       NaN   24981.50   \n",
       "\n",
       "         man_period  stk_period  \n",
       "0               4.0         NaN  \n",
       "1               3.0         NaN  \n",
       "2               5.0         NaN  \n",
       "3              11.0         NaN  \n",
       "4              11.0         NaN  \n",
       "...             ...         ...  \n",
       "2834466         2.0         NaN  \n",
       "2834467        10.0         NaN  \n",
       "2834468         6.0         NaN  \n",
       "2834469        11.0         NaN  \n",
       "2834470        10.0         NaN  \n",
       "\n",
       "[2834471 rows x 13 columns]"
      ]
     },
     "execution_count": 4,
     "metadata": {},
     "output_type": "execute_result"
    }
   ],
   "source": [
    "df"
   ]
  },
  {
   "cell_type": "code",
   "execution_count": 5,
   "metadata": {},
   "outputs": [],
   "source": [
    "df2 = df.copy(deep=True)"
   ]
  },
  {
   "cell_type": "code",
   "execution_count": 6,
   "metadata": {},
   "outputs": [
    {
     "data": {
      "text/plain": [
       "956108316"
      ]
     },
     "execution_count": 6,
     "metadata": {},
     "output_type": "execute_result"
    }
   ],
   "source": [
    "m1 = df.memory_usage(deep=True).sum()\n",
    "m1"
   ]
  },
  {
   "cell_type": "code",
   "execution_count": 7,
   "metadata": {},
   "outputs": [],
   "source": [
    "# Filled NaN values with zeroes\n",
    "\n",
    "df2.fillna(0, inplace=True)"
   ]
  },
  {
   "cell_type": "code",
   "execution_count": 8,
   "metadata": {},
   "outputs": [],
   "source": [
    "numerical_columns = ['engine_power', 'mileage', 'engine_displacement']\n",
    "conv_to_string_columns = ['door_count', 'seat_count', 'man_period', 'stk_period']\n",
    "categorical_columns = ['maker', 'model', 'body_type', 'transmission', 'fuel_type']+conv_to_string_columns\n"
   ]
  },
  {
   "cell_type": "code",
   "execution_count": 9,
   "metadata": {},
   "outputs": [],
   "source": [
    "def datatype_converter(x):\n",
    "\n",
    "    for i in conv_to_string_columns:\n",
    "        x[i] = x[i].apply(lambda x: str(x) if not pd.isnull(x) else x)\n",
    "    \n",
    "    for i in categorical_columns:\n",
    "        x[i] = x[i].astype('category')\n",
    "    \n",
    "    x[numerical_columns] = x[numerical_columns].apply(pd.to_numeric, downcast=\"float\")\n",
    "    x['price_eur'] = x['price_eur'].apply(pd.to_numeric, downcast='float')\n",
    "\n",
    "    return x"
   ]
  },
  {
   "cell_type": "code",
   "execution_count": 10,
   "metadata": {},
   "outputs": [],
   "source": [
    "df2 = datatype_converter(df2)"
   ]
  },
  {
   "cell_type": "code",
   "execution_count": 11,
   "metadata": {},
   "outputs": [
    {
     "data": {
      "text/plain": [
       "maker                  category\n",
       "model                  category\n",
       "mileage                 float32\n",
       "engine_displacement     float32\n",
       "engine_power            float32\n",
       "body_type              category\n",
       "transmission           category\n",
       "door_count             category\n",
       "seat_count             category\n",
       "fuel_type              category\n",
       "price_eur               float64\n",
       "man_period             category\n",
       "stk_period             category\n",
       "dtype: object"
      ]
     },
     "execution_count": 11,
     "metadata": {},
     "output_type": "execute_result"
    }
   ],
   "source": [
    "df2.dtypes"
   ]
  },
  {
   "cell_type": "code",
   "execution_count": 12,
   "metadata": {},
   "outputs": [
    {
     "data": {
      "text/plain": [
       "85111439"
      ]
     },
     "execution_count": 12,
     "metadata": {},
     "output_type": "execute_result"
    }
   ],
   "source": [
    "m2 = df2.memory_usage(deep=True).sum()\n",
    "m2"
   ]
  },
  {
   "cell_type": "code",
   "execution_count": 106,
   "metadata": {},
   "outputs": [],
   "source": [
    "X = df2.drop('price_eur', axis=1)\n",
    "y = df2['price_eur']"
   ]
  },
  {
   "cell_type": "code",
   "execution_count": 110,
   "metadata": {},
   "outputs": [],
   "source": [
    "Xencoded = pd.get_dummies(X, columns=categorical_columns)"
   ]
  },
  {
   "cell_type": "code",
   "execution_count": 21,
   "metadata": {},
   "outputs": [],
   "source": [
    "Xencoded_cat = pd.get_dummies(X[categorical_columns])"
   ]
  },
  {
   "cell_type": "code",
   "execution_count": 19,
   "metadata": {},
   "outputs": [],
   "source": [
    "X_num = X[numerical_columns]"
   ]
  },
  {
   "cell_type": "markdown",
   "metadata": {},
   "source": [
    "#### Conveting df to CSR matrix"
   ]
  },
  {
   "cell_type": "code",
   "execution_count": 23,
   "metadata": {},
   "outputs": [],
   "source": [
    "Xcsr_cat = sparse.csr_matrix(Xencoded_cat.values)"
   ]
  },
  {
   "cell_type": "code",
   "execution_count": 24,
   "metadata": {},
   "outputs": [],
   "source": [
    "Xcsr_num = sparse.csc_matrix(X_num.values)"
   ]
  },
  {
   "cell_type": "code",
   "execution_count": 36,
   "metadata": {},
   "outputs": [],
   "source": [
    "Xcsr = hstack((Xcsr_num, Xcsr_cat))"
   ]
  },
  {
   "cell_type": "code",
   "execution_count": 31,
   "metadata": {},
   "outputs": [],
   "source": [
    "ycsr = sparse.csr_matrix(y.values).T"
   ]
  },
  {
   "cell_type": "markdown",
   "metadata": {},
   "source": [
    "#### PCA"
   ]
  },
  {
   "cell_type": "code",
   "execution_count": 54,
   "metadata": {},
   "outputs": [],
   "source": [
    "from sklearn.decomposition import TruncatedSVD"
   ]
  },
  {
   "cell_type": "code",
   "execution_count": 55,
   "metadata": {},
   "outputs": [],
   "source": [
    "svd = TruncatedSVD(n_components=5).fit(Xcsr)"
   ]
  },
  {
   "cell_type": "code",
   "execution_count": 56,
   "metadata": {},
   "outputs": [],
   "source": [
    "Xpca = svd.transform(Xcsr)"
   ]
  },
  {
   "cell_type": "markdown",
   "metadata": {},
   "source": [
    "#### Randomized Search CV for Random Forest"
   ]
  },
  {
   "cell_type": "markdown",
   "metadata": {},
   "source": [
    "SVD data set (Xpca) is used for the cells in below"
   ]
  },
  {
   "cell_type": "code",
   "execution_count": 116,
   "metadata": {},
   "outputs": [
    {
     "data": {
      "text/plain": [
       "((2267576, 5), (566895, 5), (2267576,), (566895,))"
      ]
     },
     "execution_count": 116,
     "metadata": {},
     "output_type": "execute_result"
    }
   ],
   "source": [
    "X_train, X_test, y_train, y_test = train_test_split(Xpca, y, test_size=0.2, random_state=10)\n",
    "\n",
    "X_train.shape, X_test.shape, y_train.shape, y_test.shape"
   ]
  },
  {
   "cell_type": "code",
   "execution_count": 91,
   "metadata": {},
   "outputs": [],
   "source": [
    "rs_param_grid = {\n",
    "    \"n_estimators\": list((range(10, 20))),\n",
    "    \"max_depth\": list((range(5, 15))),\n",
    "    \"min_samples_split\": list((range(2, 10))),\n",
    "    \"min_samples_leaf\": list((range(1, 10))),\n",
    "    \"ccp_alpha\": [0, 0.001, 0.01, 0.1],\n",
    "    \"max_samples\": [0.2]\n",
    "}\n"
   ]
  },
  {
   "cell_type": "code",
   "execution_count": 92,
   "metadata": {},
   "outputs": [],
   "source": [
    "scoring_list = {'R2': metrics.make_scorer(metrics.r2_score)}"
   ]
  },
  {
   "cell_type": "code",
   "execution_count": 94,
   "metadata": {},
   "outputs": [],
   "source": [
    "rf = RandomForestRegressor(random_state=10, n_jobs=-1)\n",
    "\n",
    "rf_rs = RandomizedSearchCV(\n",
    "    estimator=rf,\n",
    "    param_distributions=rs_param_grid,\n",
    "    scoring = 'r2',\n",
    "    n_iter=10,  # Number of parameter candidate settings to sample\n",
    "    verbose=2,  # The higher this is, the more messages are outputed\n",
    "    random_state=10,\n",
    "    refit = True\n",
    ")"
   ]
  },
  {
   "cell_type": "code",
   "execution_count": 95,
   "metadata": {},
   "outputs": [
    {
     "name": "stdout",
     "output_type": "stream",
     "text": [
      "Fitting 5 folds for each of 10 candidates, totalling 50 fits\n",
      "[CV] END ccp_alpha=0.01, max_depth=9, max_samples=0.2, min_samples_leaf=5, min_samples_split=9, n_estimators=13; total time=  18.2s\n",
      "[CV] END ccp_alpha=0.01, max_depth=9, max_samples=0.2, min_samples_leaf=5, min_samples_split=9, n_estimators=13; total time=  20.8s\n",
      "[CV] END ccp_alpha=0.01, max_depth=9, max_samples=0.2, min_samples_leaf=5, min_samples_split=9, n_estimators=13; total time=  23.9s\n",
      "[CV] END ccp_alpha=0.01, max_depth=9, max_samples=0.2, min_samples_leaf=5, min_samples_split=9, n_estimators=13; total time=  21.6s\n",
      "[CV] END ccp_alpha=0.01, max_depth=9, max_samples=0.2, min_samples_leaf=5, min_samples_split=9, n_estimators=13; total time=  22.4s\n",
      "[CV] END ccp_alpha=0.001, max_depth=5, max_samples=0.2, min_samples_leaf=2, min_samples_split=3, n_estimators=13; total time=  11.6s\n",
      "[CV] END ccp_alpha=0.001, max_depth=5, max_samples=0.2, min_samples_leaf=2, min_samples_split=3, n_estimators=13; total time=  12.4s\n",
      "[CV] END ccp_alpha=0.001, max_depth=5, max_samples=0.2, min_samples_leaf=2, min_samples_split=3, n_estimators=13; total time=  12.9s\n",
      "[CV] END ccp_alpha=0.001, max_depth=5, max_samples=0.2, min_samples_leaf=2, min_samples_split=3, n_estimators=13; total time=  12.2s\n",
      "[CV] END ccp_alpha=0.001, max_depth=5, max_samples=0.2, min_samples_leaf=2, min_samples_split=3, n_estimators=13; total time=  12.2s\n",
      "[CV] END ccp_alpha=0.01, max_depth=9, max_samples=0.2, min_samples_leaf=6, min_samples_split=6, n_estimators=18; total time=  31.5s\n",
      "[CV] END ccp_alpha=0.01, max_depth=9, max_samples=0.2, min_samples_leaf=6, min_samples_split=6, n_estimators=18; total time=  30.0s\n",
      "[CV] END ccp_alpha=0.01, max_depth=9, max_samples=0.2, min_samples_leaf=6, min_samples_split=6, n_estimators=18; total time=  32.2s\n",
      "[CV] END ccp_alpha=0.01, max_depth=9, max_samples=0.2, min_samples_leaf=6, min_samples_split=6, n_estimators=18; total time=  32.5s\n",
      "[CV] END ccp_alpha=0.01, max_depth=9, max_samples=0.2, min_samples_leaf=6, min_samples_split=6, n_estimators=18; total time=  29.2s\n",
      "[CV] END ccp_alpha=0.1, max_depth=13, max_samples=0.2, min_samples_leaf=9, min_samples_split=3, n_estimators=17; total time=  37.5s\n",
      "[CV] END ccp_alpha=0.1, max_depth=13, max_samples=0.2, min_samples_leaf=9, min_samples_split=3, n_estimators=17; total time=  39.4s\n",
      "[CV] END ccp_alpha=0.1, max_depth=13, max_samples=0.2, min_samples_leaf=9, min_samples_split=3, n_estimators=17; total time=  39.1s\n",
      "[CV] END ccp_alpha=0.1, max_depth=13, max_samples=0.2, min_samples_leaf=9, min_samples_split=3, n_estimators=17; total time=  38.6s\n",
      "[CV] END ccp_alpha=0.1, max_depth=13, max_samples=0.2, min_samples_leaf=9, min_samples_split=3, n_estimators=17; total time=  39.9s\n",
      "[CV] END ccp_alpha=0.001, max_depth=5, max_samples=0.2, min_samples_leaf=2, min_samples_split=3, n_estimators=11; total time=  11.0s\n",
      "[CV] END ccp_alpha=0.001, max_depth=5, max_samples=0.2, min_samples_leaf=2, min_samples_split=3, n_estimators=11; total time=  10.8s\n",
      "[CV] END ccp_alpha=0.001, max_depth=5, max_samples=0.2, min_samples_leaf=2, min_samples_split=3, n_estimators=11; total time=  11.3s\n",
      "[CV] END ccp_alpha=0.001, max_depth=5, max_samples=0.2, min_samples_leaf=2, min_samples_split=3, n_estimators=11; total time=  11.6s\n",
      "[CV] END ccp_alpha=0.001, max_depth=5, max_samples=0.2, min_samples_leaf=2, min_samples_split=3, n_estimators=11; total time=  11.1s\n",
      "[CV] END ccp_alpha=0.001, max_depth=8, max_samples=0.2, min_samples_leaf=1, min_samples_split=3, n_estimators=12; total time=  18.5s\n",
      "[CV] END ccp_alpha=0.001, max_depth=8, max_samples=0.2, min_samples_leaf=1, min_samples_split=3, n_estimators=12; total time=  18.2s\n",
      "[CV] END ccp_alpha=0.001, max_depth=8, max_samples=0.2, min_samples_leaf=1, min_samples_split=3, n_estimators=12; total time=  17.7s\n",
      "[CV] END ccp_alpha=0.001, max_depth=8, max_samples=0.2, min_samples_leaf=1, min_samples_split=3, n_estimators=12; total time=  18.5s\n",
      "[CV] END ccp_alpha=0.001, max_depth=8, max_samples=0.2, min_samples_leaf=1, min_samples_split=3, n_estimators=12; total time=  17.5s\n",
      "[CV] END ccp_alpha=0.001, max_depth=9, max_samples=0.2, min_samples_leaf=2, min_samples_split=6, n_estimators=11; total time=  18.5s\n",
      "[CV] END ccp_alpha=0.001, max_depth=9, max_samples=0.2, min_samples_leaf=2, min_samples_split=6, n_estimators=11; total time=  19.5s\n",
      "[CV] END ccp_alpha=0.001, max_depth=9, max_samples=0.2, min_samples_leaf=2, min_samples_split=6, n_estimators=11; total time=  21.3s\n",
      "[CV] END ccp_alpha=0.001, max_depth=9, max_samples=0.2, min_samples_leaf=2, min_samples_split=6, n_estimators=11; total time=  18.6s\n",
      "[CV] END ccp_alpha=0.001, max_depth=9, max_samples=0.2, min_samples_leaf=2, min_samples_split=6, n_estimators=11; total time=  19.9s\n",
      "[CV] END ccp_alpha=0, max_depth=11, max_samples=0.2, min_samples_leaf=7, min_samples_split=4, n_estimators=19; total time=  40.7s\n",
      "[CV] END ccp_alpha=0, max_depth=11, max_samples=0.2, min_samples_leaf=7, min_samples_split=4, n_estimators=19; total time=  40.6s\n",
      "[CV] END ccp_alpha=0, max_depth=11, max_samples=0.2, min_samples_leaf=7, min_samples_split=4, n_estimators=19; total time=  38.4s\n",
      "[CV] END ccp_alpha=0, max_depth=11, max_samples=0.2, min_samples_leaf=7, min_samples_split=4, n_estimators=19; total time=  39.4s\n",
      "[CV] END ccp_alpha=0, max_depth=11, max_samples=0.2, min_samples_leaf=7, min_samples_split=4, n_estimators=19; total time=  42.0s\n",
      "[CV] END ccp_alpha=0.01, max_depth=9, max_samples=0.2, min_samples_leaf=8, min_samples_split=8, n_estimators=14; total time=  25.3s\n",
      "[CV] END ccp_alpha=0.01, max_depth=9, max_samples=0.2, min_samples_leaf=8, min_samples_split=8, n_estimators=14; total time=  25.0s\n",
      "[CV] END ccp_alpha=0.01, max_depth=9, max_samples=0.2, min_samples_leaf=8, min_samples_split=8, n_estimators=14; total time=  22.8s\n",
      "[CV] END ccp_alpha=0.01, max_depth=9, max_samples=0.2, min_samples_leaf=8, min_samples_split=8, n_estimators=14; total time=  23.5s\n",
      "[CV] END ccp_alpha=0.01, max_depth=9, max_samples=0.2, min_samples_leaf=8, min_samples_split=8, n_estimators=14; total time=  26.3s\n",
      "[CV] END ccp_alpha=0.001, max_depth=9, max_samples=0.2, min_samples_leaf=1, min_samples_split=8, n_estimators=11; total time=  20.6s\n",
      "[CV] END ccp_alpha=0.001, max_depth=9, max_samples=0.2, min_samples_leaf=1, min_samples_split=8, n_estimators=11; total time=  20.4s\n",
      "[CV] END ccp_alpha=0.001, max_depth=9, max_samples=0.2, min_samples_leaf=1, min_samples_split=8, n_estimators=11; total time=  22.0s\n",
      "[CV] END ccp_alpha=0.001, max_depth=9, max_samples=0.2, min_samples_leaf=1, min_samples_split=8, n_estimators=11; total time=  22.8s\n",
      "[CV] END ccp_alpha=0.001, max_depth=9, max_samples=0.2, min_samples_leaf=1, min_samples_split=8, n_estimators=11; total time=  20.3s\n"
     ]
    },
    {
     "data": {
      "text/html": [
       "<style>#sk-container-id-4 {color: black;}#sk-container-id-4 pre{padding: 0;}#sk-container-id-4 div.sk-toggleable {background-color: white;}#sk-container-id-4 label.sk-toggleable__label {cursor: pointer;display: block;width: 100%;margin-bottom: 0;padding: 0.3em;box-sizing: border-box;text-align: center;}#sk-container-id-4 label.sk-toggleable__label-arrow:before {content: \"▸\";float: left;margin-right: 0.25em;color: #696969;}#sk-container-id-4 label.sk-toggleable__label-arrow:hover:before {color: black;}#sk-container-id-4 div.sk-estimator:hover label.sk-toggleable__label-arrow:before {color: black;}#sk-container-id-4 div.sk-toggleable__content {max-height: 0;max-width: 0;overflow: hidden;text-align: left;background-color: #f0f8ff;}#sk-container-id-4 div.sk-toggleable__content pre {margin: 0.2em;color: black;border-radius: 0.25em;background-color: #f0f8ff;}#sk-container-id-4 input.sk-toggleable__control:checked~div.sk-toggleable__content {max-height: 200px;max-width: 100%;overflow: auto;}#sk-container-id-4 input.sk-toggleable__control:checked~label.sk-toggleable__label-arrow:before {content: \"▾\";}#sk-container-id-4 div.sk-estimator input.sk-toggleable__control:checked~label.sk-toggleable__label {background-color: #d4ebff;}#sk-container-id-4 div.sk-label input.sk-toggleable__control:checked~label.sk-toggleable__label {background-color: #d4ebff;}#sk-container-id-4 input.sk-hidden--visually {border: 0;clip: rect(1px 1px 1px 1px);clip: rect(1px, 1px, 1px, 1px);height: 1px;margin: -1px;overflow: hidden;padding: 0;position: absolute;width: 1px;}#sk-container-id-4 div.sk-estimator {font-family: monospace;background-color: #f0f8ff;border: 1px dotted black;border-radius: 0.25em;box-sizing: border-box;margin-bottom: 0.5em;}#sk-container-id-4 div.sk-estimator:hover {background-color: #d4ebff;}#sk-container-id-4 div.sk-parallel-item::after {content: \"\";width: 100%;border-bottom: 1px solid gray;flex-grow: 1;}#sk-container-id-4 div.sk-label:hover label.sk-toggleable__label {background-color: #d4ebff;}#sk-container-id-4 div.sk-serial::before {content: \"\";position: absolute;border-left: 1px solid gray;box-sizing: border-box;top: 0;bottom: 0;left: 50%;z-index: 0;}#sk-container-id-4 div.sk-serial {display: flex;flex-direction: column;align-items: center;background-color: white;padding-right: 0.2em;padding-left: 0.2em;position: relative;}#sk-container-id-4 div.sk-item {position: relative;z-index: 1;}#sk-container-id-4 div.sk-parallel {display: flex;align-items: stretch;justify-content: center;background-color: white;position: relative;}#sk-container-id-4 div.sk-item::before, #sk-container-id-4 div.sk-parallel-item::before {content: \"\";position: absolute;border-left: 1px solid gray;box-sizing: border-box;top: 0;bottom: 0;left: 50%;z-index: -1;}#sk-container-id-4 div.sk-parallel-item {display: flex;flex-direction: column;z-index: 1;position: relative;background-color: white;}#sk-container-id-4 div.sk-parallel-item:first-child::after {align-self: flex-end;width: 50%;}#sk-container-id-4 div.sk-parallel-item:last-child::after {align-self: flex-start;width: 50%;}#sk-container-id-4 div.sk-parallel-item:only-child::after {width: 0;}#sk-container-id-4 div.sk-dashed-wrapped {border: 1px dashed gray;margin: 0 0.4em 0.5em 0.4em;box-sizing: border-box;padding-bottom: 0.4em;background-color: white;}#sk-container-id-4 div.sk-label label {font-family: monospace;font-weight: bold;display: inline-block;line-height: 1.2em;}#sk-container-id-4 div.sk-label-container {text-align: center;}#sk-container-id-4 div.sk-container {/* jupyter's `normalize.less` sets `[hidden] { display: none; }` but bootstrap.min.css set `[hidden] { display: none !important; }` so we also need the `!important` here to be able to override the default hidden behavior on the sphinx rendered scikit-learn.org. See: https://github.com/scikit-learn/scikit-learn/issues/21755 */display: inline-block !important;position: relative;}#sk-container-id-4 div.sk-text-repr-fallback {display: none;}</style><div id=\"sk-container-id-4\" class=\"sk-top-container\"><div class=\"sk-text-repr-fallback\"><pre>RandomizedSearchCV(estimator=RandomForestRegressor(n_jobs=-1, random_state=10),\n",
       "                   param_distributions={&#x27;ccp_alpha&#x27;: [0, 0.001, 0.01, 0.1],\n",
       "                                        &#x27;max_depth&#x27;: [5, 6, 7, 8, 9, 10, 11, 12,\n",
       "                                                      13, 14],\n",
       "                                        &#x27;max_samples&#x27;: [0.2],\n",
       "                                        &#x27;min_samples_leaf&#x27;: [1, 2, 3, 4, 5, 6,\n",
       "                                                             7, 8, 9],\n",
       "                                        &#x27;min_samples_split&#x27;: [2, 3, 4, 5, 6, 7,\n",
       "                                                              8, 9],\n",
       "                                        &#x27;n_estimators&#x27;: [10, 11, 12, 13, 14, 15,\n",
       "                                                         16, 17, 18, 19]},\n",
       "                   random_state=10, scoring=&#x27;r2&#x27;, verbose=2)</pre><b>In a Jupyter environment, please rerun this cell to show the HTML representation or trust the notebook. <br />On GitHub, the HTML representation is unable to render, please try loading this page with nbviewer.org.</b></div><div class=\"sk-container\" hidden><div class=\"sk-item sk-dashed-wrapped\"><div class=\"sk-label-container\"><div class=\"sk-label sk-toggleable\"><input class=\"sk-toggleable__control sk-hidden--visually\" id=\"sk-estimator-id-8\" type=\"checkbox\" ><label for=\"sk-estimator-id-8\" class=\"sk-toggleable__label sk-toggleable__label-arrow\">RandomizedSearchCV</label><div class=\"sk-toggleable__content\"><pre>RandomizedSearchCV(estimator=RandomForestRegressor(n_jobs=-1, random_state=10),\n",
       "                   param_distributions={&#x27;ccp_alpha&#x27;: [0, 0.001, 0.01, 0.1],\n",
       "                                        &#x27;max_depth&#x27;: [5, 6, 7, 8, 9, 10, 11, 12,\n",
       "                                                      13, 14],\n",
       "                                        &#x27;max_samples&#x27;: [0.2],\n",
       "                                        &#x27;min_samples_leaf&#x27;: [1, 2, 3, 4, 5, 6,\n",
       "                                                             7, 8, 9],\n",
       "                                        &#x27;min_samples_split&#x27;: [2, 3, 4, 5, 6, 7,\n",
       "                                                              8, 9],\n",
       "                                        &#x27;n_estimators&#x27;: [10, 11, 12, 13, 14, 15,\n",
       "                                                         16, 17, 18, 19]},\n",
       "                   random_state=10, scoring=&#x27;r2&#x27;, verbose=2)</pre></div></div></div><div class=\"sk-parallel\"><div class=\"sk-parallel-item\"><div class=\"sk-item\"><div class=\"sk-label-container\"><div class=\"sk-label sk-toggleable\"><input class=\"sk-toggleable__control sk-hidden--visually\" id=\"sk-estimator-id-9\" type=\"checkbox\" ><label for=\"sk-estimator-id-9\" class=\"sk-toggleable__label sk-toggleable__label-arrow\">estimator: RandomForestRegressor</label><div class=\"sk-toggleable__content\"><pre>RandomForestRegressor(n_jobs=-1, random_state=10)</pre></div></div></div><div class=\"sk-serial\"><div class=\"sk-item\"><div class=\"sk-estimator sk-toggleable\"><input class=\"sk-toggleable__control sk-hidden--visually\" id=\"sk-estimator-id-10\" type=\"checkbox\" ><label for=\"sk-estimator-id-10\" class=\"sk-toggleable__label sk-toggleable__label-arrow\">RandomForestRegressor</label><div class=\"sk-toggleable__content\"><pre>RandomForestRegressor(n_jobs=-1, random_state=10)</pre></div></div></div></div></div></div></div></div></div></div>"
      ],
      "text/plain": [
       "RandomizedSearchCV(estimator=RandomForestRegressor(n_jobs=-1, random_state=10),\n",
       "                   param_distributions={'ccp_alpha': [0, 0.001, 0.01, 0.1],\n",
       "                                        'max_depth': [5, 6, 7, 8, 9, 10, 11, 12,\n",
       "                                                      13, 14],\n",
       "                                        'max_samples': [0.2],\n",
       "                                        'min_samples_leaf': [1, 2, 3, 4, 5, 6,\n",
       "                                                             7, 8, 9],\n",
       "                                        'min_samples_split': [2, 3, 4, 5, 6, 7,\n",
       "                                                              8, 9],\n",
       "                                        'n_estimators': [10, 11, 12, 13, 14, 15,\n",
       "                                                         16, 17, 18, 19]},\n",
       "                   random_state=10, scoring='r2', verbose=2)"
      ]
     },
     "execution_count": 95,
     "metadata": {},
     "output_type": "execute_result"
    }
   ],
   "source": [
    "rf_rs.fit(X_train, y_train)"
   ]
  },
  {
   "cell_type": "code",
   "execution_count": 96,
   "metadata": {},
   "outputs": [
    {
     "data": {
      "text/plain": [
       "0.7923369462748235"
      ]
     },
     "execution_count": 96,
     "metadata": {},
     "output_type": "execute_result"
    }
   ],
   "source": [
    "rf_rs.best_score_ \n",
    "\n",
    "# ms=0.001 -> \n",
    "# 0.759607066616578\n",
    "\n",
    "# ms=0.01\n",
    "# 0.8019836374427675\n",
    "\n",
    "# ms=0.1\n",
    "# 0.8198670082118591\n",
    "\n",
    "# ms=0.1 svd\n",
    "# 0.7682596872865625\n"
   ]
  },
  {
   "cell_type": "code",
   "execution_count": 117,
   "metadata": {},
   "outputs": [
    {
     "data": {
      "text/plain": [
       "{'n_estimators': 17,\n",
       " 'min_samples_split': 3,\n",
       " 'min_samples_leaf': 9,\n",
       " 'max_samples': 0.2,\n",
       " 'max_depth': 13,\n",
       " 'ccp_alpha': 0.1}"
      ]
     },
     "execution_count": 117,
     "metadata": {},
     "output_type": "execute_result"
    }
   ],
   "source": [
    "rf_rs.best_params_\n",
    "\n",
    "# ms=0.1\n",
    "# {'n_estimators': 18,\n",
    "#  'min_samples_split': 6,\n",
    "#  'min_samples_leaf': 6,\n",
    "#  'max_samples': 0.1,\n",
    "#  'max_depth': 11,\n",
    "#  'ccp_alpha': 0.1}\n",
    "\n",
    "# ms=0.2\n",
    "# {'n_estimators': 17,\n",
    "#  'min_samples_split': 3,\n",
    "#  'min_samples_leaf': 9,\n",
    "#  'max_samples': 0.2,\n",
    "#  'max_depth': 13,\n",
    "#  'ccp_alpha': 0.1}"
   ]
  },
  {
   "cell_type": "code",
   "execution_count": 118,
   "metadata": {},
   "outputs": [
    {
     "name": "stdout",
     "output_type": "stream",
     "text": [
      "0.7298531873984379\n"
     ]
    }
   ],
   "source": [
    "y_pred = rf_rs.best_estimator_.predict(X_test)\n",
    "print(metrics.r2_score(y_pred, y_test)) \n",
    "\n",
    "# ms=0.01\n",
    "# 0.6485229513084686\n",
    "\n",
    "# ms=0.1 \n",
    "# 0.7717527292153455\n",
    "\n",
    "# ms=0.2 svd\n",
    "# 0.7298531873984379"
   ]
  },
  {
   "cell_type": "markdown",
   "metadata": {},
   "source": [
    "#### Random Forest"
   ]
  },
  {
   "cell_type": "markdown",
   "metadata": {},
   "source": [
    "Using best parameters from RandomizedSearchCV.  \n",
    "77% R2 on test set was got from training from Xencoded data set."
   ]
  },
  {
   "cell_type": "code",
   "execution_count": 111,
   "metadata": {},
   "outputs": [
    {
     "data": {
      "text/plain": [
       "((2267576, 921), (566895, 921), (2267576,), (566895,))"
      ]
     },
     "execution_count": 111,
     "metadata": {},
     "output_type": "execute_result"
    }
   ],
   "source": [
    "X_train, X_test, y_train, y_test = train_test_split(Xencoded, y, test_size=0.2, random_state=10)\n",
    "\n",
    "X_train.shape, X_test.shape, y_train.shape, y_test.shape"
   ]
  },
  {
   "cell_type": "code",
   "execution_count": 112,
   "metadata": {},
   "outputs": [],
   "source": [
    "params = {\n",
    "    'n_estimators': 18,\n",
    "    'min_samples_split': 6,\n",
    "    'min_samples_leaf': 6,\n",
    "    'max_samples': 0.1,\n",
    "    'max_depth': 11,\n",
    "    'ccp_alpha': 0.1,\n",
    "    \"random_state\": 10,\n",
    "    \"n_jobs\": -1,\n",
    "    \"bootstrap\": True,\n",
    "}\n",
    "\n",
    "rf = RandomForestRegressor(**params)\n",
    "\n",
    "rf = rf.fit(X_train, y_train)"
   ]
  },
  {
   "cell_type": "code",
   "execution_count": 113,
   "metadata": {},
   "outputs": [
    {
     "name": "stdout",
     "output_type": "stream",
     "text": [
      "0.7717527292153455\n"
     ]
    }
   ],
   "source": [
    "y_pred = rf.predict(X_test)\n",
    "print(metrics.r2_score(y_pred, y_test)) #0.6485229513084686"
   ]
  }
 ],
 "metadata": {
  "kernelspec": {
   "display_name": "Python 3",
   "language": "python",
   "name": "python3"
  },
  "language_info": {
   "codemirror_mode": {
    "name": "ipython",
    "version": 3
   },
   "file_extension": ".py",
   "mimetype": "text/x-python",
   "name": "python",
   "nbconvert_exporter": "python",
   "pygments_lexer": "ipython3",
   "version": "3.11.4"
  }
 },
 "nbformat": 4,
 "nbformat_minor": 2
}
