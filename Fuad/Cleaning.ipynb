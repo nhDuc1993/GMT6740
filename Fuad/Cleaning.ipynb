{
 "cells": [
  {
   "cell_type": "code",
   "execution_count": 24,
   "metadata": {},
   "outputs": [],
   "source": [
    "import pandas as pd\n",
    "from sklearn.impute import SimpleImputer\n",
    "from sklearn.impute import KNNImputer\n",
    "import numpy as np"
   ]
  },
  {
   "cell_type": "code",
   "execution_count": 25,
   "metadata": {},
   "outputs": [
    {
     "name": "stderr",
     "output_type": "stream",
     "text": [
      "C:\\Users\\fuadj\\AppData\\Local\\Temp\\ipykernel_23680\\2948258669.py:1: DtypeWarning: Columns (7,12) have mixed types. Specify dtype option on import or set low_memory=False.\n",
      "  data = pd.read_csv('data.csv')\n"
     ]
    }
   ],
   "source": [
    "data = pd.read_csv('data.csv')"
   ]
  },
  {
   "cell_type": "code",
   "execution_count": 26,
   "metadata": {},
   "outputs": [],
   "source": [
    "data.dropna(subset=['model', 'maker'], inplace=True)"
   ]
  },
  {
   "cell_type": "code",
   "execution_count": 27,
   "metadata": {},
   "outputs": [
    {
     "name": "stderr",
     "output_type": "stream",
     "text": [
      "C:\\Users\\fuadj\\AppData\\Local\\Temp\\ipykernel_23680\\3122660338.py:7: UserWarning: Boolean Series key will be reindexed to match DataFrame index.\n",
      "  df = df[~condition_seats]\n"
     ]
    }
   ],
   "source": [
    "df = data[['model', 'maker', 'transmission','door_count','seat_count','fuel_type']]\n",
    "\n",
    "condition_doors = (df['door_count'] > 6)\n",
    "condition_seats = (df['seat_count'] > 8)\n",
    "\n",
    "df = df[~condition_doors]\n",
    "df = df[~condition_seats]"
   ]
  },
  {
   "cell_type": "code",
   "execution_count": 28,
   "metadata": {},
   "outputs": [],
   "source": [
    "grouped = df.groupby(['maker', 'model'])\n",
    "\n",
    "# Define a function to fill missing values within these groups\n",
    "def fill_missing(group):\n",
    "    if group['transmission'].notnull().any():\n",
    "        group['transmission'].fillna(group['transmission'].mode().iloc[0], inplace=True)\n",
    "    if group['door_count'].notnull().any():\n",
    "        group['door_count'].fillna(group['door_count'].mode().iloc[0], inplace=True)\n",
    "    if group['seat_count'].notnull().any():\n",
    "        group['seat_count'].fillna(group['seat_count'].mode().iloc[0], inplace=True)\n",
    "    if group['fuel_type'].notnull().any():\n",
    "        group['fuel_type'].fillna(group['fuel_type'].mode().iloc[0], inplace=True)\n",
    "    return group\n",
    "\n",
    "# Apply the function to fill missing values within each group\n",
    "filled = grouped.apply(fill_missing)"
   ]
  },
  {
   "cell_type": "code",
   "execution_count": 29,
   "metadata": {},
   "outputs": [],
   "source": [
    "# tr = grouped['transmission'].apply(lambda x: x.mode().iloc[0] if not x.mode().empty else None)\n",
    "# ft = grouped['fuel_type'].apply(lambda x: x.mode().iloc[0] if not x.mode().empty else None)\n",
    "# sc = grouped['seat_count'].apply(lambda x: x.mode().iloc[0] if not x.mode().empty else None)\n",
    "# dc = grouped['door_count'].apply(lambda x: x.mode().iloc[0] if not x.mode().empty else None)"
   ]
  },
  {
   "cell_type": "code",
   "execution_count": 31,
   "metadata": {},
   "outputs": [],
   "source": [
    "newdf = filled.apply(lambda x: x.reset_index(drop = True)).reset_index()"
   ]
  },
  {
   "cell_type": "code",
   "execution_count": 32,
   "metadata": {},
   "outputs": [],
   "source": [
    "newdf = newdf.drop(columns=['index'], axis=1)"
   ]
  },
  {
   "cell_type": "code",
   "execution_count": 33,
   "metadata": {},
   "outputs": [],
   "source": [
    "newdf = newdf.dropna()"
   ]
  },
  {
   "cell_type": "code",
   "execution_count": 34,
   "metadata": {},
   "outputs": [
    {
     "data": {
      "text/plain": [
       "model           0\n",
       "maker           0\n",
       "transmission    0\n",
       "door_count      0\n",
       "seat_count      0\n",
       "fuel_type       0\n",
       "dtype: int64"
      ]
     },
     "execution_count": 34,
     "metadata": {},
     "output_type": "execute_result"
    }
   ],
   "source": [
    "newdf.isna().sum()"
   ]
  }
 ],
 "metadata": {
  "kernelspec": {
   "display_name": "Python 3",
   "language": "python",
   "name": "python3"
  },
  "language_info": {
   "codemirror_mode": {
    "name": "ipython",
    "version": 3
   },
   "file_extension": ".py",
   "mimetype": "text/x-python",
   "name": "python",
   "nbconvert_exporter": "python",
   "pygments_lexer": "ipython3",
   "version": "3.11.4"
  }
 },
 "nbformat": 4,
 "nbformat_minor": 2
}
